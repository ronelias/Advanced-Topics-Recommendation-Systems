{
 "cells": [
  {
   "cell_type": "code",
   "execution_count": 1,
   "id": "f07f204d-b129-41bb-ad9d-e52b522c8148",
   "metadata": {},
   "outputs": [
    {
     "name": "stdout",
     "output_type": "stream",
     "text": [
      "Collecting nbimporter\n",
      "  Downloading nbimporter-0.3.4-py3-none-any.whl.metadata (252 bytes)\n",
      "Downloading nbimporter-0.3.4-py3-none-any.whl (4.9 kB)\n",
      "Installing collected packages: nbimporter\n",
      "Successfully installed nbimporter-0.3.4\n",
      "\u001b[33mWARNING: Running pip as the 'root' user can result in broken permissions and conflicting behaviour with the system package manager. It is recommended to use a virtual environment instead: https://pip.pypa.io/warnings/venv\u001b[0m\u001b[33m\n",
      "\u001b[0m"
     ]
    }
   ],
   "source": [
    "!pip install nbimporter"
   ]
  },
  {
   "cell_type": "code",
   "execution_count": 28,
   "id": "190c8f45-8aef-4c74-ae2d-94ed3842955b",
   "metadata": {},
   "outputs": [
    {
     "name": "stdout",
     "output_type": "stream",
     "text": [
      "Collecting ipynb\n",
      "  Downloading ipynb-0.5.1-py3-none-any.whl.metadata (303 bytes)\n",
      "Downloading ipynb-0.5.1-py3-none-any.whl (6.9 kB)\n",
      "Installing collected packages: ipynb\n",
      "Successfully installed ipynb-0.5.1\n",
      "\u001b[33mWARNING: Running pip as the 'root' user can result in broken permissions and conflicting behaviour with the system package manager. It is recommended to use a virtual environment instead: https://pip.pypa.io/warnings/venv\u001b[0m\u001b[33m\n",
      "\u001b[0m"
     ]
    }
   ],
   "source": [
    "!pip install ipynb"
   ]
  },
  {
   "cell_type": "code",
   "execution_count": 26,
   "id": "f86f3f90-9c78-42fa-8bd8-e83c1a7a01d0",
   "metadata": {},
   "outputs": [],
   "source": [
    "import torch\n",
    "import torch.nn as nn\n",
    "import torch.optim as optim\n",
    "import pandas as pd\n",
    "import numpy as np\n",
    "from torch.utils.data import Dataset, DataLoader\n",
    "from tqdm import tqdm\n",
    "from pathlib import Path\n",
    "import pickle\n",
    "import nbimporter\n",
    "import torch.nn.functional as F"
   ]
  },
  {
   "cell_type": "code",
   "execution_count": 27,
   "id": "f654d898-ee78-4a04-888e-4560dca4e0e7",
   "metadata": {},
   "outputs": [],
   "source": [
    "# Import architectures\n",
    "from recommenders_architecture import *"
   ]
  },
  {
   "cell_type": "markdown",
   "id": "30b25565-a06b-4827-a30d-b4fb1aea74c4",
   "metadata": {},
   "source": [
    "### Load data"
   ]
  },
  {
   "cell_type": "code",
   "execution_count": 28,
   "id": "10fe0bfc-9192-4912-a6d7-f679269adca9",
   "metadata": {},
   "outputs": [],
   "source": [
    "# ======= Load Pairwise Training Data =======\n",
    "current_dir = Path.cwd()\n",
    "\n",
    "pairwise_data_train_path= current_dir.parent / \"data\" / \"pairwise\"/\"pairwise_train.csv\"\n",
    "train = pd.read_csv(pairwise_data_train_path)\n",
    "pairwise_data_val_path= current_dir.parent / \"data\" / \"pairwise\"/\"pairwise_val.csv\"\n",
    "val = pd.read_csv(pairwise_data_val_path)\n",
    "\n",
    "\n",
    "# ======= Load Item Metadata (1027-dim vectors) =======\n",
    "\n",
    "encoded_dir = current_dir.parent / \"data\" / \"encoded\"\n",
    "encoded_text_file = encoded_dir / \"embedding_dict_with_price_longformer_idx.pt\"\n",
    "encoded_images_file = encoded_dir / \"images_encodings.pkl\"\n",
    "encoded_metadata_text_image_file = encoded_dir / \"item_metadata_text_image.pt\"\n",
    "auto_encoder_metadata_file = encoded_dir / \"compressed_all_data_encodings_256.pkl\"\n",
    "\n",
    "\n",
    "text_embeddings = torch.load(encoded_text_file)\n",
    "# with open(encoded_images_file, 'rb') as f:\n",
    "#     images_embeddings = pickle.load(f)\n"
   ]
  },
  {
   "cell_type": "code",
   "execution_count": 29,
   "id": "c7c9221b-4779-4659-b0b8-12c202f07640",
   "metadata": {},
   "outputs": [
    {
     "data": {
      "text/html": [
       "<div>\n",
       "<style scoped>\n",
       "    .dataframe tbody tr th:only-of-type {\n",
       "        vertical-align: middle;\n",
       "    }\n",
       "\n",
       "    .dataframe tbody tr th {\n",
       "        vertical-align: top;\n",
       "    }\n",
       "\n",
       "    .dataframe thead th {\n",
       "        text-align: right;\n",
       "    }\n",
       "</style>\n",
       "<table border=\"1\" class=\"dataframe\">\n",
       "  <thead>\n",
       "    <tr style=\"text-align: right;\">\n",
       "      <th></th>\n",
       "      <th>user_id</th>\n",
       "      <th>item1_id</th>\n",
       "      <th>item2_id</th>\n",
       "      <th>label</th>\n",
       "      <th>timestamp</th>\n",
       "      <th>rating</th>\n",
       "    </tr>\n",
       "  </thead>\n",
       "  <tbody>\n",
       "    <tr>\n",
       "      <th>0</th>\n",
       "      <td>0</td>\n",
       "      <td>0</td>\n",
       "      <td>13349</td>\n",
       "      <td>0</td>\n",
       "      <td>1349041740000</td>\n",
       "      <td>5.0</td>\n",
       "    </tr>\n",
       "    <tr>\n",
       "      <th>1</th>\n",
       "      <td>0</td>\n",
       "      <td>22959</td>\n",
       "      <td>1</td>\n",
       "      <td>1</td>\n",
       "      <td>1370958618000</td>\n",
       "      <td>1.0</td>\n",
       "    </tr>\n",
       "    <tr>\n",
       "      <th>2</th>\n",
       "      <td>0</td>\n",
       "      <td>97562</td>\n",
       "      <td>2</td>\n",
       "      <td>2</td>\n",
       "      <td>1440038761000</td>\n",
       "      <td>5.0</td>\n",
       "    </tr>\n",
       "    <tr>\n",
       "      <th>3</th>\n",
       "      <td>0</td>\n",
       "      <td>23003</td>\n",
       "      <td>3</td>\n",
       "      <td>3</td>\n",
       "      <td>1483320893000</td>\n",
       "      <td>3.0</td>\n",
       "    </tr>\n",
       "    <tr>\n",
       "      <th>4</th>\n",
       "      <td>1</td>\n",
       "      <td>179127</td>\n",
       "      <td>5</td>\n",
       "      <td>5</td>\n",
       "      <td>1600753653091</td>\n",
       "      <td>5.0</td>\n",
       "    </tr>\n",
       "    <tr>\n",
       "      <th>...</th>\n",
       "      <td>...</td>\n",
       "      <td>...</td>\n",
       "      <td>...</td>\n",
       "      <td>...</td>\n",
       "      <td>...</td>\n",
       "      <td>...</td>\n",
       "    </tr>\n",
       "    <tr>\n",
       "      <th>8030471</th>\n",
       "      <td>1096899</td>\n",
       "      <td>26803</td>\n",
       "      <td>32852</td>\n",
       "      <td>32852</td>\n",
       "      <td>1692552324736</td>\n",
       "      <td>5.0</td>\n",
       "    </tr>\n",
       "    <tr>\n",
       "      <th>8030472</th>\n",
       "      <td>1096899</td>\n",
       "      <td>177842</td>\n",
       "      <td>10643</td>\n",
       "      <td>10643</td>\n",
       "      <td>1692552357767</td>\n",
       "      <td>5.0</td>\n",
       "    </tr>\n",
       "    <tr>\n",
       "      <th>8030473</th>\n",
       "      <td>1096900</td>\n",
       "      <td>183765</td>\n",
       "      <td>86867</td>\n",
       "      <td>183765</td>\n",
       "      <td>1600792118191</td>\n",
       "      <td>1.0</td>\n",
       "    </tr>\n",
       "    <tr>\n",
       "      <th>8030474</th>\n",
       "      <td>1096900</td>\n",
       "      <td>155119</td>\n",
       "      <td>99585</td>\n",
       "      <td>155119</td>\n",
       "      <td>1615811081145</td>\n",
       "      <td>1.0</td>\n",
       "    </tr>\n",
       "    <tr>\n",
       "      <th>8030475</th>\n",
       "      <td>1096900</td>\n",
       "      <td>25515</td>\n",
       "      <td>75800</td>\n",
       "      <td>25515</td>\n",
       "      <td>1693494834857</td>\n",
       "      <td>4.0</td>\n",
       "    </tr>\n",
       "  </tbody>\n",
       "</table>\n",
       "<p>8030476 rows × 6 columns</p>\n",
       "</div>"
      ],
      "text/plain": [
       "         user_id  item1_id  item2_id   label      timestamp  rating\n",
       "0              0         0     13349       0  1349041740000     5.0\n",
       "1              0     22959         1       1  1370958618000     1.0\n",
       "2              0     97562         2       2  1440038761000     5.0\n",
       "3              0     23003         3       3  1483320893000     3.0\n",
       "4              1    179127         5       5  1600753653091     5.0\n",
       "...          ...       ...       ...     ...            ...     ...\n",
       "8030471  1096899     26803     32852   32852  1692552324736     5.0\n",
       "8030472  1096899    177842     10643   10643  1692552357767     5.0\n",
       "8030473  1096900    183765     86867  183765  1600792118191     1.0\n",
       "8030474  1096900    155119     99585  155119  1615811081145     1.0\n",
       "8030475  1096900     25515     75800   25515  1693494834857     4.0\n",
       "\n",
       "[8030476 rows x 6 columns]"
      ]
     },
     "execution_count": 29,
     "metadata": {},
     "output_type": "execute_result"
    }
   ],
   "source": [
    "train"
   ]
  },
  {
   "cell_type": "code",
   "execution_count": 30,
   "id": "e615d33e-004d-4865-9a39-9a67ed9e05b8",
   "metadata": {},
   "outputs": [],
   "source": [
    "\n",
    "# ======= Configurations =======\n",
    "EMBEDDING_DIM = 24  # User embedding size\n",
    "ITEM_FEATURE_DIM = 1027# item_metadata[0].shape # Length of item metadata vector (text+image)\n",
    "#ITEM_FEATURE_DIM = 256 # After autoencoder\n",
    "BATCH_SIZE = 512\n",
    "EPOCHS = 10\n",
    "LR = 0.00001  # Learning rate\n",
    "VAL_SPLIT = 0.1"
   ]
  },
  {
   "cell_type": "code",
   "execution_count": 31,
   "id": "e5becac4-7be8-43c3-9cf4-d3213727da42",
   "metadata": {},
   "outputs": [],
   "source": [
    "device = torch.device(\"cuda\" if torch.cuda.is_available() else \"cpu\")"
   ]
  },
  {
   "cell_type": "markdown",
   "id": "a136900f-23aa-4b6a-8480-548442e840fd",
   "metadata": {
    "jp-MarkdownHeadingCollapsed": true
   },
   "source": [
    "### if we choose to use Auto encoder data instead of the long text embeddings"
   ]
  },
  {
   "cell_type": "code",
   "execution_count": 13,
   "id": "df95d1de-f2c1-4ce4-a80d-a4394052ec02",
   "metadata": {},
   "outputs": [],
   "source": [
    "# with open(auto_encoder_metadata_file, 'rb') as f:\n",
    "#     item_metadata = pickle.load(f)"
   ]
  },
  {
   "cell_type": "code",
   "execution_count": 92,
   "id": "9286931c-b1be-4d6c-a37a-e823b87746c5",
   "metadata": {},
   "outputs": [],
   "source": [
    "\n",
    "# item_embeddings_tensor = torch.zeros(len(item_metadata), item_metadata[0].size(0))\n",
    "# for idx, (item_id, embed) in enumerate(item_metadata.items()):\n",
    "#     item_embeddings_tensor[idx] = embed\n"
   ]
  },
  {
   "cell_type": "code",
   "execution_count": 93,
   "id": "62226822-cf96-4ad8-89ee-acb3dd7c5d00",
   "metadata": {},
   "outputs": [],
   "source": [
    "# auto_encoder_metadata_file_pt_out = encoded_dir / \"compressed_all_data_encodings_256.pt\""
   ]
  },
  {
   "cell_type": "code",
   "execution_count": 94,
   "id": "bc08fe23-2333-40a1-a3dd-7ad519c0d3a4",
   "metadata": {},
   "outputs": [],
   "source": [
    "# torch.save(item_embeddings_tensor,auto_encoder_metadata_file_pt_out )"
   ]
  },
  {
   "cell_type": "markdown",
   "id": "cf7b93a1-3f76-4d61-9fce-7b8781928917",
   "metadata": {},
   "source": [
    "### Load pretrained embeddings from yahlly's model"
   ]
  },
  {
   "cell_type": "code",
   "execution_count": 33,
   "id": "8d488209-682d-4f93-8a30-81097c42ce7a",
   "metadata": {},
   "outputs": [],
   "source": [
    "user_item_file_path = current_dir.parent / \"data\" / \"data_and_test_files\" / \"user_item_rating_table_train_with_idx.csv\"\n",
    "df2 = pd.read_csv(user_item_file_path)"
   ]
  },
  {
   "cell_type": "markdown",
   "id": "848e1456-7c08-44c6-8e9f-96c999a7d4e2",
   "metadata": {},
   "source": [
    "### Concat image and text embeddings"
   ]
  },
  {
   "cell_type": "markdown",
   "id": "e2a96374-caa6-44ec-9591-47e133ce9aac",
   "metadata": {},
   "source": [
    "##### Create concat of image and text"
   ]
  },
  {
   "cell_type": "code",
   "execution_count": 47,
   "id": "b2cf0177-1837-4da8-b037-230bddb2c2d7",
   "metadata": {},
   "outputs": [
    {
     "name": "stdout",
     "output_type": "stream",
     "text": [
      "✅ Item metadata saved to /storage/yahlly/RecSys/data/encoded/item_metadata_text_image.pt with 198771 items.\n"
     ]
    }
   ],
   "source": [
    "# import torch\n",
    "\n",
    "# # ======= Create Combined Item Metadata =======\n",
    "# item_metadata = {}\n",
    "\n",
    "# for item_id in text_embeddings.keys():\n",
    "#     text_embed = text_embeddings[item_id]  # (1027,)\n",
    "#     image_embed = images_embeddings.get(item_id, torch.zeros(2048))  # (2048,) default to zeros if missing\n",
    "\n",
    "#     # Concatenate along the feature dimension\n",
    "#     combined_embed = torch.cat([text_embed, image_embed], dim=0)  # (3075,)\n",
    "#     item_metadata[item_id] = combined_embed\n",
    "\n",
    "# # Save the combined metadata dictionary\n",
    "# metadata_save_path = encoded_dir / \"item_metadata_text_image.pt\"\n",
    "# torch.save(item_metadata, metadata_save_path)\n",
    "\n",
    "# print(f\"✅ Item metadata saved to {metadata_save_path} with {len(item_metadata)} items.\")\n"
   ]
  },
  {
   "cell_type": "markdown",
   "id": "9d167131-47a3-4bb5-bc75-bab0d0686a80",
   "metadata": {},
   "source": [
    "### Load item_metadata (text+image embeddings)"
   ]
  },
  {
   "cell_type": "code",
   "execution_count": 5,
   "id": "cbe7c3c8-cf25-417f-bee2-2c5f03a87b6c",
   "metadata": {},
   "outputs": [],
   "source": [
    "item_metadata = torch.load( encoded_dir / \"item_metadata_text_image.pt\")"
   ]
  },
  {
   "cell_type": "code",
   "execution_count": 34,
   "id": "01d61747-7800-4e50-98da-d392ea92995b",
   "metadata": {},
   "outputs": [],
   "source": [
    "item_metadata = text_embeddings"
   ]
  },
  {
   "cell_type": "markdown",
   "id": "cd1806ef-d70d-44a2-9f9c-4e0349668034",
   "metadata": {},
   "source": [
    "#### make the item metadata a tensor"
   ]
  },
  {
   "cell_type": "code",
   "execution_count": 35,
   "id": "c3704363-e0a7-4106-931b-93dd5d8d176f",
   "metadata": {},
   "outputs": [],
   "source": [
    "item_embeddings_tensor = torch.zeros(len(item_metadata), item_metadata[0].size(0))\n",
    "for idx, (item_id, embed) in enumerate(item_metadata.items()):\n",
    "    item_embeddings_tensor[idx] = embed\n"
   ]
  },
  {
   "cell_type": "code",
   "execution_count": 36,
   "id": "903e3d7b-a612-4e95-aec4-cea73a6ff0c0",
   "metadata": {},
   "outputs": [],
   "source": [
    "item_embeddings_tensor=item_embeddings_tensor.to(device)"
   ]
  },
  {
   "cell_type": "code",
   "execution_count": 13,
   "id": "78f1d176-fa37-46c5-b0ea-18eaf967469e",
   "metadata": {},
   "outputs": [
    {
     "data": {
      "text/html": [
       "<div>\n",
       "<style scoped>\n",
       "    .dataframe tbody tr th:only-of-type {\n",
       "        vertical-align: middle;\n",
       "    }\n",
       "\n",
       "    .dataframe tbody tr th {\n",
       "        vertical-align: top;\n",
       "    }\n",
       "\n",
       "    .dataframe thead th {\n",
       "        text-align: right;\n",
       "    }\n",
       "</style>\n",
       "<table border=\"1\" class=\"dataframe\">\n",
       "  <thead>\n",
       "    <tr style=\"text-align: right;\">\n",
       "      <th></th>\n",
       "      <th>user_id</th>\n",
       "      <th>parent_asin</th>\n",
       "      <th>rating</th>\n",
       "      <th>timestamp</th>\n",
       "      <th>user_idx</th>\n",
       "      <th>item_idx</th>\n",
       "    </tr>\n",
       "  </thead>\n",
       "  <tbody>\n",
       "    <tr>\n",
       "      <th>0</th>\n",
       "      <td>AGGZ357AO26RQZVRLGU4D4N52DZQ</td>\n",
       "      <td>B009RTBRVG</td>\n",
       "      <td>5.0</td>\n",
       "      <td>1349041740000</td>\n",
       "      <td>0</td>\n",
       "      <td>0</td>\n",
       "    </tr>\n",
       "    <tr>\n",
       "      <th>1</th>\n",
       "      <td>AGGZ357AO26RQZVRLGU4D4N52DZQ</td>\n",
       "      <td>B003MZ01CM</td>\n",
       "      <td>1.0</td>\n",
       "      <td>1370958618000</td>\n",
       "      <td>0</td>\n",
       "      <td>1</td>\n",
       "    </tr>\n",
       "    <tr>\n",
       "      <th>2</th>\n",
       "      <td>AGGZ357AO26RQZVRLGU4D4N52DZQ</td>\n",
       "      <td>B07L6QT33F</td>\n",
       "      <td>5.0</td>\n",
       "      <td>1440038761000</td>\n",
       "      <td>0</td>\n",
       "      <td>2</td>\n",
       "    </tr>\n",
       "    <tr>\n",
       "      <th>3</th>\n",
       "      <td>AGGZ357AO26RQZVRLGU4D4N52DZQ</td>\n",
       "      <td>B07V6PKCCG</td>\n",
       "      <td>3.0</td>\n",
       "      <td>1483320893000</td>\n",
       "      <td>0</td>\n",
       "      <td>3</td>\n",
       "    </tr>\n",
       "    <tr>\n",
       "      <th>4</th>\n",
       "      <td>AGGZ357AO26RQZVRLGU4D4N52DZQ</td>\n",
       "      <td>B0BNP511CS</td>\n",
       "      <td>5.0</td>\n",
       "      <td>1490800837000</td>\n",
       "      <td>0</td>\n",
       "      <td>4</td>\n",
       "    </tr>\n",
       "    <tr>\n",
       "      <th>...</th>\n",
       "      <td>...</td>\n",
       "      <td>...</td>\n",
       "      <td>...</td>\n",
       "      <td>...</td>\n",
       "      <td>...</td>\n",
       "      <td>...</td>\n",
       "    </tr>\n",
       "    <tr>\n",
       "      <th>9127372</th>\n",
       "      <td>AEQHNMSCENA2TJAJEFK5SFI3ZKXA</td>\n",
       "      <td>B09G9THPC6</td>\n",
       "      <td>5.0</td>\n",
       "      <td>1692552496934</td>\n",
       "      <td>1096899</td>\n",
       "      <td>92761</td>\n",
       "    </tr>\n",
       "    <tr>\n",
       "      <th>9127373</th>\n",
       "      <td>AFGBVYKTFNQH5NIHXNB5ANVPANXQ</td>\n",
       "      <td>B088D217BQ</td>\n",
       "      <td>1.0</td>\n",
       "      <td>1600792118191</td>\n",
       "      <td>1096900</td>\n",
       "      <td>183765</td>\n",
       "    </tr>\n",
       "    <tr>\n",
       "      <th>9127374</th>\n",
       "      <td>AFGBVYKTFNQH5NIHXNB5ANVPANXQ</td>\n",
       "      <td>B07WV5H4DN</td>\n",
       "      <td>1.0</td>\n",
       "      <td>1615811081145</td>\n",
       "      <td>1096900</td>\n",
       "      <td>155119</td>\n",
       "    </tr>\n",
       "    <tr>\n",
       "      <th>9127375</th>\n",
       "      <td>AFGBVYKTFNQH5NIHXNB5ANVPANXQ</td>\n",
       "      <td>B0BL3PQHR4</td>\n",
       "      <td>4.0</td>\n",
       "      <td>1693494834857</td>\n",
       "      <td>1096900</td>\n",
       "      <td>25515</td>\n",
       "    </tr>\n",
       "    <tr>\n",
       "      <th>9127376</th>\n",
       "      <td>AFGBVYKTFNQH5NIHXNB5ANVPANXQ</td>\n",
       "      <td>B00XBBAGQI</td>\n",
       "      <td>5.0</td>\n",
       "      <td>1694098256216</td>\n",
       "      <td>1096900</td>\n",
       "      <td>76857</td>\n",
       "    </tr>\n",
       "  </tbody>\n",
       "</table>\n",
       "<p>9127377 rows × 6 columns</p>\n",
       "</div>"
      ],
      "text/plain": [
       "                              user_id parent_asin  rating      timestamp  \\\n",
       "0        AGGZ357AO26RQZVRLGU4D4N52DZQ  B009RTBRVG     5.0  1349041740000   \n",
       "1        AGGZ357AO26RQZVRLGU4D4N52DZQ  B003MZ01CM     1.0  1370958618000   \n",
       "2        AGGZ357AO26RQZVRLGU4D4N52DZQ  B07L6QT33F     5.0  1440038761000   \n",
       "3        AGGZ357AO26RQZVRLGU4D4N52DZQ  B07V6PKCCG     3.0  1483320893000   \n",
       "4        AGGZ357AO26RQZVRLGU4D4N52DZQ  B0BNP511CS     5.0  1490800837000   \n",
       "...                               ...         ...     ...            ...   \n",
       "9127372  AEQHNMSCENA2TJAJEFK5SFI3ZKXA  B09G9THPC6     5.0  1692552496934   \n",
       "9127373  AFGBVYKTFNQH5NIHXNB5ANVPANXQ  B088D217BQ     1.0  1600792118191   \n",
       "9127374  AFGBVYKTFNQH5NIHXNB5ANVPANXQ  B07WV5H4DN     1.0  1615811081145   \n",
       "9127375  AFGBVYKTFNQH5NIHXNB5ANVPANXQ  B0BL3PQHR4     4.0  1693494834857   \n",
       "9127376  AFGBVYKTFNQH5NIHXNB5ANVPANXQ  B00XBBAGQI     5.0  1694098256216   \n",
       "\n",
       "         user_idx  item_idx  \n",
       "0               0         0  \n",
       "1               0         1  \n",
       "2               0         2  \n",
       "3               0         3  \n",
       "4               0         4  \n",
       "...           ...       ...  \n",
       "9127372   1096899     92761  \n",
       "9127373   1096900    183765  \n",
       "9127374   1096900    155119  \n",
       "9127375   1096900     25515  \n",
       "9127376   1096900     76857  \n",
       "\n",
       "[9127377 rows x 6 columns]"
      ]
     },
     "execution_count": 13,
     "metadata": {},
     "output_type": "execute_result"
    }
   ],
   "source": [
    "df2"
   ]
  },
  {
   "cell_type": "code",
   "execution_count": null,
   "id": "8c4c6691-770e-412e-99c6-f4b4666867fe",
   "metadata": {},
   "outputs": [],
   "source": []
  },
  {
   "cell_type": "markdown",
   "id": "eabf8da5-eb2c-4aa4-8ee3-61f05560e03e",
   "metadata": {},
   "source": [
    "### Data loader class"
   ]
  },
  {
   "cell_type": "code",
   "execution_count": 37,
   "id": "3cca433a-b985-45f9-b76e-82c9b748d10f",
   "metadata": {},
   "outputs": [],
   "source": [
    "# ======= Custom Dataset Class =======\n",
    "class PairwiseDataset(Dataset):\n",
    "    def __init__(self, dataframe):\n",
    "        self.users = dataframe[\"user_id\"].values\n",
    "        self.item1 = dataframe[\"item1_id\"].values\n",
    "        self.item2 = dataframe[\"item2_id\"].values\n",
    "        self.labels = dataframe[\"label\"].values\n",
    "\n",
    "    def __len__(self):\n",
    "        return len(self.users)\n",
    "\n",
    "    def __getitem__(self, idx):\n",
    "        return (\n",
    "            self.users[idx],\n",
    "            self.item1[idx],\n",
    "            self.item2[idx],\n",
    "            self.labels[idx],\n",
    "        )\n"
   ]
  },
  {
   "cell_type": "code",
   "execution_count": 43,
   "id": "5be6ca52-47eb-47c5-bf10-ace89a579a06",
   "metadata": {},
   "outputs": [
    {
     "data": {
      "text/html": [
       "<div>\n",
       "<style scoped>\n",
       "    .dataframe tbody tr th:only-of-type {\n",
       "        vertical-align: middle;\n",
       "    }\n",
       "\n",
       "    .dataframe tbody tr th {\n",
       "        vertical-align: top;\n",
       "    }\n",
       "\n",
       "    .dataframe thead th {\n",
       "        text-align: right;\n",
       "    }\n",
       "</style>\n",
       "<table border=\"1\" class=\"dataframe\">\n",
       "  <thead>\n",
       "    <tr style=\"text-align: right;\">\n",
       "      <th></th>\n",
       "      <th>user_id</th>\n",
       "      <th>item1_id</th>\n",
       "      <th>item2_id</th>\n",
       "      <th>label</th>\n",
       "      <th>timestamp</th>\n",
       "      <th>rating</th>\n",
       "    </tr>\n",
       "  </thead>\n",
       "  <tbody>\n",
       "    <tr>\n",
       "      <th>0</th>\n",
       "      <td>0</td>\n",
       "      <td>0</td>\n",
       "      <td>13349</td>\n",
       "      <td>0</td>\n",
       "      <td>1349041740000</td>\n",
       "      <td>5.0</td>\n",
       "    </tr>\n",
       "    <tr>\n",
       "      <th>1</th>\n",
       "      <td>0</td>\n",
       "      <td>22959</td>\n",
       "      <td>1</td>\n",
       "      <td>1</td>\n",
       "      <td>1370958618000</td>\n",
       "      <td>1.0</td>\n",
       "    </tr>\n",
       "    <tr>\n",
       "      <th>2</th>\n",
       "      <td>0</td>\n",
       "      <td>97562</td>\n",
       "      <td>2</td>\n",
       "      <td>2</td>\n",
       "      <td>1440038761000</td>\n",
       "      <td>5.0</td>\n",
       "    </tr>\n",
       "    <tr>\n",
       "      <th>3</th>\n",
       "      <td>0</td>\n",
       "      <td>23003</td>\n",
       "      <td>3</td>\n",
       "      <td>3</td>\n",
       "      <td>1483320893000</td>\n",
       "      <td>3.0</td>\n",
       "    </tr>\n",
       "    <tr>\n",
       "      <th>4</th>\n",
       "      <td>1</td>\n",
       "      <td>179127</td>\n",
       "      <td>5</td>\n",
       "      <td>5</td>\n",
       "      <td>1600753653091</td>\n",
       "      <td>5.0</td>\n",
       "    </tr>\n",
       "    <tr>\n",
       "      <th>...</th>\n",
       "      <td>...</td>\n",
       "      <td>...</td>\n",
       "      <td>...</td>\n",
       "      <td>...</td>\n",
       "      <td>...</td>\n",
       "      <td>...</td>\n",
       "    </tr>\n",
       "    <tr>\n",
       "      <th>8030471</th>\n",
       "      <td>1096899</td>\n",
       "      <td>26803</td>\n",
       "      <td>32852</td>\n",
       "      <td>32852</td>\n",
       "      <td>1692552324736</td>\n",
       "      <td>5.0</td>\n",
       "    </tr>\n",
       "    <tr>\n",
       "      <th>8030472</th>\n",
       "      <td>1096899</td>\n",
       "      <td>177842</td>\n",
       "      <td>10643</td>\n",
       "      <td>10643</td>\n",
       "      <td>1692552357767</td>\n",
       "      <td>5.0</td>\n",
       "    </tr>\n",
       "    <tr>\n",
       "      <th>8030473</th>\n",
       "      <td>1096900</td>\n",
       "      <td>183765</td>\n",
       "      <td>86867</td>\n",
       "      <td>183765</td>\n",
       "      <td>1600792118191</td>\n",
       "      <td>1.0</td>\n",
       "    </tr>\n",
       "    <tr>\n",
       "      <th>8030474</th>\n",
       "      <td>1096900</td>\n",
       "      <td>155119</td>\n",
       "      <td>99585</td>\n",
       "      <td>155119</td>\n",
       "      <td>1615811081145</td>\n",
       "      <td>1.0</td>\n",
       "    </tr>\n",
       "    <tr>\n",
       "      <th>8030475</th>\n",
       "      <td>1096900</td>\n",
       "      <td>25515</td>\n",
       "      <td>75800</td>\n",
       "      <td>25515</td>\n",
       "      <td>1693494834857</td>\n",
       "      <td>4.0</td>\n",
       "    </tr>\n",
       "  </tbody>\n",
       "</table>\n",
       "<p>8030476 rows × 6 columns</p>\n",
       "</div>"
      ],
      "text/plain": [
       "         user_id  item1_id  item2_id   label      timestamp  rating\n",
       "0              0         0     13349       0  1349041740000     5.0\n",
       "1              0     22959         1       1  1370958618000     1.0\n",
       "2              0     97562         2       2  1440038761000     5.0\n",
       "3              0     23003         3       3  1483320893000     3.0\n",
       "4              1    179127         5       5  1600753653091     5.0\n",
       "...          ...       ...       ...     ...            ...     ...\n",
       "8030471  1096899     26803     32852   32852  1692552324736     5.0\n",
       "8030472  1096899    177842     10643   10643  1692552357767     5.0\n",
       "8030473  1096900    183765     86867  183765  1600792118191     1.0\n",
       "8030474  1096900    155119     99585  155119  1615811081145     1.0\n",
       "8030475  1096900     25515     75800   25515  1693494834857     4.0\n",
       "\n",
       "[8030476 rows x 6 columns]"
      ]
     },
     "execution_count": 43,
     "metadata": {},
     "output_type": "execute_result"
    }
   ],
   "source": [
    "train"
   ]
  },
  {
   "cell_type": "code",
   "execution_count": 38,
   "id": "7e21c763-da66-45ed-83db-9cba73d0b369",
   "metadata": {},
   "outputs": [
    {
     "name": "stderr",
     "output_type": "stream",
     "text": [
      " 11%|█         | 117829/1096358 [00:15<02:07, 7680.45it/s]\n"
     ]
    },
    {
     "ename": "KeyboardInterrupt",
     "evalue": "",
     "output_type": "error",
     "traceback": [
      "\u001b[0;31m---------------------------------------------------------------------------\u001b[0m",
      "\u001b[0;31mKeyboardInterrupt\u001b[0m                         Traceback (most recent call last)",
      "Cell \u001b[0;32mIn[38], line 13\u001b[0m\n\u001b[1;32m     11\u001b[0m item_embeddings \u001b[38;5;241m=\u001b[39m torch\u001b[38;5;241m.\u001b[39mstack([item_embeddings_dict[i] \u001b[38;5;28;01mfor\u001b[39;00m i \u001b[38;5;129;01min\u001b[39;00m group[\u001b[38;5;124m\"\u001b[39m\u001b[38;5;124mlabel\u001b[39m\u001b[38;5;124m\"\u001b[39m]\u001b[38;5;241m.\u001b[39mvalues])\n\u001b[1;32m     12\u001b[0m \u001b[38;5;66;03m# Center of mass: mean of all interacted item embeddings\u001b[39;00m\n\u001b[0;32m---> 13\u001b[0m user_embeddings[user_id] \u001b[38;5;241m=\u001b[39m \u001b[43mitem_embeddings\u001b[49m\u001b[38;5;241;43m.\u001b[39;49m\u001b[43mmean\u001b[49m\u001b[43m(\u001b[49m\u001b[43mdim\u001b[49m\u001b[38;5;241;43m=\u001b[39;49m\u001b[38;5;241;43m0\u001b[39;49m\u001b[43m)\u001b[49m\n",
      "\u001b[0;31mKeyboardInterrupt\u001b[0m: "
     ]
    }
   ],
   "source": [
    "import torch\n",
    "\n",
    "# Map item embeddings for fast lookup\n",
    "item_embeddings_dict = {idx: item_embeddings_tensor[idx] for idx in range(len(item_embeddings_tensor))}\n",
    "\n",
    "# Compute user embeddings\n",
    "user_embeddings = torch.zeros((df2[\"user_id\"].nunique(), item_embeddings_tensor.shape[1]))\n",
    "\n",
    "for user_id, group in tqdm(train.groupby(\"user_id\")):\n",
    "    # Get item embeddings for this user's interactions\n",
    "    item_embeddings = torch.stack([item_embeddings_dict[i] for i in group[\"label\"].values])\n",
    "    # Center of mass: mean of all interacted item embeddings\n",
    "    user_embeddings[user_id] = item_embeddings.mean(dim=0)\n",
    "\n",
    "# Move user embeddings to the appropriate device\n",
    "#user_embeddings = user_embeddings.to(device)\n"
   ]
  },
  {
   "cell_type": "code",
   "execution_count": 33,
   "id": "f8a04e05-d7d6-4346-80b5-6bf79d83831b",
   "metadata": {},
   "outputs": [],
   "source": [
    "# Save the embeddings with a fixed filename\n",
    "torch.save(user_embeddings, encoded_dir / \"user_embeddings_using_mean_on_metadata_text_only.pt\")"
   ]
  },
  {
   "cell_type": "code",
   "execution_count": 40,
   "id": "93b721bb-eed3-45a5-ae4b-420d91cf9278",
   "metadata": {},
   "outputs": [],
   "source": [
    "user_embeddings_path = encoded_dir / \"user_embeddings_using_mean_on_metadata_text_only.pt\"\n",
    "\n",
    "# Load the embeddings\n",
    "user_embeddings = torch.load(user_embeddings_path)"
   ]
  },
  {
   "cell_type": "code",
   "execution_count": null,
   "id": "39046df4-32bc-4e95-8296-e9d867ace7cd",
   "metadata": {},
   "outputs": [],
   "source": []
  },
  {
   "cell_type": "markdown",
   "id": "a226484c-2769-4352-8c0d-cd20d9aa7659",
   "metadata": {},
   "source": [
    "### Saving as V (not mean)"
   ]
  },
  {
   "cell_type": "code",
   "execution_count": 9,
   "id": "6300a9f2-2cc1-4470-b4c2-aef16d35c02f",
   "metadata": {},
   "outputs": [
    {
     "name": "stderr",
     "output_type": "stream",
     "text": [
      "100%|██████████| 1096358/1096358 [01:19<00:00, 13823.18it/s]"
     ]
    },
    {
     "name": "stdout",
     "output_type": "stream",
     "text": [
      "User 0 embeddings shape: torch.Size([4, 1027])\n"
     ]
    },
    {
     "name": "stderr",
     "output_type": "stream",
     "text": [
      "\n"
     ]
    }
   ],
   "source": [
    "# import torch\n",
    "# from tqdm import tqdm\n",
    "\n",
    "# # Map item embeddings for fast lookup\n",
    "# item_embeddings_dict = {idx: item_embeddings_tensor[idx] for idx in range(len(item_embeddings_tensor))}\n",
    "\n",
    "# # Store all item embeddings for each user\n",
    "# user_item_embeddings = {}\n",
    "\n",
    "# for user_id, group in tqdm(train.groupby(\"user_id\")):\n",
    "#     # Get item embeddings for this user's interactions\n",
    "#     item_embeddings = torch.stack([item_embeddings_dict[i] for i in group[\"label\"].values])\n",
    "    \n",
    "#     # Store the item embeddings for this user\n",
    "#     user_item_embeddings[user_id] = item_embeddings\n",
    "# # \n",
    "# # Example: Access item embeddings for user 0\n",
    "# print(\"User 0 embeddings shape:\", user_item_embeddings[0].shape)\n"
   ]
  },
  {
   "cell_type": "code",
   "execution_count": 11,
   "id": "5d60af7d-a11d-48f5-a4dd-2bbec4ef9341",
   "metadata": {},
   "outputs": [],
   "source": [
    "torch.save(user_item_embeddings, encoded_dir / \"user_embeddings_using_metadata_text_only_all_interacted_items.pt\")"
   ]
  },
  {
   "cell_type": "code",
   "execution_count": 10,
   "id": "1b8dc77e-9f1f-470b-a0c6-aaab240595cf",
   "metadata": {},
   "outputs": [
    {
     "ename": "AttributeError",
     "evalue": "'dict' object has no attribute 'shape'",
     "output_type": "error",
     "traceback": [
      "\u001b[0;31m---------------------------------------------------------------------------\u001b[0m",
      "\u001b[0;31mAttributeError\u001b[0m                            Traceback (most recent call last)",
      "Cell \u001b[0;32mIn[10], line 1\u001b[0m\n\u001b[0;32m----> 1\u001b[0m \u001b[43muser_item_embeddings\u001b[49m\u001b[38;5;241;43m.\u001b[39;49m\u001b[43mshape\u001b[49m\n",
      "\u001b[0;31mAttributeError\u001b[0m: 'dict' object has no attribute 'shape'"
     ]
    }
   ],
   "source": [
    "user_item_embeddings.shape"
   ]
  },
  {
   "cell_type": "code",
   "execution_count": 12,
   "id": "ced46eb9-b345-4696-8ac3-cbc13ffd7741",
   "metadata": {},
   "outputs": [],
   "source": [
    "user_embeddings = user_item_embeddings"
   ]
  },
  {
   "cell_type": "code",
   "execution_count": 41,
   "id": "b1028276-6ef5-48c7-84d7-9ba6d9bc0687",
   "metadata": {},
   "outputs": [],
   "source": [
    "user_embeddings = user_embeddings.to(device)"
   ]
  },
  {
   "cell_type": "code",
   "execution_count": 15,
   "id": "43bb3f80-a640-4613-88d1-85d3f2a927eb",
   "metadata": {},
   "outputs": [
    {
     "data": {
      "text/plain": [
       "torch.Size([1096901, 3075])"
      ]
     },
     "execution_count": 15,
     "metadata": {},
     "output_type": "execute_result"
    }
   ],
   "source": [
    "user_embeddings.shape"
   ]
  },
  {
   "cell_type": "code",
   "execution_count": 28,
   "id": "7642c3b9-5154-48c8-8732-665b97a5113b",
   "metadata": {},
   "outputs": [
    {
     "data": {
      "text/plain": [
       "torch.Size([1096901, 3075])"
      ]
     },
     "execution_count": 28,
     "metadata": {},
     "output_type": "execute_result"
    }
   ],
   "source": [
    "user_embeddings.shape"
   ]
  },
  {
   "cell_type": "code",
   "execution_count": 42,
   "id": "df56404e-6d20-4ed8-ba55-83f84846a096",
   "metadata": {},
   "outputs": [],
   "source": [
    "# ======= Two-Tower Model (User & Item Networks) =======\n",
    "class TwoTowerModel(nn.Module):\n",
    "    def __init__(self, num_users, num_items, embedding_dim, item_metadata_dim):\n",
    "        super(TwoTowerModel, self).__init__()\n",
    "        \n",
    "        # User Tower (Embedding)\n",
    "        self.user_fc = nn.Sequential(\n",
    "            nn.Linear(1027, 512),  # First reduce to 512 dimensions\n",
    "            nn.ReLU(),\n",
    "            nn.Linear(512, embedding_dim),  # Then reduce to the desired embedding_dim (24)\n",
    "        )\n",
    "        # Item Tower (Using Item Metadata)\n",
    "        self.item_fc = nn.Sequential(\n",
    "            nn.Linear(item_metadata_dim, 512),\n",
    "            nn.ReLU(),\n",
    "            nn.Linear(512, embedding_dim),\n",
    "        )\n",
    "\n",
    "        \n",
    "    def forward(self, user_ids, item1_ids, item2_ids):\n",
    "        user_ids = user_ids.long().to(device)\n",
    "        \n",
    "        item1_ids=item1_ids.to(device)\n",
    "        item2_ids=item2_ids.to(device)\n",
    "        # User Tower: Compute user embeddings using user_fc (sequential)\n",
    "        user_embed = self.user_fc(user_embeddings[user_ids])  # (batch_size, embedding_dim)\n",
    "\n",
    "        item1_embed = self.item_fc(item_embeddings_tensor[item1_ids])  # (batch, embedding_dim)\n",
    "        item2_embed = self.item_fc(item_embeddings_tensor[item2_ids])  # (batch, embedding_dim)\n",
    "        \n",
    "        return user_embed, item1_embed, item2_embed\n",
    "\n",
    "# ======= Pairwise BPR Loss =======\n",
    "\n",
    "\n",
    "class BPRLoss(nn.Module):\n",
    "    def __init__(self):\n",
    "        super(BPRLoss, self).__init__()\n",
    "\n",
    "    def forward(self, user_embed, item1_ids, item1_embed, item2_ids, item2_embed, labels):\n",
    "        \"\"\"\n",
    "        Compute Bayesian Personalized Ranking (BPR) loss.\n",
    "\n",
    "        Args:\n",
    "        - user_embed: Tensor of shape (batch_size, embed_dim), user embeddings.\n",
    "        - item1_ids: Tensor of shape (batch_size,), IDs of item1.\n",
    "        - item1_embed: Tensor of shape (batch_size, embed_dim), embeddings for item1.\n",
    "        - item2_ids: Tensor of shape (batch_size,), IDs of item2.\n",
    "        - item2_embed: Tensor of shape (batch_size, embed_dim), embeddings for item2.\n",
    "        - labels: Tensor of shape (batch_size,), IDs of the correct (positive) item.\n",
    "\n",
    "        Returns:\n",
    "        - loss: Computed BPR loss.\n",
    "        \"\"\"\n",
    "        # Convert labels to binary: 1 if item1 is the positive item, else 0\n",
    "        labels_binary = (labels == item1_ids).float()\n",
    "\n",
    "        # Compute scores\n",
    "        score1 = (user_embed * item1_embed).sum(dim=1)  # Affinity score for item1\n",
    "        score2 = (user_embed * item2_embed).sum(dim=1)  # Affinity score for item2\n",
    "\n",
    "        # Assign correct positive and negative scores based on labels_binary\n",
    "        pos_score = torch.where(labels_binary == 1, score1, score2)\n",
    "        neg_score = torch.where(labels_binary == 1, score2, score1)\n",
    "\n",
    "        # Compute BPR loss\n",
    "        loss = -F.logsigmoid(pos_score - neg_score).mean()\n",
    "        return loss\n"
   ]
  },
  {
   "cell_type": "code",
   "execution_count": 20,
   "id": "7a6aa6ff-cc02-4bd8-8e6e-71c245517045",
   "metadata": {},
   "outputs": [
    {
     "data": {
      "text/html": [
       "<div>\n",
       "<style scoped>\n",
       "    .dataframe tbody tr th:only-of-type {\n",
       "        vertical-align: middle;\n",
       "    }\n",
       "\n",
       "    .dataframe tbody tr th {\n",
       "        vertical-align: top;\n",
       "    }\n",
       "\n",
       "    .dataframe thead th {\n",
       "        text-align: right;\n",
       "    }\n",
       "</style>\n",
       "<table border=\"1\" class=\"dataframe\">\n",
       "  <thead>\n",
       "    <tr style=\"text-align: right;\">\n",
       "      <th></th>\n",
       "      <th>user_id</th>\n",
       "      <th>item1_id</th>\n",
       "      <th>item2_id</th>\n",
       "      <th>label</th>\n",
       "    </tr>\n",
       "  </thead>\n",
       "  <tbody>\n",
       "    <tr>\n",
       "      <th>0</th>\n",
       "      <td>0</td>\n",
       "      <td>50787</td>\n",
       "      <td>0</td>\n",
       "      <td>0</td>\n",
       "    </tr>\n",
       "    <tr>\n",
       "      <th>1</th>\n",
       "      <td>0</td>\n",
       "      <td>1</td>\n",
       "      <td>33482</td>\n",
       "      <td>1</td>\n",
       "    </tr>\n",
       "    <tr>\n",
       "      <th>2</th>\n",
       "      <td>0</td>\n",
       "      <td>35983</td>\n",
       "      <td>2</td>\n",
       "      <td>2</td>\n",
       "    </tr>\n",
       "    <tr>\n",
       "      <th>3</th>\n",
       "      <td>0</td>\n",
       "      <td>3</td>\n",
       "      <td>125581</td>\n",
       "      <td>3</td>\n",
       "    </tr>\n",
       "    <tr>\n",
       "      <th>4</th>\n",
       "      <td>0</td>\n",
       "      <td>4</td>\n",
       "      <td>60296</td>\n",
       "      <td>4</td>\n",
       "    </tr>\n",
       "  </tbody>\n",
       "</table>\n",
       "</div>"
      ],
      "text/plain": [
       "   user_id  item1_id  item2_id  label\n",
       "0        0     50787         0      0\n",
       "1        0         1     33482      1\n",
       "2        0     35983         2      2\n",
       "3        0         3    125581      3\n",
       "4        0         4     60296      4"
      ]
     },
     "execution_count": 20,
     "metadata": {},
     "output_type": "execute_result"
    }
   ],
   "source": [
    "df.head()"
   ]
  },
  {
   "cell_type": "code",
   "execution_count": 43,
   "id": "a0102ea4-3720-46ed-88b5-ce2759ca2f7d",
   "metadata": {},
   "outputs": [],
   "source": [
    "train_loader = DataLoader(PairwiseDataset(train), batch_size=BATCH_SIZE, shuffle=True)\n",
    "val_loader = DataLoader(PairwiseDataset(val), batch_size=BATCH_SIZE, shuffle=False)"
   ]
  },
  {
   "cell_type": "code",
   "execution_count": 44,
   "id": "80bc30b8-dbc6-4e8f-a963-a10ab0a3b616",
   "metadata": {},
   "outputs": [],
   "source": [
    "num_users = 1096901\n",
    "num_items = 198771\n"
   ]
  },
  {
   "cell_type": "code",
   "execution_count": 45,
   "id": "f32256eb-7757-4659-8897-10d536899224",
   "metadata": {},
   "outputs": [
    {
     "name": "stdout",
     "output_type": "stream",
     "text": [
      "🚀 Training Model...\n"
     ]
    },
    {
     "name": "stderr",
     "output_type": "stream",
     "text": [
      "Epoch 1/10: 100%|██████████| 15685/15685 [01:15<00:00, 208.65it/s]\n"
     ]
    },
    {
     "name": "stdout",
     "output_type": "stream",
     "text": [
      "Epoch 1: Train Loss = 0.6755,Val Loss = 0.7453, Val Accuracy = 0.5000\n"
     ]
    },
    {
     "name": "stderr",
     "output_type": "stream",
     "text": [
      "Epoch 2/10: 100%|██████████| 15685/15685 [01:14<00:00, 209.42it/s]\n"
     ]
    },
    {
     "name": "stdout",
     "output_type": "stream",
     "text": [
      "Epoch 2: Train Loss = 0.6502,Val Loss = 0.7547, Val Accuracy = 0.5006\n"
     ]
    },
    {
     "name": "stderr",
     "output_type": "stream",
     "text": [
      "Epoch 3/10: 100%|██████████| 15685/15685 [01:14<00:00, 209.42it/s]\n"
     ]
    },
    {
     "name": "stdout",
     "output_type": "stream",
     "text": [
      "Epoch 3: Train Loss = 0.6221,Val Loss = 0.7964, Val Accuracy = 0.5019\n"
     ]
    },
    {
     "name": "stderr",
     "output_type": "stream",
     "text": [
      "Epoch 4/10: 100%|██████████| 15685/15685 [01:15<00:00, 209.08it/s]\n"
     ]
    },
    {
     "name": "stdout",
     "output_type": "stream",
     "text": [
      "Epoch 4: Train Loss = 0.5989,Val Loss = 0.8377, Val Accuracy = 0.5026\n"
     ]
    },
    {
     "name": "stderr",
     "output_type": "stream",
     "text": [
      "Epoch 5/10: 100%|██████████| 15685/15685 [01:14<00:00, 209.66it/s]\n"
     ]
    },
    {
     "name": "stdout",
     "output_type": "stream",
     "text": [
      "Epoch 5: Train Loss = 0.5928,Val Loss = 0.8536, Val Accuracy = 0.5026\n"
     ]
    },
    {
     "name": "stderr",
     "output_type": "stream",
     "text": [
      "Epoch 6/10: 100%|██████████| 15685/15685 [01:14<00:00, 209.59it/s]\n"
     ]
    },
    {
     "name": "stdout",
     "output_type": "stream",
     "text": [
      "Epoch 6: Train Loss = 0.5918,Val Loss = 0.8574, Val Accuracy = 0.5027\n"
     ]
    },
    {
     "name": "stderr",
     "output_type": "stream",
     "text": [
      "Epoch 7/10: 100%|██████████| 15685/15685 [01:15<00:00, 208.67it/s]\n"
     ]
    },
    {
     "name": "stdout",
     "output_type": "stream",
     "text": [
      "Epoch 7: Train Loss = 0.5909,Val Loss = 0.8590, Val Accuracy = 0.5027\n"
     ]
    },
    {
     "name": "stderr",
     "output_type": "stream",
     "text": [
      "Epoch 8/10: 100%|██████████| 15685/15685 [01:14<00:00, 209.55it/s]\n"
     ]
    },
    {
     "name": "stdout",
     "output_type": "stream",
     "text": [
      "Epoch 8: Train Loss = 0.5897,Val Loss = 0.8596, Val Accuracy = 0.5027\n"
     ]
    },
    {
     "name": "stderr",
     "output_type": "stream",
     "text": [
      "Epoch 9/10: 100%|██████████| 15685/15685 [01:14<00:00, 209.19it/s]\n"
     ]
    },
    {
     "name": "stdout",
     "output_type": "stream",
     "text": [
      "Epoch 9: Train Loss = 0.5875,Val Loss = 0.8600, Val Accuracy = 0.5029\n"
     ]
    },
    {
     "name": "stderr",
     "output_type": "stream",
     "text": [
      "Epoch 10/10: 100%|██████████| 15685/15685 [01:15<00:00, 209.08it/s]\n"
     ]
    },
    {
     "name": "stdout",
     "output_type": "stream",
     "text": [
      "Epoch 10: Train Loss = 0.5829,Val Loss = 0.8607, Val Accuracy = 0.5030\n",
      "✅ Model Training Complete!\n"
     ]
    }
   ],
   "source": [
    "\n",
    "# ======= Initialize Model, Loss, Optimizer =======\n",
    "device = torch.device(\"cuda\" if torch.cuda.is_available() else \"cpu\")\n",
    "model = TwoTowerModel(num_users, num_items, EMBEDDING_DIM, ITEM_FEATURE_DIM).to(device)\n",
    "criterion = BPRLoss()\n",
    "optimizer = optim.Adam(model.parameters(), lr=LR*0.1)\n",
    "\n",
    "# ======= Training Loop =======\n",
    "# ======= Training & Validation =======\n",
    "log_file = \"cold_training_log.txt\"\n",
    "\n",
    "print(\"🚀 Training Model...\")\n",
    "with open(log_file, \"w\") as log:\n",
    "    log.write(\"🚀 Training Model...\\n\")\n",
    "    for epoch in range(EPOCHS):\n",
    "        model.train()\n",
    "        train_loss = 0\n",
    "    \n",
    "        for user_ids, item1_ids, item2_ids,labels in tqdm(train_loader, desc=f\"Epoch {epoch+1}/{EPOCHS}\"):\n",
    "            user_ids, item1_ids, item2_ids,labels = user_ids.to(device), item1_ids.to(device), item2_ids.to(device), labels.to(device)\n",
    "    \n",
    "            # Forward Pass\n",
    "            user_embed, item1_embed, item2_embed = model(user_ids, item1_ids, item2_ids)\n",
    "            #print(item1_embed==item2_embed)\n",
    "            # Compute Loss\n",
    "            # print(item1_embed==item2_embed)\n",
    "            loss = criterion(user_embed,item1_ids, item1_embed,item2_ids, item2_embed, labels)\n",
    "            train_loss += loss.item()\n",
    "            \n",
    "            # Backpropagation\n",
    "            optimizer.zero_grad()\n",
    "            loss.backward()\n",
    "            optimizer.step()\n",
    "        train_loss = train_loss /len(train_loader)\n",
    "        # ======= Validation =======\n",
    "        model.eval()\n",
    "        correct = 0\n",
    "        total = 0\n",
    "        val_loss = 0\n",
    "        for user_ids, item1_ids, item2_ids, labels in val_loader:\n",
    "            user_ids, item1_ids, item2_ids, labels = (\n",
    "                user_ids.to(device),\n",
    "                item1_ids.to(device),\n",
    "                item2_ids.to(device),\n",
    "                labels.to(device),\n",
    "            )\n",
    "            user_embed, item1_embed, item2_embed = model(user_ids, item1_ids, item2_ids)\n",
    "            #print((item1_embed==item2_embed).all())\n",
    "            score1 = (user_embed * item1_embed).sum(dim=1)  # Score for item1\n",
    "            score2 = (user_embed * item2_embed).sum(dim=1)  # Score for item2\n",
    "    \n",
    "            # Determine the correct positive and negative scores based on labels\n",
    "            labels_binary = (labels == item1_ids).float()\n",
    "            #print(labels_binary)\n",
    "            pos_scores = torch.where(labels_binary == 1, score1, score2)\n",
    "            neg_scores = torch.where(labels_binary == 1, score2, score1)\n",
    "            #print(pos_scores)\n",
    "            # Check if the model correctly ranked the positive item higher\n",
    "            loss = criterion(user_embed,item1_ids, item1_embed,item2_ids, item2_embed, labels)\n",
    "            val_loss += loss.item()\n",
    "            predictions = pos_scores > neg_scores\n",
    "    \n",
    "            correct += predictions.sum().item()\n",
    "            total += predictions.shape[0]\n",
    "    \n",
    "        val_accuracy = correct / total\n",
    "        val_loss=val_loss/len(val_loader)\n",
    "        print(f\"Epoch {epoch+1}: Train Loss = {train_loss:.4f},Val Loss = {val_loss:.4f}, Val Accuracy = {val_accuracy:.4f}\")\n",
    "        log.write(f\"Epoch {epoch+1}: Train Loss = {train_loss:.4f}, Val Loss = {val_loss:.4f}, Val Accuracy = {val_accuracy:.4f}\\n\")\n",
    "\n",
    "\n",
    "\n",
    "# ======= Save Model =======\n",
    "#torch.save(model.state_dict(), \"trained_model.pth\")\n",
    "print(\"✅ Model Training Complete!\")\n",
    "with open(log_file, \"a\") as log:\n",
    "    log.write(\"✅ Model Training Complete!\\n\")"
   ]
  },
  {
   "cell_type": "markdown",
   "id": "eace4db1-603b-4ce7-a916-25009f6bc3d4",
   "metadata": {},
   "source": [
    "##### PREDICT ON COLD ITEMS"
   ]
  },
  {
   "cell_type": "code",
   "execution_count": 46,
   "id": "9c269b76-b8e2-4796-826c-eb9941b72200",
   "metadata": {},
   "outputs": [
    {
     "data": {
      "text/html": [
       "<div>\n",
       "<style scoped>\n",
       "    .dataframe tbody tr th:only-of-type {\n",
       "        vertical-align: middle;\n",
       "    }\n",
       "\n",
       "    .dataframe tbody tr th {\n",
       "        vertical-align: top;\n",
       "    }\n",
       "\n",
       "    .dataframe thead th {\n",
       "        text-align: right;\n",
       "    }\n",
       "</style>\n",
       "<table border=\"1\" class=\"dataframe\">\n",
       "  <thead>\n",
       "    <tr style=\"text-align: right;\">\n",
       "      <th></th>\n",
       "      <th>user_id</th>\n",
       "      <th>item_0</th>\n",
       "      <th>item_1</th>\n",
       "      <th>class</th>\n",
       "    </tr>\n",
       "  </thead>\n",
       "  <tbody>\n",
       "    <tr>\n",
       "      <th>0</th>\n",
       "      <td>AEWJXW46LKSW22FWTGRYTLNE7TGA</td>\n",
       "      <td>B0796QVRYW</td>\n",
       "      <td>B098F8FLYJ</td>\n",
       "      <td>-1</td>\n",
       "    </tr>\n",
       "    <tr>\n",
       "      <th>1</th>\n",
       "      <td>AEWLOQTKYUYRJ24NK4GD5CZTR7WA</td>\n",
       "      <td>B0BJ34VXNQ</td>\n",
       "      <td>B01MFBK6J1</td>\n",
       "      <td>-1</td>\n",
       "    </tr>\n",
       "    <tr>\n",
       "      <th>2</th>\n",
       "      <td>AH3OG6QD6EDJGZRVCFKV4B66VWNQ</td>\n",
       "      <td>B096M84Y7M</td>\n",
       "      <td>B002YQ2GIW</td>\n",
       "      <td>-1</td>\n",
       "    </tr>\n",
       "    <tr>\n",
       "      <th>3</th>\n",
       "      <td>AGVVUU3QRQBHNASSGI5YQLPYOI2Q</td>\n",
       "      <td>B0C1N7N7V7</td>\n",
       "      <td>B09DVKV5Z6</td>\n",
       "      <td>-1</td>\n",
       "    </tr>\n",
       "    <tr>\n",
       "      <th>4</th>\n",
       "      <td>AHY55PORR7VYL72JBUYNSO6KCA5A</td>\n",
       "      <td>B00UXT39KG</td>\n",
       "      <td>B0C2DGBGJJ</td>\n",
       "      <td>-1</td>\n",
       "    </tr>\n",
       "    <tr>\n",
       "      <th>...</th>\n",
       "      <td>...</td>\n",
       "      <td>...</td>\n",
       "      <td>...</td>\n",
       "      <td>...</td>\n",
       "    </tr>\n",
       "    <tr>\n",
       "      <th>67583</th>\n",
       "      <td>AFIDVM6FUBIYOBJONKOPATBBBUBQ</td>\n",
       "      <td>B00846P0Q6</td>\n",
       "      <td>B09YMRKZ7S</td>\n",
       "      <td>-1</td>\n",
       "    </tr>\n",
       "    <tr>\n",
       "      <th>67584</th>\n",
       "      <td>AH6RGQADHHZBIDZJAI7BVFZPNOHA</td>\n",
       "      <td>B01EIPIHYI</td>\n",
       "      <td>B08FCLJV83</td>\n",
       "      <td>-1</td>\n",
       "    </tr>\n",
       "    <tr>\n",
       "      <th>67585</th>\n",
       "      <td>AFZ5UTEAQL7GGI6ISFZZAN2ERO5Q</td>\n",
       "      <td>B0072J71KO</td>\n",
       "      <td>B0C3KV8LH4</td>\n",
       "      <td>-1</td>\n",
       "    </tr>\n",
       "    <tr>\n",
       "      <th>67586</th>\n",
       "      <td>AGA6K6MEKC3KPDC2WWBT4Y5OUR6Q</td>\n",
       "      <td>B08K7BJM9R</td>\n",
       "      <td>B01HNQ1OX0</td>\n",
       "      <td>-1</td>\n",
       "    </tr>\n",
       "    <tr>\n",
       "      <th>67587</th>\n",
       "      <td>AGUMAN57QTOCMB46MX2ERULXHENQ</td>\n",
       "      <td>B0C1TDD4WW</td>\n",
       "      <td>B075JDXZZD</td>\n",
       "      <td>-1</td>\n",
       "    </tr>\n",
       "  </tbody>\n",
       "</table>\n",
       "<p>67588 rows × 4 columns</p>\n",
       "</div>"
      ],
      "text/plain": [
       "                            user_id      item_0      item_1  class\n",
       "0      AEWJXW46LKSW22FWTGRYTLNE7TGA  B0796QVRYW  B098F8FLYJ     -1\n",
       "1      AEWLOQTKYUYRJ24NK4GD5CZTR7WA  B0BJ34VXNQ  B01MFBK6J1     -1\n",
       "2      AH3OG6QD6EDJGZRVCFKV4B66VWNQ  B096M84Y7M  B002YQ2GIW     -1\n",
       "3      AGVVUU3QRQBHNASSGI5YQLPYOI2Q  B0C1N7N7V7  B09DVKV5Z6     -1\n",
       "4      AHY55PORR7VYL72JBUYNSO6KCA5A  B00UXT39KG  B0C2DGBGJJ     -1\n",
       "...                             ...         ...         ...    ...\n",
       "67583  AFIDVM6FUBIYOBJONKOPATBBBUBQ  B00846P0Q6  B09YMRKZ7S     -1\n",
       "67584  AH6RGQADHHZBIDZJAI7BVFZPNOHA  B01EIPIHYI  B08FCLJV83     -1\n",
       "67585  AFZ5UTEAQL7GGI6ISFZZAN2ERO5Q  B0072J71KO  B0C3KV8LH4     -1\n",
       "67586  AGA6K6MEKC3KPDC2WWBT4Y5OUR6Q  B08K7BJM9R  B01HNQ1OX0     -1\n",
       "67587  AGUMAN57QTOCMB46MX2ERULXHENQ  B0C1TDD4WW  B075JDXZZD     -1\n",
       "\n",
       "[67588 rows x 4 columns]"
      ]
     },
     "execution_count": 46,
     "metadata": {},
     "output_type": "execute_result"
    }
   ],
   "source": [
    "pairwise_data_test_path= current_dir.parent / \"data\" / \"data_and_test_files\"/\"cold_items_classification_test_format.csv\" \n",
    "test = pd.read_csv(pairwise_data_test_path)\n",
    "test"
   ]
  },
  {
   "cell_type": "code",
   "execution_count": 49,
   "id": "70ad6406-4c9a-4306-8004-4092a0247547",
   "metadata": {},
   "outputs": [
    {
     "data": {
      "text/html": [
       "<div>\n",
       "<style scoped>\n",
       "    .dataframe tbody tr th:only-of-type {\n",
       "        vertical-align: middle;\n",
       "    }\n",
       "\n",
       "    .dataframe tbody tr th {\n",
       "        vertical-align: top;\n",
       "    }\n",
       "\n",
       "    .dataframe thead th {\n",
       "        text-align: right;\n",
       "    }\n",
       "</style>\n",
       "<table border=\"1\" class=\"dataframe\">\n",
       "  <thead>\n",
       "    <tr style=\"text-align: right;\">\n",
       "      <th></th>\n",
       "      <th>user_id</th>\n",
       "      <th>item_0</th>\n",
       "      <th>item_1</th>\n",
       "      <th>class</th>\n",
       "      <th>user_idx</th>\n",
       "      <th>item1_id</th>\n",
       "      <th>item2_id</th>\n",
       "    </tr>\n",
       "  </thead>\n",
       "  <tbody>\n",
       "    <tr>\n",
       "      <th>0</th>\n",
       "      <td>AEWJXW46LKSW22FWTGRYTLNE7TGA</td>\n",
       "      <td>B0796QVRYW</td>\n",
       "      <td>B098F8FLYJ</td>\n",
       "      <td>-1</td>\n",
       "      <td>14</td>\n",
       "      <td>NaN</td>\n",
       "      <td>NaN</td>\n",
       "    </tr>\n",
       "    <tr>\n",
       "      <th>1</th>\n",
       "      <td>AEWLOQTKYUYRJ24NK4GD5CZTR7WA</td>\n",
       "      <td>B0BJ34VXNQ</td>\n",
       "      <td>B01MFBK6J1</td>\n",
       "      <td>-1</td>\n",
       "      <td>57</td>\n",
       "      <td>NaN</td>\n",
       "      <td>NaN</td>\n",
       "    </tr>\n",
       "    <tr>\n",
       "      <th>2</th>\n",
       "      <td>AH3OG6QD6EDJGZRVCFKV4B66VWNQ</td>\n",
       "      <td>B096M84Y7M</td>\n",
       "      <td>B002YQ2GIW</td>\n",
       "      <td>-1</td>\n",
       "      <td>63</td>\n",
       "      <td>NaN</td>\n",
       "      <td>NaN</td>\n",
       "    </tr>\n",
       "    <tr>\n",
       "      <th>3</th>\n",
       "      <td>AGVVUU3QRQBHNASSGI5YQLPYOI2Q</td>\n",
       "      <td>B0C1N7N7V7</td>\n",
       "      <td>B09DVKV5Z6</td>\n",
       "      <td>-1</td>\n",
       "      <td>84</td>\n",
       "      <td>NaN</td>\n",
       "      <td>NaN</td>\n",
       "    </tr>\n",
       "    <tr>\n",
       "      <th>4</th>\n",
       "      <td>AHY55PORR7VYL72JBUYNSO6KCA5A</td>\n",
       "      <td>B00UXT39KG</td>\n",
       "      <td>B0C2DGBGJJ</td>\n",
       "      <td>-1</td>\n",
       "      <td>87</td>\n",
       "      <td>NaN</td>\n",
       "      <td>NaN</td>\n",
       "    </tr>\n",
       "    <tr>\n",
       "      <th>...</th>\n",
       "      <td>...</td>\n",
       "      <td>...</td>\n",
       "      <td>...</td>\n",
       "      <td>...</td>\n",
       "      <td>...</td>\n",
       "      <td>...</td>\n",
       "      <td>...</td>\n",
       "    </tr>\n",
       "    <tr>\n",
       "      <th>67583</th>\n",
       "      <td>AFIDVM6FUBIYOBJONKOPATBBBUBQ</td>\n",
       "      <td>B00846P0Q6</td>\n",
       "      <td>B09YMRKZ7S</td>\n",
       "      <td>-1</td>\n",
       "      <td>1096816</td>\n",
       "      <td>NaN</td>\n",
       "      <td>NaN</td>\n",
       "    </tr>\n",
       "    <tr>\n",
       "      <th>67584</th>\n",
       "      <td>AH6RGQADHHZBIDZJAI7BVFZPNOHA</td>\n",
       "      <td>B01EIPIHYI</td>\n",
       "      <td>B08FCLJV83</td>\n",
       "      <td>-1</td>\n",
       "      <td>1096833</td>\n",
       "      <td>NaN</td>\n",
       "      <td>NaN</td>\n",
       "    </tr>\n",
       "    <tr>\n",
       "      <th>67585</th>\n",
       "      <td>AFZ5UTEAQL7GGI6ISFZZAN2ERO5Q</td>\n",
       "      <td>B0072J71KO</td>\n",
       "      <td>B0C3KV8LH4</td>\n",
       "      <td>-1</td>\n",
       "      <td>1096847</td>\n",
       "      <td>NaN</td>\n",
       "      <td>NaN</td>\n",
       "    </tr>\n",
       "    <tr>\n",
       "      <th>67586</th>\n",
       "      <td>AGA6K6MEKC3KPDC2WWBT4Y5OUR6Q</td>\n",
       "      <td>B08K7BJM9R</td>\n",
       "      <td>B01HNQ1OX0</td>\n",
       "      <td>-1</td>\n",
       "      <td>1096879</td>\n",
       "      <td>NaN</td>\n",
       "      <td>NaN</td>\n",
       "    </tr>\n",
       "    <tr>\n",
       "      <th>67587</th>\n",
       "      <td>AGUMAN57QTOCMB46MX2ERULXHENQ</td>\n",
       "      <td>B0C1TDD4WW</td>\n",
       "      <td>B075JDXZZD</td>\n",
       "      <td>-1</td>\n",
       "      <td>1096898</td>\n",
       "      <td>NaN</td>\n",
       "      <td>NaN</td>\n",
       "    </tr>\n",
       "  </tbody>\n",
       "</table>\n",
       "<p>67588 rows × 7 columns</p>\n",
       "</div>"
      ],
      "text/plain": [
       "                            user_id      item_0      item_1  class  user_idx  \\\n",
       "0      AEWJXW46LKSW22FWTGRYTLNE7TGA  B0796QVRYW  B098F8FLYJ     -1        14   \n",
       "1      AEWLOQTKYUYRJ24NK4GD5CZTR7WA  B0BJ34VXNQ  B01MFBK6J1     -1        57   \n",
       "2      AH3OG6QD6EDJGZRVCFKV4B66VWNQ  B096M84Y7M  B002YQ2GIW     -1        63   \n",
       "3      AGVVUU3QRQBHNASSGI5YQLPYOI2Q  B0C1N7N7V7  B09DVKV5Z6     -1        84   \n",
       "4      AHY55PORR7VYL72JBUYNSO6KCA5A  B00UXT39KG  B0C2DGBGJJ     -1        87   \n",
       "...                             ...         ...         ...    ...       ...   \n",
       "67583  AFIDVM6FUBIYOBJONKOPATBBBUBQ  B00846P0Q6  B09YMRKZ7S     -1   1096816   \n",
       "67584  AH6RGQADHHZBIDZJAI7BVFZPNOHA  B01EIPIHYI  B08FCLJV83     -1   1096833   \n",
       "67585  AFZ5UTEAQL7GGI6ISFZZAN2ERO5Q  B0072J71KO  B0C3KV8LH4     -1   1096847   \n",
       "67586  AGA6K6MEKC3KPDC2WWBT4Y5OUR6Q  B08K7BJM9R  B01HNQ1OX0     -1   1096879   \n",
       "67587  AGUMAN57QTOCMB46MX2ERULXHENQ  B0C1TDD4WW  B075JDXZZD     -1   1096898   \n",
       "\n",
       "       item1_id  item2_id  \n",
       "0           NaN       NaN  \n",
       "1           NaN       NaN  \n",
       "2           NaN       NaN  \n",
       "3           NaN       NaN  \n",
       "4           NaN       NaN  \n",
       "...         ...       ...  \n",
       "67583       NaN       NaN  \n",
       "67584       NaN       NaN  \n",
       "67585       NaN       NaN  \n",
       "67586       NaN       NaN  \n",
       "67587       NaN       NaN  \n",
       "\n",
       "[67588 rows x 7 columns]"
      ]
     },
     "execution_count": 49,
     "metadata": {},
     "output_type": "execute_result"
    }
   ],
   "source": [
    "user_mapping_path = current_dir.parent / \"data\" / \"pre_process\" / \"user_mapping.pkl\"\n",
    "item_mapping_path = current_dir.parent / \"data\" / \"pre_process\" / \"item_mapping.pkl\"\n",
    "import pickle\n",
    "# Load user and item mappings\n",
    "with open(user_mapping_path, 'rb') as f:\n",
    "    user_mapping = pickle.load(f)\n",
    "\n",
    "with open(item_mapping_path, 'rb') as f:\n",
    "    item_mapping = pickle.load(f)\n",
    "\n",
    "# Add numeric indices to the DataFrame\n",
    "test['user_idx'] = test['user_id'].map(user_mapping)\n",
    "test['item1_id'] = test['item_0'].map(item_mapping)\n",
    "test['item2_id'] = test['item_1'].map(item_mapping)\n",
    "test"
   ]
  },
  {
   "cell_type": "code",
   "execution_count": 47,
   "id": "dde3d31e-7f86-41ba-9d58-bb25de1b58a0",
   "metadata": {},
   "outputs": [
    {
     "data": {
      "text/html": [
       "<div>\n",
       "<style scoped>\n",
       "    .dataframe tbody tr th:only-of-type {\n",
       "        vertical-align: middle;\n",
       "    }\n",
       "\n",
       "    .dataframe tbody tr th {\n",
       "        vertical-align: top;\n",
       "    }\n",
       "\n",
       "    .dataframe thead th {\n",
       "        text-align: right;\n",
       "    }\n",
       "</style>\n",
       "<table border=\"1\" class=\"dataframe\">\n",
       "  <thead>\n",
       "    <tr style=\"text-align: right;\">\n",
       "      <th></th>\n",
       "      <th>user_id</th>\n",
       "      <th>item1_id</th>\n",
       "      <th>item2_id</th>\n",
       "      <th>label</th>\n",
       "      <th>timestamp</th>\n",
       "      <th>rating</th>\n",
       "    </tr>\n",
       "  </thead>\n",
       "  <tbody>\n",
       "    <tr>\n",
       "      <th>0</th>\n",
       "      <td>0</td>\n",
       "      <td>16177</td>\n",
       "      <td>4</td>\n",
       "      <td>4</td>\n",
       "      <td>1490800837000</td>\n",
       "      <td>5.0</td>\n",
       "    </tr>\n",
       "    <tr>\n",
       "      <th>1</th>\n",
       "      <td>1</td>\n",
       "      <td>10</td>\n",
       "      <td>174536</td>\n",
       "      <td>10</td>\n",
       "      <td>1676601720832</td>\n",
       "      <td>2.0</td>\n",
       "    </tr>\n",
       "    <tr>\n",
       "      <th>2</th>\n",
       "      <td>2</td>\n",
       "      <td>42860</td>\n",
       "      <td>16</td>\n",
       "      <td>16</td>\n",
       "      <td>1588626339041</td>\n",
       "      <td>5.0</td>\n",
       "    </tr>\n",
       "    <tr>\n",
       "      <th>3</th>\n",
       "      <td>3</td>\n",
       "      <td>20877</td>\n",
       "      <td>29</td>\n",
       "      <td>29</td>\n",
       "      <td>1605455790941</td>\n",
       "      <td>5.0</td>\n",
       "    </tr>\n",
       "    <tr>\n",
       "      <th>4</th>\n",
       "      <td>4</td>\n",
       "      <td>17870</td>\n",
       "      <td>41</td>\n",
       "      <td>41</td>\n",
       "      <td>1638039645551</td>\n",
       "      <td>5.0</td>\n",
       "    </tr>\n",
       "    <tr>\n",
       "      <th>...</th>\n",
       "      <td>...</td>\n",
       "      <td>...</td>\n",
       "      <td>...</td>\n",
       "      <td>...</td>\n",
       "      <td>...</td>\n",
       "      <td>...</td>\n",
       "    </tr>\n",
       "    <tr>\n",
       "      <th>1096896</th>\n",
       "      <td>1096896</td>\n",
       "      <td>197</td>\n",
       "      <td>11404</td>\n",
       "      <td>11404</td>\n",
       "      <td>1693892929945</td>\n",
       "      <td>5.0</td>\n",
       "    </tr>\n",
       "    <tr>\n",
       "      <th>1096897</th>\n",
       "      <td>1096897</td>\n",
       "      <td>32215</td>\n",
       "      <td>161020</td>\n",
       "      <td>161020</td>\n",
       "      <td>1617640776113</td>\n",
       "      <td>5.0</td>\n",
       "    </tr>\n",
       "    <tr>\n",
       "      <th>1096898</th>\n",
       "      <td>1096898</td>\n",
       "      <td>9974</td>\n",
       "      <td>33337</td>\n",
       "      <td>9974</td>\n",
       "      <td>1691348903005</td>\n",
       "      <td>5.0</td>\n",
       "    </tr>\n",
       "    <tr>\n",
       "      <th>1096899</th>\n",
       "      <td>1096899</td>\n",
       "      <td>45300</td>\n",
       "      <td>92761</td>\n",
       "      <td>92761</td>\n",
       "      <td>1692552496934</td>\n",
       "      <td>5.0</td>\n",
       "    </tr>\n",
       "    <tr>\n",
       "      <th>1096900</th>\n",
       "      <td>1096900</td>\n",
       "      <td>44042</td>\n",
       "      <td>76857</td>\n",
       "      <td>76857</td>\n",
       "      <td>1694098256216</td>\n",
       "      <td>5.0</td>\n",
       "    </tr>\n",
       "  </tbody>\n",
       "</table>\n",
       "<p>1096901 rows × 6 columns</p>\n",
       "</div>"
      ],
      "text/plain": [
       "         user_id  item1_id  item2_id   label      timestamp  rating\n",
       "0              0     16177         4       4  1490800837000     5.0\n",
       "1              1        10    174536      10  1676601720832     2.0\n",
       "2              2     42860        16      16  1588626339041     5.0\n",
       "3              3     20877        29      29  1605455790941     5.0\n",
       "4              4     17870        41      41  1638039645551     5.0\n",
       "...          ...       ...       ...     ...            ...     ...\n",
       "1096896  1096896       197     11404   11404  1693892929945     5.0\n",
       "1096897  1096897     32215    161020  161020  1617640776113     5.0\n",
       "1096898  1096898      9974     33337    9974  1691348903005     5.0\n",
       "1096899  1096899     45300     92761   92761  1692552496934     5.0\n",
       "1096900  1096900     44042     76857   76857  1694098256216     5.0\n",
       "\n",
       "[1096901 rows x 6 columns]"
      ]
     },
     "execution_count": 47,
     "metadata": {},
     "output_type": "execute_result"
    }
   ],
   "source": [
    "val"
   ]
  },
  {
   "cell_type": "code",
   "execution_count": null,
   "id": "616cefd5-6ff8-4157-a489-4375041014b4",
   "metadata": {},
   "outputs": [],
   "source": []
  },
  {
   "cell_type": "code",
   "execution_count": null,
   "id": "cb32c8e7-db35-4fe1-ba13-09507ff7275c",
   "metadata": {},
   "outputs": [],
   "source": [
    "# ======= Custom Dataset Class =======\n",
    "class PairwiseDataset(Dataset):\n",
    "    def __init__(self, dataframe):\n",
    "        self.users = dataframe[\"user_id\"].values\n",
    "        self.item1 = dataframe[\"item1_id\"].values\n",
    "        self.item2 = dataframe[\"item2_id\"].values\n",
    "        self.labels = dataframe[\"label\"].values\n",
    "\n",
    "    def __len__(self):\n",
    "        return len(self.users)\n",
    "\n",
    "    def __getitem__(self, idx):\n",
    "        return (\n",
    "            self.users[idx],\n",
    "            self.item1[idx],\n",
    "            self.item2[idx],\n",
    "            self.labels[idx],\n",
    "        )"
   ]
  },
  {
   "cell_type": "code",
   "execution_count": null,
   "id": "fbece754-2a31-4bd4-a917-1396db803491",
   "metadata": {},
   "outputs": [],
   "source": [
    "model.eval()\n",
    "correct = 0\n",
    "total = 0\n",
    "val_loss = 0\n",
    "for user_ids, item1_ids, item2_ids, labels in val_loader:\n",
    "    user_ids, item1_ids, item2_ids, labels = (\n",
    "        user_ids.to(device),\n",
    "        item1_ids.to(device),\n",
    "        item2_ids.to(device),\n",
    "        labels.to(device),\n",
    "    )\n",
    "    user_embed, item1_embed, item2_embed = model(user_ids, item1_ids, item2_ids)\n",
    "    #print((item1_embed==item2_embed).all())\n",
    "    score1 = (user_embed * item1_embed).sum(dim=1)  # Score for item1\n",
    "    score2 = (user_embed * item2_embed).sum(dim=1)  # Score for item2\n",
    "\n",
    "    # Determine the correct positive and negative scores based on labels\n",
    "    labels_binary = (labels == item1_ids).float()\n",
    "    #print(labels_binary)\n",
    "    pos_scores = torch.where(labels_binary == 1, score1, score2)\n",
    "    neg_scores = torch.where(labels_binary == 1, score2, score1)\n",
    "    #print(pos_scores)\n",
    "    # Check if the model correctly ranked the positive item higher\n",
    "    loss = criterion(user_embed,item1_ids, item1_embed,item2_ids, item2_embed, labels)\n",
    "    val_loss += loss.item()\n",
    "    predictions = pos_scores > neg_scores\n",
    "\n",
    "    correct += predictions.sum().item()\n",
    "    total += predictions.shape[0]\n",
    "\n",
    "val_accuracy = correct / total\n",
    "val_loss=val_loss/len(val_loader)\n",
    "print(f\"Epoch {epoch+1}: Train Loss = {train_loss:.4f},Val Loss = {val_loss:.4f}, Val Accuracy = {val_accuracy:.4f}\")\n",
    "log.write(f\"Epoch {epoch+1}: Train Loss = {train_loss:.4f}, Val Loss = {val_loss:.4f}, Val Accuracy = {val_accuracy:.4f}\\n\")\n"
   ]
  },
  {
   "cell_type": "code",
   "execution_count": null,
   "id": "0b0ff702-f195-4b0b-b616-98d552793168",
   "metadata": {},
   "outputs": [],
   "source": []
  }
 ],
 "metadata": {
  "kernelspec": {
   "display_name": "Python 3 (ipykernel)",
   "language": "python",
   "name": "python3"
  },
  "language_info": {
   "codemirror_mode": {
    "name": "ipython",
    "version": 3
   },
   "file_extension": ".py",
   "mimetype": "text/x-python",
   "name": "python",
   "nbconvert_exporter": "python",
   "pygments_lexer": "ipython3",
   "version": "3.10.14"
  }
 },
 "nbformat": 4,
 "nbformat_minor": 5
}
