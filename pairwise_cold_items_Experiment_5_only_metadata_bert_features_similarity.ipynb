{
 "cells": [
  {
   "cell_type": "code",
   "execution_count": 2,
   "id": "f07f204d-b129-41bb-ad9d-e52b522c8148",
   "metadata": {},
   "outputs": [
    {
     "name": "stdout",
     "output_type": "stream",
     "text": [
      "Requirement already satisfied: nbimporter in /opt/conda/lib/python3.10/site-packages (0.3.4)\n",
      "\u001b[33mWARNING: Running pip as the 'root' user can result in broken permissions and conflicting behaviour with the system package manager. It is recommended to use a virtual environment instead: https://pip.pypa.io/warnings/venv\u001b[0m\u001b[33m\n",
      "\u001b[0m"
     ]
    }
   ],
   "source": [
    "!pip install nbimporter"
   ]
  },
  {
   "cell_type": "code",
   "execution_count": 3,
   "id": "190c8f45-8aef-4c74-ae2d-94ed3842955b",
   "metadata": {},
   "outputs": [
    {
     "name": "stdout",
     "output_type": "stream",
     "text": [
      "Requirement already satisfied: ipynb in /opt/conda/lib/python3.10/site-packages (0.5.1)\n",
      "\u001b[33mWARNING: Running pip as the 'root' user can result in broken permissions and conflicting behaviour with the system package manager. It is recommended to use a virtual environment instead: https://pip.pypa.io/warnings/venv\u001b[0m\u001b[33m\n",
      "\u001b[0m"
     ]
    }
   ],
   "source": [
    "!pip install ipynb"
   ]
  },
  {
   "cell_type": "code",
   "execution_count": 4,
   "id": "f86f3f90-9c78-42fa-8bd8-e83c1a7a01d0",
   "metadata": {},
   "outputs": [],
   "source": [
    "import torch\n",
    "import torch.nn as nn\n",
    "import torch.optim as optim\n",
    "import pandas as pd\n",
    "import numpy as np\n",
    "from torch.utils.data import Dataset, DataLoader\n",
    "from tqdm import tqdm\n",
    "from pathlib import Path\n",
    "import pickle\n",
    "import nbimporter\n",
    "import torch.nn.functional as F"
   ]
  },
  {
   "cell_type": "code",
   "execution_count": 5,
   "id": "f654d898-ee78-4a04-888e-4560dca4e0e7",
   "metadata": {},
   "outputs": [
    {
     "name": "stderr",
     "output_type": "stream",
     "text": [
      "/opt/conda/lib/python3.10/site-packages/tqdm/auto.py:21: TqdmWarning: IProgress not found. Please update jupyter and ipywidgets. See https://ipywidgets.readthedocs.io/en/stable/user_install.html\n",
      "  from .autonotebook import tqdm as notebook_tqdm\n"
     ]
    }
   ],
   "source": [
    "# Import architectures\n",
    "from recommenders_architecture import *"
   ]
  },
  {
   "cell_type": "markdown",
   "id": "30b25565-a06b-4827-a30d-b4fb1aea74c4",
   "metadata": {},
   "source": [
    "### Load data"
   ]
  },
  {
   "cell_type": "code",
   "execution_count": 6,
   "id": "10fe0bfc-9192-4912-a6d7-f679269adca9",
   "metadata": {},
   "outputs": [],
   "source": [
    "# ======= Load Pairwise Training Data =======\n",
    "current_dir = Path.cwd()\n",
    "\n",
    "pairwise_data_train_path= current_dir.parent / \"data\" / \"pairwise\"/\"pairwise_train.csv\"\n",
    "train = pd.read_csv(pairwise_data_train_path)\n",
    "pairwise_data_val_path= current_dir.parent / \"data\" / \"pairwise\"/\"pairwise_val.csv\"\n",
    "val = pd.read_csv(pairwise_data_val_path)\n",
    "\n",
    "\n",
    "# ======= Load Item Metadata (1027-dim vectors) =======\n",
    "\n",
    "encoded_dir = current_dir.parent / \"data\" / \"encoded\" / \"per_feature\"\n"
   ]
  },
  {
   "cell_type": "code",
   "execution_count": 7,
   "id": "e615d33e-004d-4865-9a39-9a67ed9e05b8",
   "metadata": {},
   "outputs": [],
   "source": [
    "\n",
    "# ======= Configurations =======\n",
    "EMBEDDING_DIM = 24  # User embedding size\n",
    "ITEM_FEATURE_DIM = 768\n",
    "BATCH_SIZE = 512\n",
    "EPOCHS = 10\n",
    "LR = 0.00001  # Learning rate\n",
    "VAL_SPLIT = 0.1"
   ]
  },
  {
   "cell_type": "code",
   "execution_count": 8,
   "id": "e5becac4-7be8-43c3-9cf4-d3213727da42",
   "metadata": {},
   "outputs": [],
   "source": [
    "device = torch.device(\"cuda\" if torch.cuda.is_available() else \"cpu\")"
   ]
  },
  {
   "cell_type": "code",
   "execution_count": 9,
   "id": "df95d1de-f2c1-4ce4-a80d-a4394052ec02",
   "metadata": {},
   "outputs": [],
   "source": [
    "# with open(auto_encoder_metadata_file, 'rb') as f:\n",
    "#     item_metadata = pickle.load(f)"
   ]
  },
  {
   "cell_type": "code",
   "execution_count": 92,
   "id": "9286931c-b1be-4d6c-a37a-e823b87746c5",
   "metadata": {},
   "outputs": [],
   "source": [
    "\n",
    "# item_embeddings_tensor = torch.zeros(len(item_metadata), item_metadata[0].size(0))\n",
    "# for idx, (item_id, embed) in enumerate(item_metadata.items()):\n",
    "#     item_embeddings_tensor[idx] = embed\n"
   ]
  },
  {
   "cell_type": "code",
   "execution_count": 93,
   "id": "62226822-cf96-4ad8-89ee-acb3dd7c5d00",
   "metadata": {},
   "outputs": [],
   "source": [
    "# auto_encoder_metadata_file_pt_out = encoded_dir / \"compressed_all_data_encodings_256.pt\""
   ]
  },
  {
   "cell_type": "code",
   "execution_count": 94,
   "id": "bc08fe23-2333-40a1-a3dd-7ad519c0d3a4",
   "metadata": {},
   "outputs": [],
   "source": [
    "# torch.save(item_embeddings_tensor,auto_encoder_metadata_file_pt_out )"
   ]
  },
  {
   "cell_type": "markdown",
   "id": "e2a96374-caa6-44ec-9591-47e133ce9aac",
   "metadata": {},
   "source": [
    "##### Create concat of image and text"
   ]
  },
  {
   "cell_type": "code",
   "execution_count": 47,
   "id": "b2cf0177-1837-4da8-b037-230bddb2c2d7",
   "metadata": {},
   "outputs": [
    {
     "name": "stdout",
     "output_type": "stream",
     "text": [
      "✅ Item metadata saved to /storage/yahlly/RecSys/data/encoded/item_metadata_text_image.pt with 198771 items.\n"
     ]
    }
   ],
   "source": [
    "# import torch\n",
    "\n",
    "# # ======= Create Combined Item Metadata =======\n",
    "# item_metadata = {}\n",
    "\n",
    "# for item_id in text_embeddings.keys():\n",
    "#     text_embed = text_embeddings[item_id]  # (1027,)\n",
    "#     image_embed = images_embeddings.get(item_id, torch.zeros(2048))  # (2048,) default to zeros if missing\n",
    "\n",
    "#     # Concatenate along the feature dimension\n",
    "#     combined_embed = torch.cat([text_embed, image_embed], dim=0)  # (3075,)\n",
    "#     item_metadata[item_id] = combined_embed\n",
    "\n",
    "# # Save the combined metadata dictionary\n",
    "# metadata_save_path = encoded_dir / \"item_metadata_text_image.pt\"\n",
    "# torch.save(item_metadata, metadata_save_path)\n",
    "\n",
    "# print(f\"✅ Item metadata saved to {metadata_save_path} with {len(item_metadata)} items.\")\n"
   ]
  },
  {
   "cell_type": "code",
   "execution_count": 82,
   "id": "4eead506-38ac-48c0-970c-4fe7a90db897",
   "metadata": {},
   "outputs": [],
   "source": [
    "a = np.load(os.path.join(encoded_dir, \"normalized_floats.npy\"))"
   ]
  },
  {
   "cell_type": "code",
   "execution_count": 83,
   "id": "5364de97-7f6e-4b2c-bbd4-21356ba51cac",
   "metadata": {},
   "outputs": [
    {
     "name": "stdout",
     "output_type": "stream",
     "text": [
      "[[0.8        0.00949246]\n",
      " [0.925      0.05608209]\n",
      " [0.7        0.00385279]\n",
      " [0.85       0.00590978]\n",
      " [0.875      0.00474326]\n",
      " [0.875      0.02966468]\n",
      " [0.9        0.        ]\n",
      " [0.85       0.0058712 ]\n",
      " [0.775      0.00856933]\n",
      " [0.925      0.        ]\n",
      " [0.875      0.00771151]\n",
      " [0.8        0.00800833]\n",
      " [0.925      0.00533691]\n",
      " [0.85       0.00593056]\n",
      " [0.925      0.00474326]\n",
      " [0.9        0.00889881]\n",
      " [0.825      0.00741469]\n",
      " [0.75       0.00800833]\n",
      " [0.925      0.        ]\n",
      " [0.925      0.00296231]\n",
      " [0.925      0.00533691]\n",
      " [0.8        0.01067976]\n",
      " [0.8        0.01184034]\n",
      " [0.925      0.        ]\n",
      " [0.85       0.00533691]\n",
      " [0.875      0.00593056]\n",
      " [0.775      0.01216388]\n",
      " [0.7        0.00504009]\n",
      " [0.9        0.01431586]\n",
      " [0.85       0.        ]]\n"
     ]
    }
   ],
   "source": [
    "print(a[:30])"
   ]
  },
  {
   "cell_type": "code",
   "execution_count": null,
   "id": "548ba3cb-3916-4428-afc8-e5858426c026",
   "metadata": {},
   "outputs": [],
   "source": []
  },
  {
   "cell_type": "code",
   "execution_count": 9,
   "id": "cfda3b07-40b3-4542-b32c-dd475a6a694b",
   "metadata": {},
   "outputs": [
    {
     "name": "stdout",
     "output_type": "stream",
     "text": [
      "Embeddings shape: (220890, 3074)\n"
     ]
    }
   ],
   "source": [
    "import numpy as np\n",
    "import os\n",
    "\n",
    "# List of feature files\n",
    "feature_list = [\"normalized_floats.npy\", \"features_embeddings.npy\", \"title_embeddings.npy\",\"main_category_embeddings.npy\",\"details_embeddings.npy\"]\n",
    "\n",
    "# Load and store each feature embedding array\n",
    "embeddings_list = []\n",
    "for feature in feature_list:\n",
    "    file_path = os.path.join(encoded_dir, feature)\n",
    "    feature_item_metadata = np.load(file_path)\n",
    "    embeddings_list.append(feature_item_metadata)\n",
    "\n",
    "# Concatenate feature arrays along the feature dimension (axis=1)\n",
    "# Assuming that each embedding array has shape (num_items, feature_dim)\n",
    "item_metadata = np.concatenate(embeddings_list, axis=1)\n",
    "\n",
    "# Optionally, inspect the shape or content\n",
    "print(\"Embeddings shape:\", item_metadata.shape)\n"
   ]
  },
  {
   "cell_type": "markdown",
   "id": "cd1806ef-d70d-44a2-9f9c-4e0349668034",
   "metadata": {},
   "source": [
    "#### make the item metadata a tensor"
   ]
  },
  {
   "cell_type": "code",
   "execution_count": 10,
   "id": "bc3fbb21-e9c3-4f88-9e91-c73e858900e3",
   "metadata": {},
   "outputs": [
    {
     "name": "stdout",
     "output_type": "stream",
     "text": [
      "Item embeddings tensor shape: torch.Size([220890, 3074])\n"
     ]
    }
   ],
   "source": [
    "import torch\n",
    "\n",
    "# Convert the numpy array to a PyTorch tensor\n",
    "item_embeddings_tensor = torch.from_numpy(item_metadata)\n",
    "\n",
    "# Optionally, verify the shape of the resulting tensor\n",
    "print(\"Item embeddings tensor shape:\", item_embeddings_tensor.shape)"
   ]
  },
  {
   "cell_type": "code",
   "execution_count": 12,
   "id": "903e3d7b-a612-4e95-aec4-cea73a6ff0c0",
   "metadata": {},
   "outputs": [],
   "source": [
    "item_embeddings_tensor = torch.from_numpy(item_metadata).float().to(device)\n"
   ]
  },
  {
   "cell_type": "code",
   "execution_count": 16,
   "id": "48cc240c-44db-49cf-8ec8-4b3c92227d1a",
   "metadata": {},
   "outputs": [
    {
     "data": {
      "text/html": [
       "<div>\n",
       "<style scoped>\n",
       "    .dataframe tbody tr th:only-of-type {\n",
       "        vertical-align: middle;\n",
       "    }\n",
       "\n",
       "    .dataframe tbody tr th {\n",
       "        vertical-align: top;\n",
       "    }\n",
       "\n",
       "    .dataframe thead th {\n",
       "        text-align: right;\n",
       "    }\n",
       "</style>\n",
       "<table border=\"1\" class=\"dataframe\">\n",
       "  <thead>\n",
       "    <tr style=\"text-align: right;\">\n",
       "      <th></th>\n",
       "      <th>user_id</th>\n",
       "      <th>item1_id</th>\n",
       "      <th>item2_id</th>\n",
       "      <th>label</th>\n",
       "      <th>timestamp</th>\n",
       "      <th>rating</th>\n",
       "    </tr>\n",
       "  </thead>\n",
       "  <tbody>\n",
       "    <tr>\n",
       "      <th>0</th>\n",
       "      <td>0</td>\n",
       "      <td>0</td>\n",
       "      <td>13349</td>\n",
       "      <td>0</td>\n",
       "      <td>1349041740000</td>\n",
       "      <td>5.0</td>\n",
       "    </tr>\n",
       "    <tr>\n",
       "      <th>1</th>\n",
       "      <td>0</td>\n",
       "      <td>22959</td>\n",
       "      <td>1</td>\n",
       "      <td>1</td>\n",
       "      <td>1370958618000</td>\n",
       "      <td>1.0</td>\n",
       "    </tr>\n",
       "    <tr>\n",
       "      <th>2</th>\n",
       "      <td>0</td>\n",
       "      <td>97562</td>\n",
       "      <td>2</td>\n",
       "      <td>2</td>\n",
       "      <td>1440038761000</td>\n",
       "      <td>5.0</td>\n",
       "    </tr>\n",
       "    <tr>\n",
       "      <th>3</th>\n",
       "      <td>0</td>\n",
       "      <td>23003</td>\n",
       "      <td>3</td>\n",
       "      <td>3</td>\n",
       "      <td>1483320893000</td>\n",
       "      <td>3.0</td>\n",
       "    </tr>\n",
       "    <tr>\n",
       "      <th>4</th>\n",
       "      <td>1</td>\n",
       "      <td>179127</td>\n",
       "      <td>5</td>\n",
       "      <td>5</td>\n",
       "      <td>1600753653091</td>\n",
       "      <td>5.0</td>\n",
       "    </tr>\n",
       "    <tr>\n",
       "      <th>...</th>\n",
       "      <td>...</td>\n",
       "      <td>...</td>\n",
       "      <td>...</td>\n",
       "      <td>...</td>\n",
       "      <td>...</td>\n",
       "      <td>...</td>\n",
       "    </tr>\n",
       "    <tr>\n",
       "      <th>8030471</th>\n",
       "      <td>1096899</td>\n",
       "      <td>26803</td>\n",
       "      <td>32852</td>\n",
       "      <td>32852</td>\n",
       "      <td>1692552324736</td>\n",
       "      <td>5.0</td>\n",
       "    </tr>\n",
       "    <tr>\n",
       "      <th>8030472</th>\n",
       "      <td>1096899</td>\n",
       "      <td>177842</td>\n",
       "      <td>10643</td>\n",
       "      <td>10643</td>\n",
       "      <td>1692552357767</td>\n",
       "      <td>5.0</td>\n",
       "    </tr>\n",
       "    <tr>\n",
       "      <th>8030473</th>\n",
       "      <td>1096900</td>\n",
       "      <td>183765</td>\n",
       "      <td>86867</td>\n",
       "      <td>183765</td>\n",
       "      <td>1600792118191</td>\n",
       "      <td>1.0</td>\n",
       "    </tr>\n",
       "    <tr>\n",
       "      <th>8030474</th>\n",
       "      <td>1096900</td>\n",
       "      <td>155119</td>\n",
       "      <td>99585</td>\n",
       "      <td>155119</td>\n",
       "      <td>1615811081145</td>\n",
       "      <td>1.0</td>\n",
       "    </tr>\n",
       "    <tr>\n",
       "      <th>8030475</th>\n",
       "      <td>1096900</td>\n",
       "      <td>25515</td>\n",
       "      <td>75800</td>\n",
       "      <td>25515</td>\n",
       "      <td>1693494834857</td>\n",
       "      <td>4.0</td>\n",
       "    </tr>\n",
       "  </tbody>\n",
       "</table>\n",
       "<p>8030476 rows × 6 columns</p>\n",
       "</div>"
      ],
      "text/plain": [
       "         user_id  item1_id  item2_id   label      timestamp  rating\n",
       "0              0         0     13349       0  1349041740000     5.0\n",
       "1              0     22959         1       1  1370958618000     1.0\n",
       "2              0     97562         2       2  1440038761000     5.0\n",
       "3              0     23003         3       3  1483320893000     3.0\n",
       "4              1    179127         5       5  1600753653091     5.0\n",
       "...          ...       ...       ...     ...            ...     ...\n",
       "8030471  1096899     26803     32852   32852  1692552324736     5.0\n",
       "8030472  1096899    177842     10643   10643  1692552357767     5.0\n",
       "8030473  1096900    183765     86867  183765  1600792118191     1.0\n",
       "8030474  1096900    155119     99585  155119  1615811081145     1.0\n",
       "8030475  1096900     25515     75800   25515  1693494834857     4.0\n",
       "\n",
       "[8030476 rows x 6 columns]"
      ]
     },
     "execution_count": 16,
     "metadata": {},
     "output_type": "execute_result"
    }
   ],
   "source": [
    "train"
   ]
  },
  {
   "cell_type": "code",
   "execution_count": 13,
   "id": "78f1d176-fa37-46c5-b0ea-18eaf967469e",
   "metadata": {},
   "outputs": [
    {
     "name": "stdout",
     "output_type": "stream",
     "text": [
      "Number of users in user_interacted_items: 1096901\n"
     ]
    }
   ],
   "source": [
    "import pandas as pd\n",
    "from pathlib import Path\n",
    "\n",
    "# Define the path to the CSV file\n",
    "user_item_file_path = current_dir.parent / \"data\" / \"data_and_test_files\" / \"user_item_rating_table_train_with_idx.csv\"\n",
    "\n",
    "# Load the CSV file into a DataFrame\n",
    "df2 = pd.read_csv(user_item_file_path)\n",
    "\n",
    "# Create a dictionary mapping each user to a list of item IDs they interacted with.\n",
    "# Adjust the column names ('user_id' and 'item_id') if your CSV uses different names.\n",
    "#user_interacted_items = df2.groupby('user_idx')['item_idx'].apply(list).to_dict()\n",
    "train_interacted_items = train.groupby('user_id')['label'].apply(list).to_dict()\n",
    "users_list = sorted(df2['user_idx'].unique())\n",
    "# Ensure every user in your overall users_list appears in the dictionary.\n",
    "# If a user doesn't appear in the train interactions, assign an empty list.\n",
    "user_interacted_items = {user: train_interacted_items.get(user, []) for user in users_list}\n",
    "print(\"Number of users in user_interacted_items:\", len(user_interacted_items))"
   ]
  },
  {
   "cell_type": "markdown",
   "id": "eabf8da5-eb2c-4aa4-8ee3-61f05560e03e",
   "metadata": {},
   "source": [
    "### Data loader class"
   ]
  },
  {
   "cell_type": "code",
   "execution_count": 14,
   "id": "3cca433a-b985-45f9-b76e-82c9b748d10f",
   "metadata": {},
   "outputs": [],
   "source": [
    "# ======= Custom Dataset Class =======\n",
    "class PairwiseDataset(Dataset):\n",
    "    def __init__(self, dataframe):\n",
    "        self.users = dataframe[\"user_id\"].values\n",
    "        self.item1 = dataframe[\"item1_id\"].values\n",
    "        self.item2 = dataframe[\"item2_id\"].values\n",
    "        self.labels = dataframe[\"label\"].values\n",
    "\n",
    "    def __len__(self):\n",
    "        return len(self.users)\n",
    "\n",
    "    def __getitem__(self, idx):\n",
    "        return (\n",
    "            self.users[idx],\n",
    "            self.item1[idx],\n",
    "            self.item2[idx],\n",
    "            self.labels[idx],\n",
    "        )\n"
   ]
  },
  {
   "cell_type": "code",
   "execution_count": 15,
   "id": "5be6ca52-47eb-47c5-bf10-ace89a579a06",
   "metadata": {},
   "outputs": [
    {
     "data": {
      "text/html": [
       "<div>\n",
       "<style scoped>\n",
       "    .dataframe tbody tr th:only-of-type {\n",
       "        vertical-align: middle;\n",
       "    }\n",
       "\n",
       "    .dataframe tbody tr th {\n",
       "        vertical-align: top;\n",
       "    }\n",
       "\n",
       "    .dataframe thead th {\n",
       "        text-align: right;\n",
       "    }\n",
       "</style>\n",
       "<table border=\"1\" class=\"dataframe\">\n",
       "  <thead>\n",
       "    <tr style=\"text-align: right;\">\n",
       "      <th></th>\n",
       "      <th>user_id</th>\n",
       "      <th>item1_id</th>\n",
       "      <th>item2_id</th>\n",
       "      <th>label</th>\n",
       "      <th>timestamp</th>\n",
       "      <th>rating</th>\n",
       "    </tr>\n",
       "  </thead>\n",
       "  <tbody>\n",
       "    <tr>\n",
       "      <th>0</th>\n",
       "      <td>0</td>\n",
       "      <td>0</td>\n",
       "      <td>13349</td>\n",
       "      <td>0</td>\n",
       "      <td>1349041740000</td>\n",
       "      <td>5.0</td>\n",
       "    </tr>\n",
       "    <tr>\n",
       "      <th>1</th>\n",
       "      <td>0</td>\n",
       "      <td>22959</td>\n",
       "      <td>1</td>\n",
       "      <td>1</td>\n",
       "      <td>1370958618000</td>\n",
       "      <td>1.0</td>\n",
       "    </tr>\n",
       "    <tr>\n",
       "      <th>2</th>\n",
       "      <td>0</td>\n",
       "      <td>97562</td>\n",
       "      <td>2</td>\n",
       "      <td>2</td>\n",
       "      <td>1440038761000</td>\n",
       "      <td>5.0</td>\n",
       "    </tr>\n",
       "    <tr>\n",
       "      <th>3</th>\n",
       "      <td>0</td>\n",
       "      <td>23003</td>\n",
       "      <td>3</td>\n",
       "      <td>3</td>\n",
       "      <td>1483320893000</td>\n",
       "      <td>3.0</td>\n",
       "    </tr>\n",
       "    <tr>\n",
       "      <th>4</th>\n",
       "      <td>1</td>\n",
       "      <td>179127</td>\n",
       "      <td>5</td>\n",
       "      <td>5</td>\n",
       "      <td>1600753653091</td>\n",
       "      <td>5.0</td>\n",
       "    </tr>\n",
       "    <tr>\n",
       "      <th>...</th>\n",
       "      <td>...</td>\n",
       "      <td>...</td>\n",
       "      <td>...</td>\n",
       "      <td>...</td>\n",
       "      <td>...</td>\n",
       "      <td>...</td>\n",
       "    </tr>\n",
       "    <tr>\n",
       "      <th>8030471</th>\n",
       "      <td>1096899</td>\n",
       "      <td>26803</td>\n",
       "      <td>32852</td>\n",
       "      <td>32852</td>\n",
       "      <td>1692552324736</td>\n",
       "      <td>5.0</td>\n",
       "    </tr>\n",
       "    <tr>\n",
       "      <th>8030472</th>\n",
       "      <td>1096899</td>\n",
       "      <td>177842</td>\n",
       "      <td>10643</td>\n",
       "      <td>10643</td>\n",
       "      <td>1692552357767</td>\n",
       "      <td>5.0</td>\n",
       "    </tr>\n",
       "    <tr>\n",
       "      <th>8030473</th>\n",
       "      <td>1096900</td>\n",
       "      <td>183765</td>\n",
       "      <td>86867</td>\n",
       "      <td>183765</td>\n",
       "      <td>1600792118191</td>\n",
       "      <td>1.0</td>\n",
       "    </tr>\n",
       "    <tr>\n",
       "      <th>8030474</th>\n",
       "      <td>1096900</td>\n",
       "      <td>155119</td>\n",
       "      <td>99585</td>\n",
       "      <td>155119</td>\n",
       "      <td>1615811081145</td>\n",
       "      <td>1.0</td>\n",
       "    </tr>\n",
       "    <tr>\n",
       "      <th>8030475</th>\n",
       "      <td>1096900</td>\n",
       "      <td>25515</td>\n",
       "      <td>75800</td>\n",
       "      <td>25515</td>\n",
       "      <td>1693494834857</td>\n",
       "      <td>4.0</td>\n",
       "    </tr>\n",
       "  </tbody>\n",
       "</table>\n",
       "<p>8030476 rows × 6 columns</p>\n",
       "</div>"
      ],
      "text/plain": [
       "         user_id  item1_id  item2_id   label      timestamp  rating\n",
       "0              0         0     13349       0  1349041740000     5.0\n",
       "1              0     22959         1       1  1370958618000     1.0\n",
       "2              0     97562         2       2  1440038761000     5.0\n",
       "3              0     23003         3       3  1483320893000     3.0\n",
       "4              1    179127         5       5  1600753653091     5.0\n",
       "...          ...       ...       ...     ...            ...     ...\n",
       "8030471  1096899     26803     32852   32852  1692552324736     5.0\n",
       "8030472  1096899    177842     10643   10643  1692552357767     5.0\n",
       "8030473  1096900    183765     86867  183765  1600792118191     1.0\n",
       "8030474  1096900    155119     99585  155119  1615811081145     1.0\n",
       "8030475  1096900     25515     75800   25515  1693494834857     4.0\n",
       "\n",
       "[8030476 rows x 6 columns]"
      ]
     },
     "execution_count": 15,
     "metadata": {},
     "output_type": "execute_result"
    }
   ],
   "source": [
    "train"
   ]
  },
  {
   "cell_type": "code",
   "execution_count": 19,
   "id": "ea33435c-a3c5-44d3-a642-f0dca846a67d",
   "metadata": {},
   "outputs": [],
   "source": [
    "import torch\n",
    "\n",
    "max_allowed_interactions = 32\n",
    "\n",
    "# Build padded_user_interactions and user_interaction_mask with a maximum of 256 interactions per user.\n",
    "num_users = max(user_interacted_items.keys()) + 1  # or len(user_interacted_items) if keys are consecutive\n",
    "\n",
    "# Create tensors of fixed size (256) for all users.\n",
    "padded_user_interactions = torch.full((num_users, max_allowed_interactions), fill_value=-1, dtype=torch.long)\n",
    "user_interaction_mask = torch.zeros((num_users, max_allowed_interactions), dtype=torch.float)\n",
    "\n",
    "for uid, items in user_interacted_items.items():\n",
    "    # Limit interactions to at most 256 items (you can use the first 256 or sample randomly)\n",
    "    trimmed_items = items[:max_allowed_interactions]\n",
    "    num_items = len(trimmed_items)\n",
    "    padded_user_interactions[uid, :num_items] = torch.tensor(trimmed_items, dtype=torch.long)\n",
    "    user_interaction_mask[uid, :num_items] = 1.0\n",
    "\n",
    "# Optionally, move them to your device:\n",
    "padded_user_interactions = padded_user_interactions.to(device)\n",
    "user_interaction_mask = user_interaction_mask.to(device)\n"
   ]
  },
  {
   "cell_type": "code",
   "execution_count": null,
   "id": "4d908805-44e2-405e-b7c8-fd5235c05f8c",
   "metadata": {},
   "outputs": [],
   "source": [
    "# class TwoTowerModel(nn.Module):\n",
    "#     def __init__(self, num_users, num_items, embedding_dim, item_metadata_dim):\n",
    "#         super(TwoTowerModel, self).__init__()\n",
    "        \n",
    "#         # User Tower (Processes item metadata of past interactions)\n",
    "#         self.user_fc = nn.Sequential(\n",
    "#             nn.Linear(item_metadata_dim, 512),\n",
    "#             nn.ReLU(),\n",
    "#             nn.Linear(512, embedding_dim),\n",
    "#         )\n",
    "#         # Item Tower (Processes item metadata)\n",
    "#         self.item_fc = nn.Sequential(\n",
    "#             nn.Linear(item_metadata_dim, 512),\n",
    "#             nn.ReLU(),\n",
    "#             nn.Linear(512, embedding_dim),\n",
    "#         )\n",
    "\n",
    "#     def forward(self, user_ids, item1_ids, item2_ids):\n",
    "#         user_ids = user_ids.long().to(device)\n",
    "#         item1_ids = item1_ids.to(device)\n",
    "#         item2_ids = item2_ids.to(device)\n",
    "        \n",
    "#         # Retrieve the precomputed interactions and mask for each user in the batch\n",
    "#         batch_interactions = padded_user_interactions[user_ids]  # (batch_size, 256)\n",
    "#         batch_mask = user_interaction_mask[user_ids]            # (batch_size, 256)\n",
    "        \n",
    "#         # Replace padded indices (-1) with 0 (or any valid index) before lookup.\n",
    "#         valid_batch_interactions = batch_interactions.clone()\n",
    "#         valid_batch_interactions[valid_batch_interactions < 0] = 0\n",
    "        \n",
    "#         # Gather item metadata for all interactions in the batch.\n",
    "#         # item_embeddings_tensor has shape (num_items, item_metadata_dim)\n",
    "#         batch_item_metadata = item_embeddings_tensor[valid_batch_interactions]  # (batch_size, 256, item_metadata_dim)\n",
    "        \n",
    "#         # Process the metadata through the user tower.\n",
    "#         processed = self.user_fc(batch_item_metadata)  # (batch_size, 256, embedding_dim)\n",
    "        \n",
    "#         # Zero out padded positions using the mask.\n",
    "#         batch_mask_expanded = batch_mask.unsqueeze(-1)  # (batch_size, 256, 1)\n",
    "#         processed = processed * batch_mask_expanded\n",
    "        \n",
    "#         # Compute the mean for valid interactions.\n",
    "#         user_embed = processed.sum(dim=1) / (batch_mask.sum(dim=1, keepdim=True) + 1e-8)\n",
    "        \n",
    "#         # Process item towers.\n",
    "#         item1_embed = self.item_fc(item_embeddings_tensor[item1_ids])\n",
    "#         item2_embed = self.item_fc(item_embeddings_tensor[item2_ids])\n",
    "        \n",
    "#         return user_embed, item1_embed, item2_embed\n",
    "# # ======= Pairwise BPR Loss =======\n",
    "\n",
    "\n",
    "# class BPRLoss(nn.Module):\n",
    "#     def __init__(self):\n",
    "#         super(BPRLoss, self).__init__()\n",
    "\n",
    "#     def forward(self, user_embed, item1_ids, item1_embed, item2_ids, item2_embed, labels):\n",
    "#         \"\"\"\n",
    "#         Compute Bayesian Personalized Ranking (BPR) loss.\n",
    "\n",
    "#         Args:\n",
    "#         - user_embed: Tensor of shape (batch_size, embed_dim), user embeddings.\n",
    "#         - item1_ids: Tensor of shape (batch_size,), IDs of item1.\n",
    "#         - item1_embed: Tensor of shape (batch_size, embed_dim), embeddings for item1.\n",
    "#         - item2_ids: Tensor of shape (batch_size,), IDs of item2.\n",
    "#         - item2_embed: Tensor of shape (batch_size, embed_dim), embeddings for item2.\n",
    "#         - labels: Tensor of shape (batch_size,), IDs of the correct (positive) item.\n",
    "\n",
    "#         Returns:\n",
    "#         - loss: Computed BPR loss.\n",
    "#         \"\"\"\n",
    "#         # Convert labels to binary: 1 if item1 is the positive item, else 0\n",
    "#         labels_binary = (labels == item1_ids).float()\n",
    "\n",
    "#         # Compute scores\n",
    "#         score1 = (user_embed * item1_embed).sum(dim=1)  # Affinity score for item1\n",
    "#         score2 = (user_embed * item2_embed).sum(dim=1)  # Affinity score for item2\n",
    "\n",
    "#         # Assign correct positive and negative scores based on labels_binary\n",
    "#         pos_score = torch.where(labels_binary == 1, score1, score2)\n",
    "#         neg_score = torch.where(labels_binary == 1, score2, score1)\n",
    "\n",
    "#         # Compute BPR loss\n",
    "#         loss = -F.logsigmoid(pos_score - neg_score).mean()\n",
    "#         return loss\n"
   ]
  },
  {
   "cell_type": "code",
   "execution_count": 35,
   "id": "a50e675b-bd3b-4cce-883a-479e2b831f5c",
   "metadata": {},
   "outputs": [],
   "source": [
    "class TwoTowerModelBertFeaturesSimilarity(nn.Module):\n",
    "    def __init__(self, num_users, num_items, embedding_dim, item_metadata_dim):\n",
    "        super(TwoTowerModel, self).__init__()\n",
    "        \n",
    "        # User Tower (Processes item metadata of past interactions)\n",
    "        self.user_fc = nn.Sequential(\n",
    "            nn.Linear(item_metadata_dim, 512),\n",
    "            nn.LeakyReLU(0.1),   # Changed activation to LeakyReLU\n",
    "            nn.Linear(512, embedding_dim),\n",
    "        )\n",
    "        # Item Tower (Processes item metadata)\n",
    "        self.item_fc = nn.Sequential(\n",
    "            nn.Linear(item_metadata_dim, 512),\n",
    "            nn.LeakyReLU(0.1),   # Changed activation to LeakyReLU\n",
    "            nn.Linear(512, embedding_dim),\n",
    "        )\n",
    "\n",
    "    def forward(self, user_ids, item1_ids, item2_ids):\n",
    "        user_ids = user_ids.long().to(device)\n",
    "        item1_ids = item1_ids.to(device)\n",
    "        item2_ids = item2_ids.to(device)\n",
    "        \n",
    "        # Retrieve precomputed interactions and mask for each user in the batch\n",
    "        batch_interactions = padded_user_interactions[user_ids]  # (batch_size, 256)\n",
    "        batch_mask = user_interaction_mask[user_ids]             # (batch_size, 256)\n",
    "        \n",
    "        # Create an exclusion mask: zero out positions where the history equals either candidate item.\n",
    "        exclusion_mask = (\n",
    "            (batch_interactions != item1_ids.unsqueeze(1)) &\n",
    "            (batch_interactions != item2_ids.unsqueeze(1))\n",
    "        ).float()  # shape: (batch_size, 256)\n",
    "        \n",
    "        # Combine the original mask with the exclusion mask.\n",
    "        adjusted_mask = batch_mask * exclusion_mask  # (batch_size, 256)\n",
    "        \n",
    "        # Replace padded indices (-1) with 0 (a safe index) before lookup.\n",
    "        valid_batch_interactions = batch_interactions.clone()\n",
    "        valid_batch_interactions[valid_batch_interactions < 0] = 0\n",
    "        \n",
    "        # Gather item metadata for all interactions in the batch.\n",
    "        batch_item_metadata = item_embeddings_tensor[valid_batch_interactions]  # (batch_size, 256, item_metadata_dim)\n",
    "        \n",
    "        # Process the user history through the user tower.\n",
    "        processed = self.user_fc(batch_item_metadata)  # (batch_size, 256, embedding_dim)\n",
    "        \n",
    "        # Zero out padded/filtered positions using adjusted_mask.\n",
    "        batch_mask_expanded = adjusted_mask.unsqueeze(-1)  # (batch_size, 256, 1)\n",
    "        processed = processed * batch_mask_expanded\n",
    "        \n",
    "        # Instead of averaging, compute cosine similarities between candidate items and each history embedding.\n",
    "        # Candidate 1:\n",
    "        item1_embed = self.item_fc(item_embeddings_tensor[item1_ids])  # (batch_size, embedding_dim)\n",
    "        sim1 = F.cosine_similarity(processed, item1_embed.unsqueeze(1), dim=2)  # (batch_size, 256)\n",
    "        user_score1 = sim1.max(dim=1).values  # (batch_size,)\n",
    "        \n",
    "        # Candidate 2:\n",
    "        item2_embed = self.item_fc(item_embeddings_tensor[item2_ids])\n",
    "        sim2 = F.cosine_similarity(processed, item2_embed.unsqueeze(1), dim=2)\n",
    "        user_score2 = sim2.max(dim=1).values  # (batch_size,)\n",
    "        \n",
    "        return user_score1, user_score2\n",
    "class BPRLoss(nn.Module):\n",
    "    def __init__(self):\n",
    "        super(BPRLoss, self).__init__()\n",
    "\n",
    "    def forward(self, score1, score2, item1_ids, labels):\n",
    "        \"\"\"\n",
    "        Compute Bayesian Personalized Ranking (BPR) loss using candidate similarity scores.\n",
    "        \n",
    "        Args:\n",
    "        - score1: Tensor of shape (batch_size,), score for candidate item1.\n",
    "        - score2: Tensor of shape (batch_size,), score for candidate item2.\n",
    "        - item1_ids: Tensor of shape (batch_size,), IDs of candidate item1.\n",
    "        - labels: Tensor of shape (batch_size,), IDs of the correct (positive) item.\n",
    "        \n",
    "        Returns:\n",
    "        - loss: Computed BPR loss.\n",
    "        \"\"\"\n",
    "        # Create binary labels: 1 if candidate 1 is the positive item, else 0.\n",
    "        labels_binary = (labels == item1_ids).float()\n",
    "        \n",
    "        # Choose positive and negative scores based on the binary labels.\n",
    "        pos_score = torch.where(labels_binary == 1, score1, score2)\n",
    "        neg_score = torch.where(labels_binary == 1, score2, score1)\n",
    "        \n",
    "        # Compute BPR loss based on the difference between positive and negative scores.\n",
    "        loss = -F.logsigmoid(pos_score - neg_score).mean()\n",
    "        return loss\n"
   ]
  },
  {
   "cell_type": "code",
   "execution_count": 31,
   "id": "839436b4-cad0-4382-a3aa-9011c698a30e",
   "metadata": {},
   "outputs": [],
   "source": [
    "# class TwoTowerModel(nn.Module):\n",
    "#     def __init__(self, num_users, num_items, embedding_dim, item_metadata_dim):\n",
    "#         super(TwoTowerModel, self).__init__()\n",
    "        \n",
    "#         # User Tower (Processes item metadata of past interactions)\n",
    "#         self.user_fc = nn.Sequential(\n",
    "#             nn.Linear(item_metadata_dim, 512),\n",
    "#             nn.ReLU(),\n",
    "#             nn.Linear(512, embedding_dim),\n",
    "#         )\n",
    "#         # Item Tower (Processes item metadata)\n",
    "#         self.item_fc = nn.Sequential(\n",
    "#             nn.Linear(item_metadata_dim, 512),\n",
    "#             nn.ReLU(),\n",
    "#             nn.Linear(512, embedding_dim),\n",
    "#         )\n",
    "\n",
    "#     def forward(self, user_ids, item1_ids, item2_ids):\n",
    "#         # Move ids to device\n",
    "#         user_ids = user_ids.long().to(device)\n",
    "#         item1_ids = item1_ids.to(device)\n",
    "#         item2_ids = item2_ids.to(device)\n",
    "        \n",
    "#         # Retrieve precomputed interactions and mask for each user in the batch\n",
    "#         # padded_user_interactions: (batch_size, 256)\n",
    "#         # user_interaction_mask: (batch_size, 256)\n",
    "#         batch_interactions = padded_user_interactions[user_ids]\n",
    "#         batch_mask = user_interaction_mask[user_ids]\n",
    "        \n",
    "#         # Create an exclusion mask: zero out positions where the history equals either candidate item.\n",
    "#         # We use unsqueeze to broadcast item1_ids/item2_ids along the history dimension.\n",
    "#         exclusion_mask = (\n",
    "#             (batch_interactions != item1_ids.unsqueeze(1)) &\n",
    "#             (batch_interactions != item2_ids.unsqueeze(1))\n",
    "#         ).float()  # shape: (batch_size, 256)\n",
    "        \n",
    "#         # Combine the original mask with the exclusion mask.\n",
    "#         adjusted_mask = batch_mask * exclusion_mask  # (batch_size, 256)\n",
    "        \n",
    "#         # Replace padded indices (-1) with 0 (a safe index) before lookup.\n",
    "#         valid_batch_interactions = batch_interactions.clone()\n",
    "#         valid_batch_interactions[valid_batch_interactions < 0] = 0\n",
    "        \n",
    "#         # Gather item metadata for all interactions in the batch.\n",
    "#         # item_embeddings_tensor has shape: (num_items, item_metadata_dim)\n",
    "#         batch_item_metadata = item_embeddings_tensor[valid_batch_interactions]  # (batch_size, 256, item_metadata_dim)\n",
    "        \n",
    "#         # Process the user history through the user tower.\n",
    "#         processed = self.user_fc(batch_item_metadata)  # (batch_size, 256, embedding_dim)\n",
    "        \n",
    "#         # Zero out padded/filtered positions using adjusted_mask.\n",
    "#         batch_mask_expanded = adjusted_mask.unsqueeze(-1)  # (batch_size, 256, 1)\n",
    "#         processed = processed * batch_mask_expanded\n",
    "        \n",
    "#         # Instead of averaging, we compute cosine similarities between candidate items and each history embedding.\n",
    "#         # Candidate 1 processing:\n",
    "#         item1_embed = self.item_fc(item_embeddings_tensor[item1_ids])  # (batch_size, embedding_dim)\n",
    "#         # Compute cosine similarity between each history embedding and candidate1.\n",
    "#         # F.cosine_similarity expects the two inputs to have the same shape.\n",
    "#         # Expand candidate embedding to (batch_size, 1, embedding_dim) to compare with (batch_size, 256, embedding_dim)\n",
    "#         sim1 = F.cosine_similarity(processed, item1_embed.unsqueeze(1), dim=2)  # (batch_size, 256)\n",
    "#         # Aggregate similarities over history items; here, we take the maximum similarity.\n",
    "#         user_score1 = sim1.max(dim=1).values  # (batch_size,)\n",
    "        \n",
    "#         # Candidate 2 processing:\n",
    "#         item2_embed = self.item_fc(item_embeddings_tensor[item2_ids])\n",
    "#         sim2 = F.cosine_similarity(processed, item2_embed.unsqueeze(1), dim=2)\n",
    "#         user_score2 = sim2.max(dim=1).values  # (batch_size,)\n",
    "        \n",
    "#         # Return the candidate similarity scores.\n",
    "#         return user_score1, user_score2\n",
    "# class BPRLoss(nn.Module):\n",
    "#     def __init__(self):\n",
    "#         super(BPRLoss, self).__init__()\n",
    "\n",
    "#     def forward(self, score1, score2, item1_ids, labels):\n",
    "#         \"\"\"\n",
    "#         Compute Bayesian Personalized Ranking (BPR) loss using candidate similarity scores.\n",
    "        \n",
    "#         Args:\n",
    "#         - score1: Tensor of shape (batch_size,), score for candidate item1.\n",
    "#         - score2: Tensor of shape (batch_size,), score for candidate item2.\n",
    "#         - item1_ids: Tensor of shape (batch_size,), IDs of candidate item1.\n",
    "#         - labels: Tensor of shape (batch_size,), IDs of the correct (positive) item.\n",
    "        \n",
    "#         Returns:\n",
    "#         - loss: Computed BPR loss.\n",
    "#         \"\"\"\n",
    "#         # Create binary labels: 1 if candidate 1 is the positive item, else 0.\n",
    "#         labels_binary = (labels == item1_ids).float()\n",
    "        \n",
    "#         # Choose positive and negative scores based on the binary labels.\n",
    "#         pos_score = torch.where(labels_binary == 1, score1, score2)\n",
    "#         neg_score = torch.where(labels_binary == 1, score2, score1)\n",
    "        \n",
    "#         # Compute BPR loss based on the difference between positive and negative scores.\n",
    "#         loss = -F.logsigmoid(pos_score - neg_score).mean()\n",
    "#         return loss\n"
   ]
  },
  {
   "cell_type": "code",
   "execution_count": 29,
   "id": "ea974a49-cb6a-4300-ae48-0ee96015cb3d",
   "metadata": {},
   "outputs": [],
   "source": [
    "# class TwoTowerModel(nn.Module):\n",
    "#     def __init__(self, num_users, num_items, embedding_dim, item_metadata_dim):\n",
    "#         super(TwoTowerModel, self).__init__()\n",
    "        \n",
    "#         # User Tower (Processes item metadata of past interactions)\n",
    "#         self.user_fc = nn.Sequential(\n",
    "#             nn.Linear(item_metadata_dim, 512),\n",
    "#             nn.ReLU(),\n",
    "#             nn.Linear(512, embedding_dim),\n",
    "#         )\n",
    "#         # Item Tower (Processes item metadata)\n",
    "#         self.item_fc = nn.Sequential(\n",
    "#             nn.Linear(item_metadata_dim, 512),\n",
    "#             nn.ReLU(),\n",
    "#             nn.Linear(512, embedding_dim),\n",
    "#         )\n",
    "\n",
    "#     def forward(self, user_ids, item1_ids, item2_ids):\n",
    "#         user_ids = user_ids.long().to(device)\n",
    "#         item1_ids = item1_ids.to(device)\n",
    "#         item2_ids = item2_ids.to(device)\n",
    "        \n",
    "#         # Retrieve the precomputed interactions and mask for each user in the batch\n",
    "#         batch_interactions = padded_user_interactions[user_ids]  # (batch_size, 256)\n",
    "#         batch_mask = user_interaction_mask[user_ids]             # (batch_size, 256)\n",
    "        \n",
    "#         # Compute an exclusion mask that is 0 for positions where the history equals item1 or item2,\n",
    "#         # and 1 otherwise. We use the original padded values (which may include -1 for padding).\n",
    "#         exclusion_mask = (\n",
    "#             (batch_interactions != item1_ids.unsqueeze(1)) &\n",
    "#             (batch_interactions != item2_ids.unsqueeze(1))\n",
    "#         ).float()  # shape: (batch_size, 256)\n",
    "        \n",
    "#         # Combine the exclusion mask with the original mask so that positions with either padding\n",
    "#         # or matching the current items are zeroed out.\n",
    "#         adjusted_mask = batch_mask * exclusion_mask  # (batch_size, 256)\n",
    "        \n",
    "#         # Replace padded indices (-1) with 0 (a safe index) before lookup.\n",
    "#         valid_batch_interactions = batch_interactions.clone()\n",
    "#         valid_batch_interactions[valid_batch_interactions < 0] = 0\n",
    "        \n",
    "#         # Gather item metadata for all interactions in the batch.\n",
    "#         # item_embeddings_tensor has shape (num_items, item_metadata_dim)\n",
    "#         batch_item_metadata = item_embeddings_tensor[valid_batch_interactions]  # (batch_size, 256, item_metadata_dim)\n",
    "        \n",
    "#         # Process the metadata through the user tower.\n",
    "#         processed = self.user_fc(batch_item_metadata)  # (batch_size, 256, embedding_dim)\n",
    "        \n",
    "#         # Zero out positions that are either padding or match the current items using adjusted_mask.\n",
    "#         batch_mask_expanded = adjusted_mask.unsqueeze(-1)  # (batch_size, 256, 1)\n",
    "#         processed = processed * batch_mask_expanded\n",
    "        \n",
    "#         # Compute the mean over valid interactions (avoiding division by zero).\n",
    "#         user_embed = processed.sum(dim=1) / (adjusted_mask.sum(dim=1, keepdim=True) + 1e-8)\n",
    "        \n",
    "#         # Process item towers.\n",
    "#         item1_embed = self.item_fc(item_embeddings_tensor[item1_ids])\n",
    "#         item2_embed = self.item_fc(item_embeddings_tensor[item2_ids])\n",
    "        \n",
    "#         return user_embed, item1_embed, item2_embed\n",
    "\n",
    "# ======= Pairwise BPR Loss =======\n",
    "\n",
    "\n",
    "# class BPRLoss(nn.Module):\n",
    "#     def __init__(self):\n",
    "#         super(BPRLoss, self).__init__()\n",
    "\n",
    "#     def forward(self, user_embed, item1_ids, item1_embed, item2_ids, item2_embed, labels):\n",
    "#         \"\"\"\n",
    "#         Compute Bayesian Personalized Ranking (BPR) loss.\n",
    "\n",
    "#         Args:\n",
    "#         - user_embed: Tensor of shape (batch_size, embed_dim), user embeddings.\n",
    "#         - item1_ids: Tensor of shape (batch_size,), IDs of item1.\n",
    "#         - item1_embed: Tensor of shape (batch_size, embed_dim), embeddings for item1.\n",
    "#         - item2_ids: Tensor of shape (batch_size,), IDs of item2.\n",
    "#         - item2_embed: Tensor of shape (batch_size, embed_dim), embeddings for item2.\n",
    "#         - labels: Tensor of shape (batch_size,), IDs of the correct (positive) item.\n",
    "\n",
    "#         Returns:\n",
    "#         - loss: Computed BPR loss.\n",
    "#         \"\"\"\n",
    "#         # Convert labels to binary: 1 if item1 is the positive item, else 0\n",
    "#         labels_binary = (labels == item1_ids).float()\n",
    "\n",
    "#         # Compute scores\n",
    "#         score1 = (user_embed * item1_embed).sum(dim=1)  # Affinity score for item1\n",
    "#         score2 = (user_embed * item2_embed).sum(dim=1)  # Affinity score for item2\n",
    "\n",
    "#         # Assign correct positive and negative scores based on labels_binary\n",
    "#         pos_score = torch.where(labels_binary == 1, score1, score2)\n",
    "#         neg_score = torch.where(labels_binary == 1, score2, score1)\n",
    "\n",
    "#         # Compute BPR loss\n",
    "#         loss = -F.logsigmoid(pos_score - neg_score).mean()\n",
    "#         return loss\n"
   ]
  },
  {
   "cell_type": "code",
   "execution_count": 20,
   "id": "7a6aa6ff-cc02-4bd8-8e6e-71c245517045",
   "metadata": {},
   "outputs": [
    {
     "data": {
      "text/html": [
       "<div>\n",
       "<style scoped>\n",
       "    .dataframe tbody tr th:only-of-type {\n",
       "        vertical-align: middle;\n",
       "    }\n",
       "\n",
       "    .dataframe tbody tr th {\n",
       "        vertical-align: top;\n",
       "    }\n",
       "\n",
       "    .dataframe thead th {\n",
       "        text-align: right;\n",
       "    }\n",
       "</style>\n",
       "<table border=\"1\" class=\"dataframe\">\n",
       "  <thead>\n",
       "    <tr style=\"text-align: right;\">\n",
       "      <th></th>\n",
       "      <th>user_id</th>\n",
       "      <th>item1_id</th>\n",
       "      <th>item2_id</th>\n",
       "      <th>label</th>\n",
       "    </tr>\n",
       "  </thead>\n",
       "  <tbody>\n",
       "    <tr>\n",
       "      <th>0</th>\n",
       "      <td>0</td>\n",
       "      <td>50787</td>\n",
       "      <td>0</td>\n",
       "      <td>0</td>\n",
       "    </tr>\n",
       "    <tr>\n",
       "      <th>1</th>\n",
       "      <td>0</td>\n",
       "      <td>1</td>\n",
       "      <td>33482</td>\n",
       "      <td>1</td>\n",
       "    </tr>\n",
       "    <tr>\n",
       "      <th>2</th>\n",
       "      <td>0</td>\n",
       "      <td>35983</td>\n",
       "      <td>2</td>\n",
       "      <td>2</td>\n",
       "    </tr>\n",
       "    <tr>\n",
       "      <th>3</th>\n",
       "      <td>0</td>\n",
       "      <td>3</td>\n",
       "      <td>125581</td>\n",
       "      <td>3</td>\n",
       "    </tr>\n",
       "    <tr>\n",
       "      <th>4</th>\n",
       "      <td>0</td>\n",
       "      <td>4</td>\n",
       "      <td>60296</td>\n",
       "      <td>4</td>\n",
       "    </tr>\n",
       "  </tbody>\n",
       "</table>\n",
       "</div>"
      ],
      "text/plain": [
       "   user_id  item1_id  item2_id  label\n",
       "0        0     50787         0      0\n",
       "1        0         1     33482      1\n",
       "2        0     35983         2      2\n",
       "3        0         3    125581      3\n",
       "4        0         4     60296      4"
      ]
     },
     "execution_count": 20,
     "metadata": {},
     "output_type": "execute_result"
    }
   ],
   "source": [
    "df.head()"
   ]
  },
  {
   "cell_type": "code",
   "execution_count": 21,
   "id": "a0102ea4-3720-46ed-88b5-ce2759ca2f7d",
   "metadata": {},
   "outputs": [],
   "source": [
    "train_loader = DataLoader(PairwiseDataset(train), batch_size=BATCH_SIZE, shuffle=True)\n",
    "val_loader = DataLoader(PairwiseDataset(val), batch_size=BATCH_SIZE, shuffle=False)"
   ]
  },
  {
   "cell_type": "code",
   "execution_count": 22,
   "id": "80bc30b8-dbc6-4e8f-a963-a10ab0a3b616",
   "metadata": {},
   "outputs": [],
   "source": [
    "num_users = 1096901\n",
    "num_items = 198771\n"
   ]
  },
  {
   "cell_type": "code",
   "execution_count": 23,
   "id": "b3eb7df3-adb5-4032-87dd-bd00819d5cfa",
   "metadata": {},
   "outputs": [],
   "source": [
    "ITEM_FEATURE_DIM = 3074"
   ]
  },
  {
   "cell_type": "code",
   "execution_count": 38,
   "id": "e4dd3f16-9e3f-4318-97ea-d0fc8b527168",
   "metadata": {},
   "outputs": [
    {
     "name": "stdout",
     "output_type": "stream",
     "text": [
      "🚀 Training Model...\n"
     ]
    },
    {
     "name": "stderr",
     "output_type": "stream",
     "text": [
      "Epoch 1/10: 100%|██████████| 15685/15685 [03:14<00:00, 80.83it/s]\n"
     ]
    },
    {
     "name": "stdout",
     "output_type": "stream",
     "text": [
      "Epoch 1: Train Loss = 0.6926, Val Loss = 0.6929, Val Accuracy = 0.5008\n"
     ]
    },
    {
     "name": "stderr",
     "output_type": "stream",
     "text": [
      "Epoch 2/10: 100%|██████████| 15685/15685 [03:12<00:00, 81.30it/s]\n"
     ]
    },
    {
     "name": "stdout",
     "output_type": "stream",
     "text": [
      "Epoch 2: Train Loss = 0.6923, Val Loss = 0.6929, Val Accuracy = 0.5012\n"
     ]
    },
    {
     "name": "stderr",
     "output_type": "stream",
     "text": [
      "Epoch 3/10: 100%|██████████| 15685/15685 [03:17<00:00, 79.44it/s]\n"
     ]
    },
    {
     "name": "stdout",
     "output_type": "stream",
     "text": [
      "Epoch 3: Train Loss = 0.6920, Val Loss = 0.6929, Val Accuracy = 0.5016\n"
     ]
    },
    {
     "name": "stderr",
     "output_type": "stream",
     "text": [
      "Epoch 4/10: 100%|██████████| 15685/15685 [03:20<00:00, 78.15it/s]\n"
     ]
    },
    {
     "name": "stdout",
     "output_type": "stream",
     "text": [
      "Epoch 4: Train Loss = 0.6918, Val Loss = 0.6928, Val Accuracy = 0.5016\n"
     ]
    },
    {
     "name": "stderr",
     "output_type": "stream",
     "text": [
      "Epoch 5/10: 100%|██████████| 15685/15685 [03:20<00:00, 78.16it/s]\n"
     ]
    },
    {
     "name": "stdout",
     "output_type": "stream",
     "text": [
      "Epoch 5: Train Loss = 0.6915, Val Loss = 0.6927, Val Accuracy = 0.5016\n"
     ]
    },
    {
     "name": "stderr",
     "output_type": "stream",
     "text": [
      "Epoch 6/10: 100%|██████████| 15685/15685 [03:20<00:00, 78.20it/s]\n"
     ]
    },
    {
     "name": "stdout",
     "output_type": "stream",
     "text": [
      "Epoch 6: Train Loss = 0.6912, Val Loss = 0.6932, Val Accuracy = 0.5017\n"
     ]
    },
    {
     "name": "stderr",
     "output_type": "stream",
     "text": [
      "Epoch 7/10: 100%|██████████| 15685/15685 [02:53<00:00, 90.28it/s]\n"
     ]
    },
    {
     "name": "stdout",
     "output_type": "stream",
     "text": [
      "Epoch 7: Train Loss = 0.6909, Val Loss = 0.6926, Val Accuracy = 0.5020\n"
     ]
    },
    {
     "name": "stderr",
     "output_type": "stream",
     "text": [
      "Epoch 8/10: 100%|██████████| 15685/15685 [02:53<00:00, 90.43it/s]\n"
     ]
    },
    {
     "name": "stdout",
     "output_type": "stream",
     "text": [
      "Epoch 8: Train Loss = 0.6905, Val Loss = 0.6926, Val Accuracy = 0.5018\n"
     ]
    },
    {
     "name": "stderr",
     "output_type": "stream",
     "text": [
      "Epoch 9/10: 100%|██████████| 15685/15685 [02:53<00:00, 90.51it/s]\n"
     ]
    },
    {
     "name": "stdout",
     "output_type": "stream",
     "text": [
      "Epoch 9: Train Loss = 0.6901, Val Loss = 0.6926, Val Accuracy = 0.5019\n"
     ]
    },
    {
     "name": "stderr",
     "output_type": "stream",
     "text": [
      "Epoch 10/10: 100%|██████████| 15685/15685 [02:53<00:00, 90.37it/s]\n"
     ]
    },
    {
     "name": "stdout",
     "output_type": "stream",
     "text": [
      "Epoch 10: Train Loss = 0.6897, Val Loss = 0.6924, Val Accuracy = 0.5020\n",
      "✅ Model Training Complete!\n"
     ]
    }
   ],
   "source": [
    "# ======= Initialize Model, Loss, Optimizer =======\n",
    "device = torch.device(\"cuda\" if torch.cuda.is_available() else \"cpu\")\n",
    "model = TwoTowerModel(num_users, num_items, EMBEDDING_DIM, ITEM_FEATURE_DIM).to(device)\n",
    "criterion = BPRLoss()\n",
    "optimizer = optim.Adam(model.parameters(), lr=LR * 1)\n",
    "\n",
    "# Log file for monitoring\n",
    "log_file = \"cold_training_log.txt\"\n",
    "\n",
    "print(\"🚀 Training Model...\")\n",
    "with open(log_file, \"w\") as log:\n",
    "    log.write(\"🚀 Training Model...\\n\")\n",
    "    \n",
    "    for epoch in range(EPOCHS):\n",
    "        model.train()\n",
    "        train_loss = 0\n",
    "        \n",
    "        for user_ids, item1_ids, item2_ids, labels in tqdm(train_loader, desc=f\"Epoch {epoch+1}/{EPOCHS}\"):\n",
    "            # Move inputs to device\n",
    "            user_ids = user_ids.to(device)\n",
    "            item1_ids = item1_ids.to(device)\n",
    "            item2_ids = item2_ids.to(device)\n",
    "            labels = labels.to(device)\n",
    "            \n",
    "            optimizer.zero_grad()\n",
    "            \n",
    "            # Forward pass now returns candidate scores based on cosine similarities.\n",
    "            score1, score2 = model(user_ids, item1_ids, item2_ids)\n",
    "            #print(score1,score2)\n",
    "            loss = criterion(score1, score2, item1_ids, labels)\n",
    "            train_loss += loss.item()\n",
    "            \n",
    "            loss.backward()\n",
    "            optimizer.step()\n",
    "        \n",
    "        train_loss /= len(train_loader)\n",
    "        \n",
    "        # ======= Validation =======\n",
    "        model.eval()\n",
    "        correct = 0\n",
    "        total = 0\n",
    "        val_loss = 0\n",
    "        with torch.no_grad():\n",
    "            for user_ids, item1_ids, item2_ids, labels in val_loader:\n",
    "                user_ids = user_ids.to(device)\n",
    "                item1_ids = item1_ids.to(device)\n",
    "                item2_ids = item2_ids.to(device)\n",
    "                labels = labels.to(device)\n",
    "                \n",
    "                # Forward pass returns candidate scores\n",
    "                score1, score2 = model(user_ids, item1_ids, item2_ids)\n",
    "                loss = criterion(score1, score2, item1_ids, labels)\n",
    "                val_loss += loss.item()\n",
    "                \n",
    "                # Create a binary indicator: 1 if candidate 1 is positive, 0 otherwise.\n",
    "                labels_binary = (labels == item1_ids).float()\n",
    "                \n",
    "                # Predict candidate 1 as positive if score1 > score2.\n",
    "                predicted_positive = (score1 > score2).float()\n",
    "                \n",
    "                # A prediction is correct if the predicted indicator matches the ground truth.\n",
    "                correct += (predicted_positive == labels_binary).sum().item()\n",
    "                total += labels.size(0)\n",
    "                \n",
    "        # with torch.no_grad():\n",
    "        #     for user_ids, item1_ids, item2_ids, labels in val_loader:\n",
    "        #         user_ids = user_ids.to(device)\n",
    "        #         item1_ids = item1_ids.to(device)\n",
    "        #         item2_ids = item2_ids.to(device)\n",
    "        #         labels = labels.to(device)\n",
    "                \n",
    "        #         # Forward pass returns candidate scores\n",
    "        #         score1, score2 = model(user_ids, item1_ids, item2_ids)\n",
    "        #         loss = criterion(score1, score2, item1_ids, labels)\n",
    "        #         val_loss += loss.item()\n",
    "                \n",
    "        #         # For evaluation, if score1 > score2, candidate1 is predicted to be positive.\n",
    "        #         predictions = score1 > score2\n",
    "        #         correct += predictions.sum().item()\n",
    "        #         total += predictions.shape[0]\n",
    "        \n",
    "        val_loss /= len(val_loader)\n",
    "        val_accuracy = correct / total\n",
    "        \n",
    "        print(f\"Epoch {epoch+1}: Train Loss = {train_loss:.4f}, Val Loss = {val_loss:.4f}, Val Accuracy = {val_accuracy:.4f}\")\n",
    "        with open(log_file, \"a\") as log:\n",
    "            log.write(f\"Epoch {epoch+1}: Train Loss = {train_loss:.4f}, Val Loss = {val_loss:.4f}, Val Accuracy = {val_accuracy:.4f}\\n\")\n",
    "\n",
    "print(\"✅ Model Training Complete!\")\n",
    "with open(log_file, \"a\") as log:\n",
    "    log.write(\"✅ Model Training Complete!\\n\")\n"
   ]
  },
  {
   "cell_type": "code",
   "execution_count": 30,
   "id": "f32256eb-7757-4659-8897-10d536899224",
   "metadata": {},
   "outputs": [
    {
     "name": "stdout",
     "output_type": "stream",
     "text": [
      "🚀 Training Model...\n"
     ]
    },
    {
     "name": "stderr",
     "output_type": "stream",
     "text": [
      "Epoch 1/10:   0%|          | 0/15685 [00:00<?, ?it/s]\n"
     ]
    },
    {
     "ename": "ValueError",
     "evalue": "not enough values to unpack (expected 3, got 2)",
     "output_type": "error",
     "traceback": [
      "\u001b[0;31m---------------------------------------------------------------------------\u001b[0m",
      "\u001b[0;31mValueError\u001b[0m                                Traceback (most recent call last)",
      "Cell \u001b[0;32mIn[30], line 22\u001b[0m\n\u001b[1;32m     19\u001b[0m user_ids, item1_ids, item2_ids,labels \u001b[38;5;241m=\u001b[39m user_ids\u001b[38;5;241m.\u001b[39mto(device), item1_ids\u001b[38;5;241m.\u001b[39mto(device), item2_ids\u001b[38;5;241m.\u001b[39mto(device), labels\u001b[38;5;241m.\u001b[39mto(device)\n\u001b[1;32m     21\u001b[0m \u001b[38;5;66;03m# Forward Pass\u001b[39;00m\n\u001b[0;32m---> 22\u001b[0m user_embed, item1_embed, item2_embed \u001b[38;5;241m=\u001b[39m model(user_ids, item1_ids, item2_ids)\n\u001b[1;32m     23\u001b[0m \u001b[38;5;66;03m#print(item1_embed==item2_embed)\u001b[39;00m\n\u001b[1;32m     24\u001b[0m \u001b[38;5;66;03m# Compute Loss\u001b[39;00m\n\u001b[1;32m     25\u001b[0m \u001b[38;5;66;03m# print(item1_embed==item2_embed)\u001b[39;00m\n\u001b[1;32m     26\u001b[0m loss \u001b[38;5;241m=\u001b[39m criterion(user_embed,item1_ids, item1_embed,item2_ids, item2_embed, labels)\n",
      "\u001b[0;31mValueError\u001b[0m: not enough values to unpack (expected 3, got 2)"
     ]
    }
   ],
   "source": [
    "\n",
    "# # ======= Initialize Model, Loss, Optimizer =======\n",
    "# device = torch.device(\"cuda\" if torch.cuda.is_available() else \"cpu\")\n",
    "# model = TwoTowerModel(num_users, num_items, EMBEDDING_DIM, ITEM_FEATURE_DIM).to(device)\n",
    "# criterion = BPRLoss()\n",
    "# optimizer = optim.Adam(model.parameters(), lr=LR*0.01)\n",
    "\n",
    "# # ======= Training Loop =======\n",
    "# # ======= Training & Validation =======\n",
    "# log_file = \"cold_training_log.txt\"\n",
    "\n",
    "# print(\"🚀 Training Model...\")\n",
    "# with open(log_file, \"w\") as log:\n",
    "#     log.write(\"🚀 Training Model...\\n\")\n",
    "#     for epoch in range(EPOCHS):\n",
    "#         model.train()\n",
    "#         train_loss = 0\n",
    "    \n",
    "#         for user_ids, item1_ids, item2_ids,labels in tqdm(train_loader, desc=f\"Epoch {epoch+1}/{EPOCHS}\"):\n",
    "#             user_ids, item1_ids, item2_ids,labels = user_ids.to(device), item1_ids.to(device), item2_ids.to(device), labels.to(device)\n",
    "    \n",
    "#             # Forward Pass\n",
    "#             user_embed, item1_embed, item2_embed = model(user_ids, item1_ids, item2_ids)\n",
    "#             #print(item1_embed==item2_embed)\n",
    "#             # Compute Loss\n",
    "#             # print(item1_embed==item2_embed)\n",
    "#             loss = criterion(user_embed,item1_ids, item1_embed,item2_ids, item2_embed, labels)\n",
    "#             train_loss += loss.item()\n",
    "            \n",
    "#             # Backpropagation\n",
    "#             optimizer.zero_grad()\n",
    "#             loss.backward()\n",
    "#             optimizer.step()\n",
    "#         train_loss = train_loss /len(train_loader)\n",
    "#         # ======= Validation =======\n",
    "#         model.eval()\n",
    "#         correct = 0\n",
    "#         total = 0\n",
    "#         val_loss = 0\n",
    "#         for user_ids, item1_ids, item2_ids, labels in val_loader:\n",
    "#             user_ids, item1_ids, item2_ids, labels = (\n",
    "#                 user_ids.to(device),\n",
    "#                 item1_ids.to(device),\n",
    "#                 item2_ids.to(device),\n",
    "#                 labels.to(device),\n",
    "#             )\n",
    "#             user_embed, item1_embed, item2_embed = model(user_ids, item1_ids, item2_ids)\n",
    "#             #print((item1_embed==item2_embed).all())\n",
    "#             score1 = (user_embed * item1_embed).sum(dim=1)  # Score for item1\n",
    "#             score2 = (user_embed * item2_embed).sum(dim=1)  # Score for item2\n",
    "    \n",
    "#             # Determine the correct positive and negative scores based on labels\n",
    "#             labels_binary = (labels == item1_ids).float()\n",
    "#             #print(labels_binary)\n",
    "#             pos_scores = torch.where(labels_binary == 1, score1, score2)\n",
    "#             neg_scores = torch.where(labels_binary == 1, score2, score1)\n",
    "#             #print(pos_scores)\n",
    "#             # Check if the model correctly ranked the positive item higher\n",
    "#             loss = criterion(user_embed,item1_ids, item1_embed,item2_ids, item2_embed, labels)\n",
    "#             val_loss += loss.item()\n",
    "#             predictions = pos_scores > neg_scores\n",
    "    \n",
    "#             correct += predictions.sum().item()\n",
    "#             total += predictions.shape[0]\n",
    "    \n",
    "#         val_accuracy = correct / total\n",
    "#         val_loss=val_loss/len(val_loader)\n",
    "#         print(f\"Epoch {epoch+1}: Train Loss = {train_loss:.4f},Val Loss = {val_loss:.4f}, Val Accuracy = {val_accuracy:.4f}\")\n",
    "#         log.write(f\"Epoch {epoch+1}: Train Loss = {train_loss:.4f}, Val Loss = {val_loss:.4f}, Val Accuracy = {val_accuracy:.4f}\\n\")\n",
    "\n",
    "\n",
    "\n",
    "# # ======= Save Model =======\n",
    "# #torch.save(model.state_dict(), \"trained_model.pth\")\n",
    "# print(\"✅ Model Training Complete!\")\n",
    "# with open(log_file, \"a\") as log:\n",
    "#     log.write(\"✅ Model Training Complete!\\n\")"
   ]
  },
  {
   "cell_type": "markdown",
   "id": "4aa17309-33b9-4148-af0f-5405891011d0",
   "metadata": {},
   "source": [
    "### Optuna hyperparameter Tuning"
   ]
  },
  {
   "cell_type": "code",
   "execution_count": 112,
   "id": "c9abe7aa-2887-4a34-825a-ee1edca90f40",
   "metadata": {},
   "outputs": [
    {
     "name": "stderr",
     "output_type": "stream",
     "text": [
      "[I 2025-03-08 11:07:17,578] A new study created in memory with name: no-name-e640cf32-022f-4514-b1b1-1b822d320c46\n"
     ]
    },
    {
     "data": {
      "text/html": [
       "Finishing last run (ID:9lgl22bs) before initializing another..."
      ],
      "text/plain": [
       "<IPython.core.display.HTML object>"
      ]
     },
     "metadata": {},
     "output_type": "display_data"
    },
    {
     "data": {
      "text/html": [
       " View run <strong style=\"color:#cdcd00\">electric-oath-1</strong> at: <a href='https://wandb.ai/ronelias-tel-aviv-university/TwoTowerModel_tuning/runs/9lgl22bs' target=\"_blank\">https://wandb.ai/ronelias-tel-aviv-university/TwoTowerModel_tuning/runs/9lgl22bs</a><br/> View project at: <a href='https://wandb.ai/ronelias-tel-aviv-university/TwoTowerModel_tuning' target=\"_blank\">https://wandb.ai/ronelias-tel-aviv-university/TwoTowerModel_tuning</a><br/>Synced 6 W&B file(s), 0 media file(s), 0 artifact file(s) and 0 other file(s)"
      ],
      "text/plain": [
       "<IPython.core.display.HTML object>"
      ]
     },
     "metadata": {},
     "output_type": "display_data"
    },
    {
     "data": {
      "text/html": [
       "Find logs at: <code>./wandb/run-20250308_110523-9lgl22bs/logs</code>"
      ],
      "text/plain": [
       "<IPython.core.display.HTML object>"
      ]
     },
     "metadata": {},
     "output_type": "display_data"
    },
    {
     "data": {
      "text/html": [
       "The new W&B backend becomes opt-out in version 0.18.0; try it out with `wandb.require(\"core\")`! See https://wandb.me/wandb-core for more information."
      ],
      "text/plain": [
       "<IPython.core.display.HTML object>"
      ]
     },
     "metadata": {},
     "output_type": "display_data"
    },
    {
     "data": {
      "text/html": [
       "Successfully finished last run (ID:9lgl22bs). Initializing new run:<br/>"
      ],
      "text/plain": [
       "<IPython.core.display.HTML object>"
      ]
     },
     "metadata": {},
     "output_type": "display_data"
    },
    {
     "data": {
      "text/html": [
       "wandb version 0.19.8 is available!  To upgrade, please run:\n",
       " $ pip install wandb --upgrade"
      ],
      "text/plain": [
       "<IPython.core.display.HTML object>"
      ]
     },
     "metadata": {},
     "output_type": "display_data"
    },
    {
     "data": {
      "text/html": [
       "Tracking run with wandb version 0.17.2"
      ],
      "text/plain": [
       "<IPython.core.display.HTML object>"
      ]
     },
     "metadata": {},
     "output_type": "display_data"
    },
    {
     "data": {
      "text/html": [
       "Run data is saved locally in <code>/storage/yahlly/RecSys/code/wandb/run-20250308_110717-3uc74m8w</code>"
      ],
      "text/plain": [
       "<IPython.core.display.HTML object>"
      ]
     },
     "metadata": {},
     "output_type": "display_data"
    },
    {
     "data": {
      "text/html": [
       "Syncing run <strong><a href='https://wandb.ai/ronelias-tel-aviv-university/TwoTowerModel_tuning/runs/3uc74m8w' target=\"_blank\">amber-jazz-2</a></strong> to <a href='https://wandb.ai/ronelias-tel-aviv-university/TwoTowerModel_tuning' target=\"_blank\">Weights & Biases</a> (<a href='https://wandb.me/run' target=\"_blank\">docs</a>)<br/>"
      ],
      "text/plain": [
       "<IPython.core.display.HTML object>"
      ]
     },
     "metadata": {},
     "output_type": "display_data"
    },
    {
     "data": {
      "text/html": [
       " View project at <a href='https://wandb.ai/ronelias-tel-aviv-university/TwoTowerModel_tuning' target=\"_blank\">https://wandb.ai/ronelias-tel-aviv-university/TwoTowerModel_tuning</a>"
      ],
      "text/plain": [
       "<IPython.core.display.HTML object>"
      ]
     },
     "metadata": {},
     "output_type": "display_data"
    },
    {
     "data": {
      "text/html": [
       " View run at <a href='https://wandb.ai/ronelias-tel-aviv-university/TwoTowerModel_tuning/runs/3uc74m8w' target=\"_blank\">https://wandb.ai/ronelias-tel-aviv-university/TwoTowerModel_tuning/runs/3uc74m8w</a>"
      ],
      "text/plain": [
       "<IPython.core.display.HTML object>"
      ]
     },
     "metadata": {},
     "output_type": "display_data"
    },
    {
     "name": "stderr",
     "output_type": "stream",
     "text": [
      "Epoch 1/20: 100%|██████████| 15685/15685 [02:42<00:00, 96.70it/s]\n",
      "Epoch 2/20: 100%|██████████| 15685/15685 [02:41<00:00, 96.88it/s]\n",
      "Epoch 3/20: 100%|██████████| 15685/15685 [02:42<00:00, 96.70it/s]\n",
      "Epoch 4/20: 100%|██████████| 15685/15685 [02:42<00:00, 96.77it/s]\n",
      "Epoch 5/20: 100%|██████████| 15685/15685 [02:41<00:00, 96.86it/s]\n",
      "Epoch 6/20: 100%|██████████| 15685/15685 [02:42<00:00, 96.70it/s]\n",
      "Epoch 7/20: 100%|██████████| 15685/15685 [02:42<00:00, 96.75it/s]\n",
      "Epoch 8/20: 100%|██████████| 15685/15685 [02:41<00:00, 96.84it/s]\n",
      "Epoch 9/20: 100%|██████████| 15685/15685 [02:41<00:00, 96.94it/s]\n",
      "Epoch 10/20: 100%|██████████| 15685/15685 [02:41<00:00, 96.91it/s]\n",
      "Epoch 11/20: 100%|██████████| 15685/15685 [02:41<00:00, 96.92it/s]\n",
      "Epoch 12/20: 100%|██████████| 15685/15685 [02:42<00:00, 96.72it/s]\n",
      "Epoch 13/20: 100%|██████████| 15685/15685 [02:42<00:00, 96.74it/s]\n",
      "Epoch 14/20: 100%|██████████| 15685/15685 [02:42<00:00, 96.74it/s]\n",
      "Epoch 15/20: 100%|██████████| 15685/15685 [02:42<00:00, 96.79it/s]\n",
      "Epoch 16/20: 100%|██████████| 15685/15685 [02:42<00:00, 96.69it/s]\n",
      "Epoch 17/20: 100%|██████████| 15685/15685 [02:42<00:00, 96.78it/s]\n",
      "Epoch 18/20: 100%|██████████| 15685/15685 [02:42<00:00, 96.70it/s]\n",
      "Epoch 19/20: 100%|██████████| 15685/15685 [02:41<00:00, 96.88it/s]\n",
      "Epoch 20/20: 100%|██████████| 15685/15685 [02:41<00:00, 96.83it/s]\n"
     ]
    },
    {
     "data": {
      "text/html": [
       "<style>\n",
       "    table.wandb td:nth-child(1) { padding: 0 10px; text-align: left ; width: auto;} td:nth-child(2) {text-align: left ; width: 100%}\n",
       "    .wandb-row { display: flex; flex-direction: row; flex-wrap: wrap; justify-content: flex-start; width: 100% }\n",
       "    .wandb-col { display: flex; flex-direction: column; flex-basis: 100%; flex: 1; padding: 10px; }\n",
       "    </style>\n",
       "<div class=\"wandb-row\"><div class=\"wandb-col\"><h3>Run history:</h3><br/><table class=\"wandb\"><tr><td>epoch</td><td>▁▁▂▂▂▃▃▄▄▄▅▅▅▆▆▇▇▇██</td></tr><tr><td>train_loss</td><td>▁▁▂▂▃▄▆▅▅▅▄▅▆▆▇▇▇▇██</td></tr><tr><td>val_accuracy</td><td>▅▃▃▁▃▂█▂█▂▇▅▅▅▂██▇▆▆</td></tr><tr><td>val_loss</td><td>▁▁▁▁▁▁▁▁▁▁▁▃▁▁▁▁▁█▁▁</td></tr></table><br/></div><div class=\"wandb-col\"><h3>Run summary:</h3><br/><table class=\"wandb\"><tr><td>epoch</td><td>20</td></tr><tr><td>train_loss</td><td>34.20171</td></tr><tr><td>val_accuracy</td><td>0.50002</td></tr><tr><td>val_loss</td><td>0.72475</td></tr></table><br/></div></div>"
      ],
      "text/plain": [
       "<IPython.core.display.HTML object>"
      ]
     },
     "metadata": {},
     "output_type": "display_data"
    },
    {
     "data": {
      "text/html": [
       " View run <strong style=\"color:#cdcd00\">amber-jazz-2</strong> at: <a href='https://wandb.ai/ronelias-tel-aviv-university/TwoTowerModel_tuning/runs/3uc74m8w' target=\"_blank\">https://wandb.ai/ronelias-tel-aviv-university/TwoTowerModel_tuning/runs/3uc74m8w</a><br/> View project at: <a href='https://wandb.ai/ronelias-tel-aviv-university/TwoTowerModel_tuning' target=\"_blank\">https://wandb.ai/ronelias-tel-aviv-university/TwoTowerModel_tuning</a><br/>Synced 6 W&B file(s), 0 media file(s), 0 artifact file(s) and 0 other file(s)"
      ],
      "text/plain": [
       "<IPython.core.display.HTML object>"
      ]
     },
     "metadata": {},
     "output_type": "display_data"
    },
    {
     "data": {
      "text/html": [
       "Find logs at: <code>./wandb/run-20250308_110717-3uc74m8w/logs</code>"
      ],
      "text/plain": [
       "<IPython.core.display.HTML object>"
      ]
     },
     "metadata": {},
     "output_type": "display_data"
    },
    {
     "data": {
      "text/html": [
       "The new W&B backend becomes opt-out in version 0.18.0; try it out with `wandb.require(\"core\")`! See https://wandb.me/wandb-core for more information."
      ],
      "text/plain": [
       "<IPython.core.display.HTML object>"
      ]
     },
     "metadata": {},
     "output_type": "display_data"
    },
    {
     "name": "stderr",
     "output_type": "stream",
     "text": [
      "[I 2025-03-08 12:06:08,355] Trial 0 finished with value: 0.6941605195563028 and parameters: {'lr': 0.0033745896111542595, 'embedding_dim': 86, 'weight_decay': 8.956962633318771e-06}. Best is trial 0 with value: 0.6941605195563028.\n",
      "\u001b[34m\u001b[1mwandb\u001b[0m: Currently logged in as: \u001b[33mronelias\u001b[0m (\u001b[33mronelias-tel-aviv-university\u001b[0m). Use \u001b[1m`wandb login --relogin`\u001b[0m to force relogin\n"
     ]
    },
    {
     "data": {
      "text/html": [
       "wandb version 0.19.8 is available!  To upgrade, please run:\n",
       " $ pip install wandb --upgrade"
      ],
      "text/plain": [
       "<IPython.core.display.HTML object>"
      ]
     },
     "metadata": {},
     "output_type": "display_data"
    },
    {
     "data": {
      "text/html": [
       "Tracking run with wandb version 0.17.2"
      ],
      "text/plain": [
       "<IPython.core.display.HTML object>"
      ]
     },
     "metadata": {},
     "output_type": "display_data"
    },
    {
     "data": {
      "text/html": [
       "Run data is saved locally in <code>/storage/yahlly/RecSys/code/wandb/run-20250308_120608-cn48h5ae</code>"
      ],
      "text/plain": [
       "<IPython.core.display.HTML object>"
      ]
     },
     "metadata": {},
     "output_type": "display_data"
    },
    {
     "data": {
      "text/html": [
       "Syncing run <strong><a href='https://wandb.ai/ronelias-tel-aviv-university/TwoTowerModel_tuning/runs/cn48h5ae' target=\"_blank\">different-sun-3</a></strong> to <a href='https://wandb.ai/ronelias-tel-aviv-university/TwoTowerModel_tuning' target=\"_blank\">Weights & Biases</a> (<a href='https://wandb.me/run' target=\"_blank\">docs</a>)<br/>"
      ],
      "text/plain": [
       "<IPython.core.display.HTML object>"
      ]
     },
     "metadata": {},
     "output_type": "display_data"
    },
    {
     "data": {
      "text/html": [
       " View project at <a href='https://wandb.ai/ronelias-tel-aviv-university/TwoTowerModel_tuning' target=\"_blank\">https://wandb.ai/ronelias-tel-aviv-university/TwoTowerModel_tuning</a>"
      ],
      "text/plain": [
       "<IPython.core.display.HTML object>"
      ]
     },
     "metadata": {},
     "output_type": "display_data"
    },
    {
     "data": {
      "text/html": [
       " View run at <a href='https://wandb.ai/ronelias-tel-aviv-university/TwoTowerModel_tuning/runs/cn48h5ae' target=\"_blank\">https://wandb.ai/ronelias-tel-aviv-university/TwoTowerModel_tuning/runs/cn48h5ae</a>"
      ],
      "text/plain": [
       "<IPython.core.display.HTML object>"
      ]
     },
     "metadata": {},
     "output_type": "display_data"
    },
    {
     "name": "stderr",
     "output_type": "stream",
     "text": [
      "Epoch 1/20: 100%|██████████| 15685/15685 [02:43<00:00, 96.09it/s]\n",
      "Epoch 2/20: 100%|██████████| 15685/15685 [02:43<00:00, 95.86it/s]\n",
      "Epoch 3/20: 100%|██████████| 15685/15685 [02:43<00:00, 96.00it/s]\n",
      "Epoch 4/20: 100%|██████████| 15685/15685 [02:43<00:00, 95.97it/s]\n",
      "Epoch 5/20: 100%|██████████| 15685/15685 [02:43<00:00, 95.95it/s]\n",
      "Epoch 6/20: 100%|██████████| 15685/15685 [02:43<00:00, 95.87it/s]\n",
      "Epoch 7/20: 100%|██████████| 15685/15685 [02:43<00:00, 95.90it/s]\n",
      "Epoch 8/20: 100%|██████████| 15685/15685 [02:43<00:00, 95.94it/s]\n",
      "Epoch 9/20: 100%|██████████| 15685/15685 [02:43<00:00, 96.03it/s]\n",
      "Epoch 10/20: 100%|██████████| 15685/15685 [02:43<00:00, 96.01it/s]\n",
      "Epoch 11/20: 100%|██████████| 15685/15685 [02:43<00:00, 96.01it/s]\n",
      "Epoch 12/20: 100%|██████████| 15685/15685 [02:43<00:00, 95.95it/s]\n",
      "Epoch 13/20: 100%|██████████| 15685/15685 [02:43<00:00, 96.00it/s]\n",
      "Epoch 14/20: 100%|██████████| 15685/15685 [02:43<00:00, 96.01it/s]\n",
      "Epoch 15/20: 100%|██████████| 15685/15685 [02:43<00:00, 95.88it/s]\n",
      "Epoch 16/20: 100%|██████████| 15685/15685 [02:43<00:00, 96.06it/s]\n",
      "Epoch 17/20: 100%|██████████| 15685/15685 [02:43<00:00, 95.92it/s]\n",
      "Epoch 18/20: 100%|██████████| 15685/15685 [02:43<00:00, 95.90it/s]\n",
      "Epoch 19/20: 100%|██████████| 15685/15685 [02:43<00:00, 95.90it/s]\n",
      "Epoch 20/20: 100%|██████████| 15685/15685 [02:43<00:00, 95.93it/s]\n"
     ]
    },
    {
     "data": {
      "text/html": [
       "<style>\n",
       "    table.wandb td:nth-child(1) { padding: 0 10px; text-align: left ; width: auto;} td:nth-child(2) {text-align: left ; width: 100%}\n",
       "    .wandb-row { display: flex; flex-direction: row; flex-wrap: wrap; justify-content: flex-start; width: 100% }\n",
       "    .wandb-col { display: flex; flex-direction: column; flex-basis: 100%; flex: 1; padding: 10px; }\n",
       "    </style>\n",
       "<div class=\"wandb-row\"><div class=\"wandb-col\"><h3>Run history:</h3><br/><table class=\"wandb\"><tr><td>epoch</td><td>▁▁▂▂▂▃▃▄▄▄▅▅▅▆▆▇▇▇██</td></tr><tr><td>train_loss</td><td>▂▁▁▁▁▁▁▂▄█▇▇▇▇▇▇▇▇▇▇</td></tr><tr><td>val_accuracy</td><td>▇▇▇▃▇▁▄▃▂▅▄▆█▇▇▅▃█▆▅</td></tr><tr><td>val_loss</td><td>▇▃▃▆▆▅█▅▂▅▁▄▃▁▂▁▂▃▂▄</td></tr></table><br/></div><div class=\"wandb-col\"><h3>Run summary:</h3><br/><table class=\"wandb\"><tr><td>epoch</td><td>20</td></tr><tr><td>train_loss</td><td>0.54205</td></tr><tr><td>val_accuracy</td><td>0.50252</td></tr><tr><td>val_loss</td><td>0.95274</td></tr></table><br/></div></div>"
      ],
      "text/plain": [
       "<IPython.core.display.HTML object>"
      ]
     },
     "metadata": {},
     "output_type": "display_data"
    },
    {
     "data": {
      "text/html": [
       " View run <strong style=\"color:#cdcd00\">different-sun-3</strong> at: <a href='https://wandb.ai/ronelias-tel-aviv-university/TwoTowerModel_tuning/runs/cn48h5ae' target=\"_blank\">https://wandb.ai/ronelias-tel-aviv-university/TwoTowerModel_tuning/runs/cn48h5ae</a><br/> View project at: <a href='https://wandb.ai/ronelias-tel-aviv-university/TwoTowerModel_tuning' target=\"_blank\">https://wandb.ai/ronelias-tel-aviv-university/TwoTowerModel_tuning</a><br/>Synced 6 W&B file(s), 0 media file(s), 0 artifact file(s) and 0 other file(s)"
      ],
      "text/plain": [
       "<IPython.core.display.HTML object>"
      ]
     },
     "metadata": {},
     "output_type": "display_data"
    },
    {
     "data": {
      "text/html": [
       "Find logs at: <code>./wandb/run-20250308_120608-cn48h5ae/logs</code>"
      ],
      "text/plain": [
       "<IPython.core.display.HTML object>"
      ]
     },
     "metadata": {},
     "output_type": "display_data"
    },
    {
     "data": {
      "text/html": [
       "The new W&B backend becomes opt-out in version 0.18.0; try it out with `wandb.require(\"core\")`! See https://wandb.me/wandb-core for more information."
      ],
      "text/plain": [
       "<IPython.core.display.HTML object>"
      ]
     },
     "metadata": {},
     "output_type": "display_data"
    },
    {
     "name": "stderr",
     "output_type": "stream",
     "text": [
      "[I 2025-03-08 13:05:21,365] Trial 1 finished with value: 0.9184359749566157 and parameters: {'lr': 0.002089035197603611, 'embedding_dim': 123, 'weight_decay': 0.0006218260147618336}. Best is trial 0 with value: 0.6941605195563028.\n"
     ]
    },
    {
     "data": {
      "text/html": [
       "wandb version 0.19.8 is available!  To upgrade, please run:\n",
       " $ pip install wandb --upgrade"
      ],
      "text/plain": [
       "<IPython.core.display.HTML object>"
      ]
     },
     "metadata": {},
     "output_type": "display_data"
    },
    {
     "data": {
      "text/html": [
       "Tracking run with wandb version 0.17.2"
      ],
      "text/plain": [
       "<IPython.core.display.HTML object>"
      ]
     },
     "metadata": {},
     "output_type": "display_data"
    },
    {
     "data": {
      "text/html": [
       "Run data is saved locally in <code>/storage/yahlly/RecSys/code/wandb/run-20250308_130521-66tc2abb</code>"
      ],
      "text/plain": [
       "<IPython.core.display.HTML object>"
      ]
     },
     "metadata": {},
     "output_type": "display_data"
    },
    {
     "data": {
      "text/html": [
       "Syncing run <strong><a href='https://wandb.ai/ronelias-tel-aviv-university/TwoTowerModel_tuning/runs/66tc2abb' target=\"_blank\">absurd-mountain-4</a></strong> to <a href='https://wandb.ai/ronelias-tel-aviv-university/TwoTowerModel_tuning' target=\"_blank\">Weights & Biases</a> (<a href='https://wandb.me/run' target=\"_blank\">docs</a>)<br/>"
      ],
      "text/plain": [
       "<IPython.core.display.HTML object>"
      ]
     },
     "metadata": {},
     "output_type": "display_data"
    },
    {
     "data": {
      "text/html": [
       " View project at <a href='https://wandb.ai/ronelias-tel-aviv-university/TwoTowerModel_tuning' target=\"_blank\">https://wandb.ai/ronelias-tel-aviv-university/TwoTowerModel_tuning</a>"
      ],
      "text/plain": [
       "<IPython.core.display.HTML object>"
      ]
     },
     "metadata": {},
     "output_type": "display_data"
    },
    {
     "data": {
      "text/html": [
       " View run at <a href='https://wandb.ai/ronelias-tel-aviv-university/TwoTowerModel_tuning/runs/66tc2abb' target=\"_blank\">https://wandb.ai/ronelias-tel-aviv-university/TwoTowerModel_tuning/runs/66tc2abb</a>"
      ],
      "text/plain": [
       "<IPython.core.display.HTML object>"
      ]
     },
     "metadata": {},
     "output_type": "display_data"
    },
    {
     "name": "stderr",
     "output_type": "stream",
     "text": [
      "Epoch 1/20: 100%|██████████| 15685/15685 [02:39<00:00, 98.42it/s]\n",
      "Epoch 2/20: 100%|██████████| 15685/15685 [02:39<00:00, 98.29it/s] \n",
      "Epoch 3/20: 100%|██████████| 15685/15685 [02:39<00:00, 98.45it/s] \n",
      "Epoch 4/20: 100%|██████████| 15685/15685 [02:39<00:00, 98.38it/s] \n",
      "Epoch 5/20: 100%|██████████| 15685/15685 [02:39<00:00, 98.31it/s] \n",
      "Epoch 6/20: 100%|██████████| 15685/15685 [02:39<00:00, 98.28it/s]\n",
      "Epoch 7/20: 100%|██████████| 15685/15685 [02:39<00:00, 98.22it/s]\n",
      "Epoch 8/20: 100%|██████████| 15685/15685 [02:39<00:00, 98.24it/s]\n",
      "Epoch 9/20: 100%|██████████| 15685/15685 [02:39<00:00, 98.30it/s]\n",
      "Epoch 10/20: 100%|██████████| 15685/15685 [02:39<00:00, 98.35it/s]\n",
      "Epoch 11/20: 100%|██████████| 15685/15685 [02:39<00:00, 98.29it/s]\n",
      "Epoch 12/20: 100%|██████████| 15685/15685 [02:39<00:00, 98.28it/s]\n",
      "Epoch 13/20: 100%|██████████| 15685/15685 [02:39<00:00, 98.42it/s]\n",
      "Epoch 14/20: 100%|██████████| 15685/15685 [02:39<00:00, 98.37it/s] \n",
      "Epoch 15/20: 100%|██████████| 15685/15685 [02:39<00:00, 98.31it/s]\n",
      "Epoch 16/20: 100%|██████████| 15685/15685 [02:39<00:00, 98.25it/s] \n",
      "Epoch 17/20: 100%|██████████| 15685/15685 [02:39<00:00, 98.36it/s]\n",
      "Epoch 18/20: 100%|██████████| 15685/15685 [02:39<00:00, 98.28it/s] \n",
      "Epoch 19/20: 100%|██████████| 15685/15685 [02:39<00:00, 98.36it/s] \n",
      "Epoch 20/20: 100%|██████████| 15685/15685 [02:39<00:00, 98.56it/s] \n"
     ]
    },
    {
     "data": {
      "text/html": [
       "<style>\n",
       "    table.wandb td:nth-child(1) { padding: 0 10px; text-align: left ; width: auto;} td:nth-child(2) {text-align: left ; width: 100%}\n",
       "    .wandb-row { display: flex; flex-direction: row; flex-wrap: wrap; justify-content: flex-start; width: 100% }\n",
       "    .wandb-col { display: flex; flex-direction: column; flex-basis: 100%; flex: 1; padding: 10px; }\n",
       "    </style>\n",
       "<div class=\"wandb-row\"><div class=\"wandb-col\"><h3>Run history:</h3><br/><table class=\"wandb\"><tr><td>epoch</td><td>▁▁▂▂▂▃▃▄▄▄▅▅▅▆▆▇▇▇██</td></tr><tr><td>train_loss</td><td>█▃▂▂▂▂▂▂▁▁▁▁▁▁▁▁▁▁▁▁</td></tr><tr><td>val_accuracy</td><td>▁▃▅▄▅▃▅▄▅▆▅▅▇█▆▅▇███</td></tr><tr><td>val_loss</td><td>▁▄▄▅▆▆▆▆▆▆▆▇▇▇▇▇▇▇▇█</td></tr></table><br/></div><div class=\"wandb-col\"><h3>Run summary:</h3><br/><table class=\"wandb\"><tr><td>epoch</td><td>20</td></tr><tr><td>train_loss</td><td>0.21026</td></tr><tr><td>val_accuracy</td><td>0.50319</td></tr><tr><td>val_loss</td><td>1.68337</td></tr></table><br/></div></div>"
      ],
      "text/plain": [
       "<IPython.core.display.HTML object>"
      ]
     },
     "metadata": {},
     "output_type": "display_data"
    },
    {
     "data": {
      "text/html": [
       " View run <strong style=\"color:#cdcd00\">absurd-mountain-4</strong> at: <a href='https://wandb.ai/ronelias-tel-aviv-university/TwoTowerModel_tuning/runs/66tc2abb' target=\"_blank\">https://wandb.ai/ronelias-tel-aviv-university/TwoTowerModel_tuning/runs/66tc2abb</a><br/> View project at: <a href='https://wandb.ai/ronelias-tel-aviv-university/TwoTowerModel_tuning' target=\"_blank\">https://wandb.ai/ronelias-tel-aviv-university/TwoTowerModel_tuning</a><br/>Synced 6 W&B file(s), 0 media file(s), 0 artifact file(s) and 0 other file(s)"
      ],
      "text/plain": [
       "<IPython.core.display.HTML object>"
      ]
     },
     "metadata": {},
     "output_type": "display_data"
    },
    {
     "data": {
      "text/html": [
       "Find logs at: <code>./wandb/run-20250308_130521-66tc2abb/logs</code>"
      ],
      "text/plain": [
       "<IPython.core.display.HTML object>"
      ]
     },
     "metadata": {},
     "output_type": "display_data"
    },
    {
     "data": {
      "text/html": [
       "The new W&B backend becomes opt-out in version 0.18.0; try it out with `wandb.require(\"core\")`! See https://wandb.me/wandb-core for more information."
      ],
      "text/plain": [
       "<IPython.core.display.HTML object>"
      ]
     },
     "metadata": {},
     "output_type": "display_data"
    },
    {
     "name": "stderr",
     "output_type": "stream",
     "text": [
      "[I 2025-03-08 14:03:10,706] Trial 2 finished with value: 1.4170354299883503 and parameters: {'lr': 9.462235097316747e-05, 'embedding_dim': 36, 'weight_decay': 2.3784367279756662e-06}. Best is trial 0 with value: 0.6941605195563028.\n"
     ]
    },
    {
     "data": {
      "text/html": [
       "wandb version 0.19.8 is available!  To upgrade, please run:\n",
       " $ pip install wandb --upgrade"
      ],
      "text/plain": [
       "<IPython.core.display.HTML object>"
      ]
     },
     "metadata": {},
     "output_type": "display_data"
    },
    {
     "data": {
      "text/html": [
       "Tracking run with wandb version 0.17.2"
      ],
      "text/plain": [
       "<IPython.core.display.HTML object>"
      ]
     },
     "metadata": {},
     "output_type": "display_data"
    },
    {
     "data": {
      "text/html": [
       "Run data is saved locally in <code>/storage/yahlly/RecSys/code/wandb/run-20250308_140310-q7ksaefv</code>"
      ],
      "text/plain": [
       "<IPython.core.display.HTML object>"
      ]
     },
     "metadata": {},
     "output_type": "display_data"
    },
    {
     "data": {
      "text/html": [
       "Syncing run <strong><a href='https://wandb.ai/ronelias-tel-aviv-university/TwoTowerModel_tuning/runs/q7ksaefv' target=\"_blank\">revived-morning-5</a></strong> to <a href='https://wandb.ai/ronelias-tel-aviv-university/TwoTowerModel_tuning' target=\"_blank\">Weights & Biases</a> (<a href='https://wandb.me/run' target=\"_blank\">docs</a>)<br/>"
      ],
      "text/plain": [
       "<IPython.core.display.HTML object>"
      ]
     },
     "metadata": {},
     "output_type": "display_data"
    },
    {
     "data": {
      "text/html": [
       " View project at <a href='https://wandb.ai/ronelias-tel-aviv-university/TwoTowerModel_tuning' target=\"_blank\">https://wandb.ai/ronelias-tel-aviv-university/TwoTowerModel_tuning</a>"
      ],
      "text/plain": [
       "<IPython.core.display.HTML object>"
      ]
     },
     "metadata": {},
     "output_type": "display_data"
    },
    {
     "data": {
      "text/html": [
       " View run at <a href='https://wandb.ai/ronelias-tel-aviv-university/TwoTowerModel_tuning/runs/q7ksaefv' target=\"_blank\">https://wandb.ai/ronelias-tel-aviv-university/TwoTowerModel_tuning/runs/q7ksaefv</a>"
      ],
      "text/plain": [
       "<IPython.core.display.HTML object>"
      ]
     },
     "metadata": {},
     "output_type": "display_data"
    },
    {
     "name": "stderr",
     "output_type": "stream",
     "text": [
      "Epoch 1/20: 100%|██████████| 15685/15685 [02:37<00:00, 99.52it/s] \n",
      "Epoch 2/20: 100%|██████████| 15685/15685 [02:37<00:00, 99.63it/s] \n",
      "Epoch 3/20: 100%|██████████| 15685/15685 [02:37<00:00, 99.40it/s] \n",
      "Epoch 4/20: 100%|██████████| 15685/15685 [02:37<00:00, 99.65it/s] \n",
      "Epoch 5/20: 100%|██████████| 15685/15685 [02:37<00:00, 99.41it/s] \n",
      "Epoch 6/20: 100%|██████████| 15685/15685 [02:37<00:00, 99.58it/s] \n",
      "Epoch 7/20: 100%|██████████| 15685/15685 [02:37<00:00, 99.43it/s] \n",
      "Epoch 8/20: 100%|██████████| 15685/15685 [02:37<00:00, 99.50it/s] \n",
      "Epoch 9/20: 100%|██████████| 15685/15685 [02:37<00:00, 99.49it/s] \n",
      "Epoch 10/20: 100%|██████████| 15685/15685 [02:37<00:00, 99.51it/s] \n",
      "Epoch 11/20: 100%|██████████| 15685/15685 [02:37<00:00, 99.52it/s] \n",
      "Epoch 12/20: 100%|██████████| 15685/15685 [02:37<00:00, 99.45it/s] \n",
      "Epoch 13/20: 100%|██████████| 15685/15685 [02:37<00:00, 99.57it/s] \n",
      "Epoch 14/20: 100%|██████████| 15685/15685 [02:37<00:00, 99.58it/s] \n",
      "Epoch 15/20: 100%|██████████| 15685/15685 [02:37<00:00, 99.46it/s] \n",
      "Epoch 16/20: 100%|██████████| 15685/15685 [02:37<00:00, 99.49it/s] \n",
      "Epoch 17/20: 100%|██████████| 15685/15685 [02:37<00:00, 99.47it/s] \n",
      "Epoch 18/20: 100%|██████████| 15685/15685 [02:37<00:00, 99.59it/s] \n",
      "Epoch 19/20: 100%|██████████| 15685/15685 [02:37<00:00, 99.40it/s] \n",
      "Epoch 20/20: 100%|██████████| 15685/15685 [02:37<00:00, 99.49it/s] \n"
     ]
    },
    {
     "data": {
      "text/html": [
       "<style>\n",
       "    table.wandb td:nth-child(1) { padding: 0 10px; text-align: left ; width: auto;} td:nth-child(2) {text-align: left ; width: 100%}\n",
       "    .wandb-row { display: flex; flex-direction: row; flex-wrap: wrap; justify-content: flex-start; width: 100% }\n",
       "    .wandb-col { display: flex; flex-direction: column; flex-basis: 100%; flex: 1; padding: 10px; }\n",
       "    </style>\n",
       "<div class=\"wandb-row\"><div class=\"wandb-col\"><h3>Run history:</h3><br/><table class=\"wandb\"><tr><td>epoch</td><td>▁▁▂▂▂▃▃▄▄▄▅▅▅▆▆▇▇▇██</td></tr><tr><td>train_loss</td><td>█▁▁▁▁▁▁▁▁▁▁▁▁▁▁▁▁▁▁▁</td></tr><tr><td>val_accuracy</td><td>█▄▃▇▄▂▆▄▇▄▄▄▅▄▁▆█▇▁▂</td></tr><tr><td>val_loss</td><td>▁▄▆▇█▇▆▇▇▇▅▅▆▆▇▅▆▇▆▇</td></tr></table><br/></div><div class=\"wandb-col\"><h3>Run summary:</h3><br/><table class=\"wandb\"><tr><td>epoch</td><td>20</td></tr><tr><td>train_loss</td><td>0.50049</td></tr><tr><td>val_accuracy</td><td>0.5021</td></tr><tr><td>val_loss</td><td>0.96003</td></tr></table><br/></div></div>"
      ],
      "text/plain": [
       "<IPython.core.display.HTML object>"
      ]
     },
     "metadata": {},
     "output_type": "display_data"
    },
    {
     "data": {
      "text/html": [
       " View run <strong style=\"color:#cdcd00\">revived-morning-5</strong> at: <a href='https://wandb.ai/ronelias-tel-aviv-university/TwoTowerModel_tuning/runs/q7ksaefv' target=\"_blank\">https://wandb.ai/ronelias-tel-aviv-university/TwoTowerModel_tuning/runs/q7ksaefv</a><br/> View project at: <a href='https://wandb.ai/ronelias-tel-aviv-university/TwoTowerModel_tuning' target=\"_blank\">https://wandb.ai/ronelias-tel-aviv-university/TwoTowerModel_tuning</a><br/>Synced 6 W&B file(s), 0 media file(s), 0 artifact file(s) and 0 other file(s)"
      ],
      "text/plain": [
       "<IPython.core.display.HTML object>"
      ]
     },
     "metadata": {},
     "output_type": "display_data"
    },
    {
     "data": {
      "text/html": [
       "Find logs at: <code>./wandb/run-20250308_140310-q7ksaefv/logs</code>"
      ],
      "text/plain": [
       "<IPython.core.display.HTML object>"
      ]
     },
     "metadata": {},
     "output_type": "display_data"
    },
    {
     "data": {
      "text/html": [
       "The new W&B backend becomes opt-out in version 0.18.0; try it out with `wandb.require(\"core\")`! See https://wandb.me/wandb-core for more information."
      ],
      "text/plain": [
       "<IPython.core.display.HTML object>"
      ]
     },
     "metadata": {},
     "output_type": "display_data"
    },
    {
     "name": "stderr",
     "output_type": "stream",
     "text": [
      "[I 2025-03-08 15:00:20,246] Trial 3 finished with value: 0.9391483465645061 and parameters: {'lr': 1.5015113291049342e-05, 'embedding_dim': 30, 'weight_decay': 0.0031611643690967906}. Best is trial 0 with value: 0.6941605195563028.\n"
     ]
    },
    {
     "data": {
      "text/html": [
       "wandb version 0.19.8 is available!  To upgrade, please run:\n",
       " $ pip install wandb --upgrade"
      ],
      "text/plain": [
       "<IPython.core.display.HTML object>"
      ]
     },
     "metadata": {},
     "output_type": "display_data"
    },
    {
     "data": {
      "text/html": [
       "Tracking run with wandb version 0.17.2"
      ],
      "text/plain": [
       "<IPython.core.display.HTML object>"
      ]
     },
     "metadata": {},
     "output_type": "display_data"
    },
    {
     "data": {
      "text/html": [
       "Run data is saved locally in <code>/storage/yahlly/RecSys/code/wandb/run-20250308_150020-qlr2i4jy</code>"
      ],
      "text/plain": [
       "<IPython.core.display.HTML object>"
      ]
     },
     "metadata": {},
     "output_type": "display_data"
    },
    {
     "data": {
      "text/html": [
       "Syncing run <strong><a href='https://wandb.ai/ronelias-tel-aviv-university/TwoTowerModel_tuning/runs/qlr2i4jy' target=\"_blank\">frosty-breeze-6</a></strong> to <a href='https://wandb.ai/ronelias-tel-aviv-university/TwoTowerModel_tuning' target=\"_blank\">Weights & Biases</a> (<a href='https://wandb.me/run' target=\"_blank\">docs</a>)<br/>"
      ],
      "text/plain": [
       "<IPython.core.display.HTML object>"
      ]
     },
     "metadata": {},
     "output_type": "display_data"
    },
    {
     "data": {
      "text/html": [
       " View project at <a href='https://wandb.ai/ronelias-tel-aviv-university/TwoTowerModel_tuning' target=\"_blank\">https://wandb.ai/ronelias-tel-aviv-university/TwoTowerModel_tuning</a>"
      ],
      "text/plain": [
       "<IPython.core.display.HTML object>"
      ]
     },
     "metadata": {},
     "output_type": "display_data"
    },
    {
     "data": {
      "text/html": [
       " View run at <a href='https://wandb.ai/ronelias-tel-aviv-university/TwoTowerModel_tuning/runs/qlr2i4jy' target=\"_blank\">https://wandb.ai/ronelias-tel-aviv-university/TwoTowerModel_tuning/runs/qlr2i4jy</a>"
      ],
      "text/plain": [
       "<IPython.core.display.HTML object>"
      ]
     },
     "metadata": {},
     "output_type": "display_data"
    },
    {
     "name": "stderr",
     "output_type": "stream",
     "text": [
      "Epoch 1/20: 100%|██████████| 15685/15685 [02:40<00:00, 97.82it/s]\n",
      "Epoch 2/20: 100%|██████████| 15685/15685 [02:40<00:00, 97.77it/s]\n",
      "Epoch 3/20: 100%|██████████| 15685/15685 [02:40<00:00, 97.73it/s]\n",
      "Epoch 4/20: 100%|██████████| 15685/15685 [02:40<00:00, 97.79it/s]\n",
      "Epoch 5/20: 100%|██████████| 15685/15685 [02:40<00:00, 97.98it/s]\n",
      "Epoch 6/20: 100%|██████████| 15685/15685 [02:40<00:00, 97.86it/s]\n",
      "Epoch 7/20: 100%|██████████| 15685/15685 [02:40<00:00, 97.87it/s]\n",
      "Epoch 8/20: 100%|██████████| 15685/15685 [02:40<00:00, 97.81it/s]\n",
      "Epoch 9/20: 100%|██████████| 15685/15685 [02:40<00:00, 97.83it/s]\n",
      "Epoch 10/20: 100%|██████████| 15685/15685 [02:40<00:00, 97.83it/s]\n",
      "Epoch 11/20: 100%|██████████| 15685/15685 [02:40<00:00, 97.98it/s]\n",
      "Epoch 12/20: 100%|██████████| 15685/15685 [02:40<00:00, 97.80it/s]\n",
      "Epoch 13/20: 100%|██████████| 15685/15685 [02:40<00:00, 97.83it/s]\n",
      "Epoch 14/20: 100%|██████████| 15685/15685 [02:40<00:00, 97.76it/s]\n",
      "Epoch 15/20: 100%|██████████| 15685/15685 [02:40<00:00, 97.81it/s]\n",
      "Epoch 16/20: 100%|██████████| 15685/15685 [02:40<00:00, 97.85it/s]\n",
      "Epoch 17/20: 100%|██████████| 15685/15685 [02:40<00:00, 97.83it/s]\n",
      "Epoch 18/20: 100%|██████████| 15685/15685 [02:40<00:00, 97.85it/s]\n",
      "Epoch 19/20: 100%|██████████| 15685/15685 [02:40<00:00, 97.79it/s]\n",
      "Epoch 20/20: 100%|██████████| 15685/15685 [02:40<00:00, 97.82it/s]\n"
     ]
    },
    {
     "data": {
      "text/html": [
       "<style>\n",
       "    table.wandb td:nth-child(1) { padding: 0 10px; text-align: left ; width: auto;} td:nth-child(2) {text-align: left ; width: 100%}\n",
       "    .wandb-row { display: flex; flex-direction: row; flex-wrap: wrap; justify-content: flex-start; width: 100% }\n",
       "    .wandb-col { display: flex; flex-direction: column; flex-basis: 100%; flex: 1; padding: 10px; }\n",
       "    </style>\n",
       "<div class=\"wandb-row\"><div class=\"wandb-col\"><h3>Run history:</h3><br/><table class=\"wandb\"><tr><td>epoch</td><td>▁▁▂▂▂▃▃▄▄▄▅▅▅▆▆▇▇▇██</td></tr><tr><td>train_loss</td><td>█▅▄▃▃▂▂▂▂▂▂▁▁▁▁▁▁▁▁▁</td></tr><tr><td>val_accuracy</td><td>█▄▂▂▃▁▃▅▄▄▃▃▄▅▅▄▆▄▇▅</td></tr><tr><td>val_loss</td><td>▁▃▃▄▅▅▅▆▆▆▆▇▇▇▇▇████</td></tr></table><br/></div><div class=\"wandb-col\"><h3>Run summary:</h3><br/><table class=\"wandb\"><tr><td>epoch</td><td>20</td></tr><tr><td>train_loss</td><td>0.1434</td></tr><tr><td>val_accuracy</td><td>0.50199</td></tr><tr><td>val_loss</td><td>1.86817</td></tr></table><br/></div></div>"
      ],
      "text/plain": [
       "<IPython.core.display.HTML object>"
      ]
     },
     "metadata": {},
     "output_type": "display_data"
    },
    {
     "data": {
      "text/html": [
       " View run <strong style=\"color:#cdcd00\">frosty-breeze-6</strong> at: <a href='https://wandb.ai/ronelias-tel-aviv-university/TwoTowerModel_tuning/runs/qlr2i4jy' target=\"_blank\">https://wandb.ai/ronelias-tel-aviv-university/TwoTowerModel_tuning/runs/qlr2i4jy</a><br/> View project at: <a href='https://wandb.ai/ronelias-tel-aviv-university/TwoTowerModel_tuning' target=\"_blank\">https://wandb.ai/ronelias-tel-aviv-university/TwoTowerModel_tuning</a><br/>Synced 6 W&B file(s), 0 media file(s), 0 artifact file(s) and 0 other file(s)"
      ],
      "text/plain": [
       "<IPython.core.display.HTML object>"
      ]
     },
     "metadata": {},
     "output_type": "display_data"
    },
    {
     "data": {
      "text/html": [
       "Find logs at: <code>./wandb/run-20250308_150020-qlr2i4jy/logs</code>"
      ],
      "text/plain": [
       "<IPython.core.display.HTML object>"
      ]
     },
     "metadata": {},
     "output_type": "display_data"
    },
    {
     "data": {
      "text/html": [
       "The new W&B backend becomes opt-out in version 0.18.0; try it out with `wandb.require(\"core\")`! See https://wandb.me/wandb-core for more information."
      ],
      "text/plain": [
       "<IPython.core.display.HTML object>"
      ]
     },
     "metadata": {},
     "output_type": "display_data"
    },
    {
     "name": "stderr",
     "output_type": "stream",
     "text": [
      "[I 2025-03-08 15:58:27,205] Trial 4 finished with value: 1.3778869007104366 and parameters: {'lr': 4.677945222418821e-05, 'embedding_dim': 60, 'weight_decay': 4.5866376676912735e-06}. Best is trial 0 with value: 0.6941605195563028.\n"
     ]
    },
    {
     "data": {
      "text/html": [
       "wandb version 0.19.8 is available!  To upgrade, please run:\n",
       " $ pip install wandb --upgrade"
      ],
      "text/plain": [
       "<IPython.core.display.HTML object>"
      ]
     },
     "metadata": {},
     "output_type": "display_data"
    },
    {
     "data": {
      "text/html": [
       "Tracking run with wandb version 0.17.2"
      ],
      "text/plain": [
       "<IPython.core.display.HTML object>"
      ]
     },
     "metadata": {},
     "output_type": "display_data"
    },
    {
     "data": {
      "text/html": [
       "Run data is saved locally in <code>/storage/yahlly/RecSys/code/wandb/run-20250308_155827-15ytzh22</code>"
      ],
      "text/plain": [
       "<IPython.core.display.HTML object>"
      ]
     },
     "metadata": {},
     "output_type": "display_data"
    },
    {
     "data": {
      "text/html": [
       "Syncing run <strong><a href='https://wandb.ai/ronelias-tel-aviv-university/TwoTowerModel_tuning/runs/15ytzh22' target=\"_blank\">lilac-frog-7</a></strong> to <a href='https://wandb.ai/ronelias-tel-aviv-university/TwoTowerModel_tuning' target=\"_blank\">Weights & Biases</a> (<a href='https://wandb.me/run' target=\"_blank\">docs</a>)<br/>"
      ],
      "text/plain": [
       "<IPython.core.display.HTML object>"
      ]
     },
     "metadata": {},
     "output_type": "display_data"
    },
    {
     "data": {
      "text/html": [
       " View project at <a href='https://wandb.ai/ronelias-tel-aviv-university/TwoTowerModel_tuning' target=\"_blank\">https://wandb.ai/ronelias-tel-aviv-university/TwoTowerModel_tuning</a>"
      ],
      "text/plain": [
       "<IPython.core.display.HTML object>"
      ]
     },
     "metadata": {},
     "output_type": "display_data"
    },
    {
     "data": {
      "text/html": [
       " View run at <a href='https://wandb.ai/ronelias-tel-aviv-university/TwoTowerModel_tuning/runs/15ytzh22' target=\"_blank\">https://wandb.ai/ronelias-tel-aviv-university/TwoTowerModel_tuning/runs/15ytzh22</a>"
      ],
      "text/plain": [
       "<IPython.core.display.HTML object>"
      ]
     },
     "metadata": {},
     "output_type": "display_data"
    },
    {
     "name": "stderr",
     "output_type": "stream",
     "text": [
      "Epoch 1/20: 100%|██████████| 15685/15685 [02:37<00:00, 99.41it/s] \n"
     ]
    },
    {
     "data": {
      "text/html": [
       "<style>\n",
       "    table.wandb td:nth-child(1) { padding: 0 10px; text-align: left ; width: auto;} td:nth-child(2) {text-align: left ; width: 100%}\n",
       "    .wandb-row { display: flex; flex-direction: row; flex-wrap: wrap; justify-content: flex-start; width: 100% }\n",
       "    .wandb-col { display: flex; flex-direction: column; flex-basis: 100%; flex: 1; padding: 10px; }\n",
       "    </style>\n",
       "<div class=\"wandb-row\"><div class=\"wandb-col\"><h3>Run history:</h3><br/><table class=\"wandb\"><tr><td>epoch</td><td>▁</td></tr><tr><td>train_loss</td><td>▁</td></tr><tr><td>val_accuracy</td><td>▁</td></tr><tr><td>val_loss</td><td>▁</td></tr></table><br/></div><div class=\"wandb-col\"><h3>Run summary:</h3><br/><table class=\"wandb\"><tr><td>epoch</td><td>1</td></tr><tr><td>train_loss</td><td>0.381</td></tr><tr><td>val_accuracy</td><td>0.50238</td></tr><tr><td>val_loss</td><td>1.25879</td></tr></table><br/></div></div>"
      ],
      "text/plain": [
       "<IPython.core.display.HTML object>"
      ]
     },
     "metadata": {},
     "output_type": "display_data"
    },
    {
     "data": {
      "text/html": [
       " View run <strong style=\"color:#cdcd00\">lilac-frog-7</strong> at: <a href='https://wandb.ai/ronelias-tel-aviv-university/TwoTowerModel_tuning/runs/15ytzh22' target=\"_blank\">https://wandb.ai/ronelias-tel-aviv-university/TwoTowerModel_tuning/runs/15ytzh22</a><br/> View project at: <a href='https://wandb.ai/ronelias-tel-aviv-university/TwoTowerModel_tuning' target=\"_blank\">https://wandb.ai/ronelias-tel-aviv-university/TwoTowerModel_tuning</a><br/>Synced 6 W&B file(s), 0 media file(s), 0 artifact file(s) and 0 other file(s)"
      ],
      "text/plain": [
       "<IPython.core.display.HTML object>"
      ]
     },
     "metadata": {},
     "output_type": "display_data"
    },
    {
     "data": {
      "text/html": [
       "Find logs at: <code>./wandb/run-20250308_155827-15ytzh22/logs</code>"
      ],
      "text/plain": [
       "<IPython.core.display.HTML object>"
      ]
     },
     "metadata": {},
     "output_type": "display_data"
    },
    {
     "data": {
      "text/html": [
       "The new W&B backend becomes opt-out in version 0.18.0; try it out with `wandb.require(\"core\")`! See https://wandb.me/wandb-core for more information."
      ],
      "text/plain": [
       "<IPython.core.display.HTML object>"
      ]
     },
     "metadata": {},
     "output_type": "display_data"
    },
    {
     "name": "stderr",
     "output_type": "stream",
     "text": [
      "[I 2025-03-08 16:01:29,646] Trial 5 pruned. \n"
     ]
    },
    {
     "data": {
      "text/html": [
       "wandb version 0.19.8 is available!  To upgrade, please run:\n",
       " $ pip install wandb --upgrade"
      ],
      "text/plain": [
       "<IPython.core.display.HTML object>"
      ]
     },
     "metadata": {},
     "output_type": "display_data"
    },
    {
     "data": {
      "text/html": [
       "Tracking run with wandb version 0.17.2"
      ],
      "text/plain": [
       "<IPython.core.display.HTML object>"
      ]
     },
     "metadata": {},
     "output_type": "display_data"
    },
    {
     "data": {
      "text/html": [
       "Run data is saved locally in <code>/storage/yahlly/RecSys/code/wandb/run-20250308_160129-06zs0apo</code>"
      ],
      "text/plain": [
       "<IPython.core.display.HTML object>"
      ]
     },
     "metadata": {},
     "output_type": "display_data"
    },
    {
     "data": {
      "text/html": [
       "Syncing run <strong><a href='https://wandb.ai/ronelias-tel-aviv-university/TwoTowerModel_tuning/runs/06zs0apo' target=\"_blank\">wild-donkey-8</a></strong> to <a href='https://wandb.ai/ronelias-tel-aviv-university/TwoTowerModel_tuning' target=\"_blank\">Weights & Biases</a> (<a href='https://wandb.me/run' target=\"_blank\">docs</a>)<br/>"
      ],
      "text/plain": [
       "<IPython.core.display.HTML object>"
      ]
     },
     "metadata": {},
     "output_type": "display_data"
    },
    {
     "data": {
      "text/html": [
       " View project at <a href='https://wandb.ai/ronelias-tel-aviv-university/TwoTowerModel_tuning' target=\"_blank\">https://wandb.ai/ronelias-tel-aviv-university/TwoTowerModel_tuning</a>"
      ],
      "text/plain": [
       "<IPython.core.display.HTML object>"
      ]
     },
     "metadata": {},
     "output_type": "display_data"
    },
    {
     "data": {
      "text/html": [
       " View run at <a href='https://wandb.ai/ronelias-tel-aviv-university/TwoTowerModel_tuning/runs/06zs0apo' target=\"_blank\">https://wandb.ai/ronelias-tel-aviv-university/TwoTowerModel_tuning/runs/06zs0apo</a>"
      ],
      "text/plain": [
       "<IPython.core.display.HTML object>"
      ]
     },
     "metadata": {},
     "output_type": "display_data"
    },
    {
     "name": "stderr",
     "output_type": "stream",
     "text": [
      "Epoch 1/20: 100%|██████████| 15685/15685 [02:43<00:00, 95.92it/s]\n"
     ]
    },
    {
     "data": {
      "text/html": [
       "<style>\n",
       "    table.wandb td:nth-child(1) { padding: 0 10px; text-align: left ; width: auto;} td:nth-child(2) {text-align: left ; width: 100%}\n",
       "    .wandb-row { display: flex; flex-direction: row; flex-wrap: wrap; justify-content: flex-start; width: 100% }\n",
       "    .wandb-col { display: flex; flex-direction: column; flex-basis: 100%; flex: 1; padding: 10px; }\n",
       "    </style>\n",
       "<div class=\"wandb-row\"><div class=\"wandb-col\"><h3>Run history:</h3><br/><table class=\"wandb\"><tr><td>epoch</td><td>▁</td></tr><tr><td>train_loss</td><td>▁</td></tr><tr><td>val_accuracy</td><td>▁</td></tr><tr><td>val_loss</td><td>▁</td></tr></table><br/></div><div class=\"wandb-col\"><h3>Run summary:</h3><br/><table class=\"wandb\"><tr><td>epoch</td><td>1</td></tr><tr><td>train_loss</td><td>0.28991</td></tr><tr><td>val_accuracy</td><td>0.50159</td></tr><tr><td>val_loss</td><td>1.49634</td></tr></table><br/></div></div>"
      ],
      "text/plain": [
       "<IPython.core.display.HTML object>"
      ]
     },
     "metadata": {},
     "output_type": "display_data"
    },
    {
     "data": {
      "text/html": [
       " View run <strong style=\"color:#cdcd00\">wild-donkey-8</strong> at: <a href='https://wandb.ai/ronelias-tel-aviv-university/TwoTowerModel_tuning/runs/06zs0apo' target=\"_blank\">https://wandb.ai/ronelias-tel-aviv-university/TwoTowerModel_tuning/runs/06zs0apo</a><br/> View project at: <a href='https://wandb.ai/ronelias-tel-aviv-university/TwoTowerModel_tuning' target=\"_blank\">https://wandb.ai/ronelias-tel-aviv-university/TwoTowerModel_tuning</a><br/>Synced 6 W&B file(s), 0 media file(s), 0 artifact file(s) and 0 other file(s)"
      ],
      "text/plain": [
       "<IPython.core.display.HTML object>"
      ]
     },
     "metadata": {},
     "output_type": "display_data"
    },
    {
     "data": {
      "text/html": [
       "Find logs at: <code>./wandb/run-20250308_160129-06zs0apo/logs</code>"
      ],
      "text/plain": [
       "<IPython.core.display.HTML object>"
      ]
     },
     "metadata": {},
     "output_type": "display_data"
    },
    {
     "data": {
      "text/html": [
       "The new W&B backend becomes opt-out in version 0.18.0; try it out with `wandb.require(\"core\")`! See https://wandb.me/wandb-core for more information."
      ],
      "text/plain": [
       "<IPython.core.display.HTML object>"
      ]
     },
     "metadata": {},
     "output_type": "display_data"
    },
    {
     "name": "stderr",
     "output_type": "stream",
     "text": [
      "[I 2025-03-08 16:04:38,011] Trial 6 pruned. \n"
     ]
    },
    {
     "data": {
      "text/html": [
       "wandb version 0.19.8 is available!  To upgrade, please run:\n",
       " $ pip install wandb --upgrade"
      ],
      "text/plain": [
       "<IPython.core.display.HTML object>"
      ]
     },
     "metadata": {},
     "output_type": "display_data"
    },
    {
     "data": {
      "text/html": [
       "Tracking run with wandb version 0.17.2"
      ],
      "text/plain": [
       "<IPython.core.display.HTML object>"
      ]
     },
     "metadata": {},
     "output_type": "display_data"
    },
    {
     "data": {
      "text/html": [
       "Run data is saved locally in <code>/storage/yahlly/RecSys/code/wandb/run-20250308_160438-s9wfydd4</code>"
      ],
      "text/plain": [
       "<IPython.core.display.HTML object>"
      ]
     },
     "metadata": {},
     "output_type": "display_data"
    },
    {
     "data": {
      "text/html": [
       "Syncing run <strong><a href='https://wandb.ai/ronelias-tel-aviv-university/TwoTowerModel_tuning/runs/s9wfydd4' target=\"_blank\">sunny-resonance-9</a></strong> to <a href='https://wandb.ai/ronelias-tel-aviv-university/TwoTowerModel_tuning' target=\"_blank\">Weights & Biases</a> (<a href='https://wandb.me/run' target=\"_blank\">docs</a>)<br/>"
      ],
      "text/plain": [
       "<IPython.core.display.HTML object>"
      ]
     },
     "metadata": {},
     "output_type": "display_data"
    },
    {
     "data": {
      "text/html": [
       " View project at <a href='https://wandb.ai/ronelias-tel-aviv-university/TwoTowerModel_tuning' target=\"_blank\">https://wandb.ai/ronelias-tel-aviv-university/TwoTowerModel_tuning</a>"
      ],
      "text/plain": [
       "<IPython.core.display.HTML object>"
      ]
     },
     "metadata": {},
     "output_type": "display_data"
    },
    {
     "data": {
      "text/html": [
       " View run at <a href='https://wandb.ai/ronelias-tel-aviv-university/TwoTowerModel_tuning/runs/s9wfydd4' target=\"_blank\">https://wandb.ai/ronelias-tel-aviv-university/TwoTowerModel_tuning/runs/s9wfydd4</a>"
      ],
      "text/plain": [
       "<IPython.core.display.HTML object>"
      ]
     },
     "metadata": {},
     "output_type": "display_data"
    },
    {
     "name": "stderr",
     "output_type": "stream",
     "text": [
      "Epoch 1/20: 100%|██████████| 15685/15685 [02:43<00:00, 96.15it/s]\n"
     ]
    },
    {
     "data": {
      "text/html": [
       "<style>\n",
       "    table.wandb td:nth-child(1) { padding: 0 10px; text-align: left ; width: auto;} td:nth-child(2) {text-align: left ; width: 100%}\n",
       "    .wandb-row { display: flex; flex-direction: row; flex-wrap: wrap; justify-content: flex-start; width: 100% }\n",
       "    .wandb-col { display: flex; flex-direction: column; flex-basis: 100%; flex: 1; padding: 10px; }\n",
       "    </style>\n",
       "<div class=\"wandb-row\"><div class=\"wandb-col\"><h3>Run history:</h3><br/><table class=\"wandb\"><tr><td>epoch</td><td>▁</td></tr><tr><td>train_loss</td><td>▁</td></tr><tr><td>val_accuracy</td><td>▁</td></tr><tr><td>val_loss</td><td>▁</td></tr></table><br/></div><div class=\"wandb-col\"><h3>Run summary:</h3><br/><table class=\"wandb\"><tr><td>epoch</td><td>1</td></tr><tr><td>train_loss</td><td>0.42471</td></tr><tr><td>val_accuracy</td><td>0.50257</td></tr><tr><td>val_loss</td><td>1.19272</td></tr></table><br/></div></div>"
      ],
      "text/plain": [
       "<IPython.core.display.HTML object>"
      ]
     },
     "metadata": {},
     "output_type": "display_data"
    },
    {
     "data": {
      "text/html": [
       " View run <strong style=\"color:#cdcd00\">sunny-resonance-9</strong> at: <a href='https://wandb.ai/ronelias-tel-aviv-university/TwoTowerModel_tuning/runs/s9wfydd4' target=\"_blank\">https://wandb.ai/ronelias-tel-aviv-university/TwoTowerModel_tuning/runs/s9wfydd4</a><br/> View project at: <a href='https://wandb.ai/ronelias-tel-aviv-university/TwoTowerModel_tuning' target=\"_blank\">https://wandb.ai/ronelias-tel-aviv-university/TwoTowerModel_tuning</a><br/>Synced 6 W&B file(s), 0 media file(s), 0 artifact file(s) and 0 other file(s)"
      ],
      "text/plain": [
       "<IPython.core.display.HTML object>"
      ]
     },
     "metadata": {},
     "output_type": "display_data"
    },
    {
     "data": {
      "text/html": [
       "Find logs at: <code>./wandb/run-20250308_160438-s9wfydd4/logs</code>"
      ],
      "text/plain": [
       "<IPython.core.display.HTML object>"
      ]
     },
     "metadata": {},
     "output_type": "display_data"
    },
    {
     "data": {
      "text/html": [
       "The new W&B backend becomes opt-out in version 0.18.0; try it out with `wandb.require(\"core\")`! See https://wandb.me/wandb-core for more information."
      ],
      "text/plain": [
       "<IPython.core.display.HTML object>"
      ]
     },
     "metadata": {},
     "output_type": "display_data"
    },
    {
     "name": "stderr",
     "output_type": "stream",
     "text": [
      "[I 2025-03-08 16:07:46,653] Trial 7 pruned. \n"
     ]
    },
    {
     "data": {
      "text/html": [
       "wandb version 0.19.8 is available!  To upgrade, please run:\n",
       " $ pip install wandb --upgrade"
      ],
      "text/plain": [
       "<IPython.core.display.HTML object>"
      ]
     },
     "metadata": {},
     "output_type": "display_data"
    },
    {
     "data": {
      "text/html": [
       "Tracking run with wandb version 0.17.2"
      ],
      "text/plain": [
       "<IPython.core.display.HTML object>"
      ]
     },
     "metadata": {},
     "output_type": "display_data"
    },
    {
     "data": {
      "text/html": [
       "Run data is saved locally in <code>/storage/yahlly/RecSys/code/wandb/run-20250308_160746-6v1pke70</code>"
      ],
      "text/plain": [
       "<IPython.core.display.HTML object>"
      ]
     },
     "metadata": {},
     "output_type": "display_data"
    },
    {
     "data": {
      "text/html": [
       "Syncing run <strong><a href='https://wandb.ai/ronelias-tel-aviv-university/TwoTowerModel_tuning/runs/6v1pke70' target=\"_blank\">dark-bee-10</a></strong> to <a href='https://wandb.ai/ronelias-tel-aviv-university/TwoTowerModel_tuning' target=\"_blank\">Weights & Biases</a> (<a href='https://wandb.me/run' target=\"_blank\">docs</a>)<br/>"
      ],
      "text/plain": [
       "<IPython.core.display.HTML object>"
      ]
     },
     "metadata": {},
     "output_type": "display_data"
    },
    {
     "data": {
      "text/html": [
       " View project at <a href='https://wandb.ai/ronelias-tel-aviv-university/TwoTowerModel_tuning' target=\"_blank\">https://wandb.ai/ronelias-tel-aviv-university/TwoTowerModel_tuning</a>"
      ],
      "text/plain": [
       "<IPython.core.display.HTML object>"
      ]
     },
     "metadata": {},
     "output_type": "display_data"
    },
    {
     "data": {
      "text/html": [
       " View run at <a href='https://wandb.ai/ronelias-tel-aviv-university/TwoTowerModel_tuning/runs/6v1pke70' target=\"_blank\">https://wandb.ai/ronelias-tel-aviv-university/TwoTowerModel_tuning/runs/6v1pke70</a>"
      ],
      "text/plain": [
       "<IPython.core.display.HTML object>"
      ]
     },
     "metadata": {},
     "output_type": "display_data"
    },
    {
     "name": "stderr",
     "output_type": "stream",
     "text": [
      "Epoch 1/20: 100%|██████████| 15685/15685 [02:42<00:00, 96.71it/s]\n"
     ]
    },
    {
     "data": {
      "text/html": [
       "<style>\n",
       "    table.wandb td:nth-child(1) { padding: 0 10px; text-align: left ; width: auto;} td:nth-child(2) {text-align: left ; width: 100%}\n",
       "    .wandb-row { display: flex; flex-direction: row; flex-wrap: wrap; justify-content: flex-start; width: 100% }\n",
       "    .wandb-col { display: flex; flex-direction: column; flex-basis: 100%; flex: 1; padding: 10px; }\n",
       "    </style>\n",
       "<div class=\"wandb-row\"><div class=\"wandb-col\"><h3>Run history:</h3><br/><table class=\"wandb\"><tr><td>epoch</td><td>▁</td></tr><tr><td>train_loss</td><td>▁</td></tr><tr><td>val_accuracy</td><td>▁</td></tr><tr><td>val_loss</td><td>▁</td></tr></table><br/></div><div class=\"wandb-col\"><h3>Run summary:</h3><br/><table class=\"wandb\"><tr><td>epoch</td><td>1</td></tr><tr><td>train_loss</td><td>0.40374</td></tr><tr><td>val_accuracy</td><td>0.50119</td></tr><tr><td>val_loss</td><td>1.22808</td></tr></table><br/></div></div>"
      ],
      "text/plain": [
       "<IPython.core.display.HTML object>"
      ]
     },
     "metadata": {},
     "output_type": "display_data"
    },
    {
     "data": {
      "text/html": [
       " View run <strong style=\"color:#cdcd00\">dark-bee-10</strong> at: <a href='https://wandb.ai/ronelias-tel-aviv-university/TwoTowerModel_tuning/runs/6v1pke70' target=\"_blank\">https://wandb.ai/ronelias-tel-aviv-university/TwoTowerModel_tuning/runs/6v1pke70</a><br/> View project at: <a href='https://wandb.ai/ronelias-tel-aviv-university/TwoTowerModel_tuning' target=\"_blank\">https://wandb.ai/ronelias-tel-aviv-university/TwoTowerModel_tuning</a><br/>Synced 6 W&B file(s), 0 media file(s), 0 artifact file(s) and 0 other file(s)"
      ],
      "text/plain": [
       "<IPython.core.display.HTML object>"
      ]
     },
     "metadata": {},
     "output_type": "display_data"
    },
    {
     "data": {
      "text/html": [
       "Find logs at: <code>./wandb/run-20250308_160746-6v1pke70/logs</code>"
      ],
      "text/plain": [
       "<IPython.core.display.HTML object>"
      ]
     },
     "metadata": {},
     "output_type": "display_data"
    },
    {
     "data": {
      "text/html": [
       "The new W&B backend becomes opt-out in version 0.18.0; try it out with `wandb.require(\"core\")`! See https://wandb.me/wandb-core for more information."
      ],
      "text/plain": [
       "<IPython.core.display.HTML object>"
      ]
     },
     "metadata": {},
     "output_type": "display_data"
    },
    {
     "name": "stderr",
     "output_type": "stream",
     "text": [
      "[I 2025-03-08 16:10:53,019] Trial 8 pruned. \n"
     ]
    },
    {
     "data": {
      "text/html": [
       "wandb version 0.19.8 is available!  To upgrade, please run:\n",
       " $ pip install wandb --upgrade"
      ],
      "text/plain": [
       "<IPython.core.display.HTML object>"
      ]
     },
     "metadata": {},
     "output_type": "display_data"
    },
    {
     "data": {
      "text/html": [
       "Tracking run with wandb version 0.17.2"
      ],
      "text/plain": [
       "<IPython.core.display.HTML object>"
      ]
     },
     "metadata": {},
     "output_type": "display_data"
    },
    {
     "data": {
      "text/html": [
       "Run data is saved locally in <code>/storage/yahlly/RecSys/code/wandb/run-20250308_161053-zue3398m</code>"
      ],
      "text/plain": [
       "<IPython.core.display.HTML object>"
      ]
     },
     "metadata": {},
     "output_type": "display_data"
    },
    {
     "data": {
      "text/html": [
       "Syncing run <strong><a href='https://wandb.ai/ronelias-tel-aviv-university/TwoTowerModel_tuning/runs/zue3398m' target=\"_blank\">deep-haze-11</a></strong> to <a href='https://wandb.ai/ronelias-tel-aviv-university/TwoTowerModel_tuning' target=\"_blank\">Weights & Biases</a> (<a href='https://wandb.me/run' target=\"_blank\">docs</a>)<br/>"
      ],
      "text/plain": [
       "<IPython.core.display.HTML object>"
      ]
     },
     "metadata": {},
     "output_type": "display_data"
    },
    {
     "data": {
      "text/html": [
       " View project at <a href='https://wandb.ai/ronelias-tel-aviv-university/TwoTowerModel_tuning' target=\"_blank\">https://wandb.ai/ronelias-tel-aviv-university/TwoTowerModel_tuning</a>"
      ],
      "text/plain": [
       "<IPython.core.display.HTML object>"
      ]
     },
     "metadata": {},
     "output_type": "display_data"
    },
    {
     "data": {
      "text/html": [
       " View run at <a href='https://wandb.ai/ronelias-tel-aviv-university/TwoTowerModel_tuning/runs/zue3398m' target=\"_blank\">https://wandb.ai/ronelias-tel-aviv-university/TwoTowerModel_tuning/runs/zue3398m</a>"
      ],
      "text/plain": [
       "<IPython.core.display.HTML object>"
      ]
     },
     "metadata": {},
     "output_type": "display_data"
    },
    {
     "name": "stderr",
     "output_type": "stream",
     "text": [
      "Epoch 1/20: 100%|██████████| 15685/15685 [02:42<00:00, 96.78it/s]\n"
     ]
    },
    {
     "data": {
      "text/html": [
       "<style>\n",
       "    table.wandb td:nth-child(1) { padding: 0 10px; text-align: left ; width: auto;} td:nth-child(2) {text-align: left ; width: 100%}\n",
       "    .wandb-row { display: flex; flex-direction: row; flex-wrap: wrap; justify-content: flex-start; width: 100% }\n",
       "    .wandb-col { display: flex; flex-direction: column; flex-basis: 100%; flex: 1; padding: 10px; }\n",
       "    </style>\n",
       "<div class=\"wandb-row\"><div class=\"wandb-col\"><h3>Run history:</h3><br/><table class=\"wandb\"><tr><td>epoch</td><td>▁</td></tr><tr><td>train_loss</td><td>▁</td></tr><tr><td>val_accuracy</td><td>▁</td></tr><tr><td>val_loss</td><td>▁</td></tr></table><br/></div><div class=\"wandb-col\"><h3>Run summary:</h3><br/><table class=\"wandb\"><tr><td>epoch</td><td>1</td></tr><tr><td>train_loss</td><td>0.32983</td></tr><tr><td>val_accuracy</td><td>0.50267</td></tr><tr><td>val_loss</td><td>1.42939</td></tr></table><br/></div></div>"
      ],
      "text/plain": [
       "<IPython.core.display.HTML object>"
      ]
     },
     "metadata": {},
     "output_type": "display_data"
    },
    {
     "data": {
      "text/html": [
       " View run <strong style=\"color:#cdcd00\">deep-haze-11</strong> at: <a href='https://wandb.ai/ronelias-tel-aviv-university/TwoTowerModel_tuning/runs/zue3398m' target=\"_blank\">https://wandb.ai/ronelias-tel-aviv-university/TwoTowerModel_tuning/runs/zue3398m</a><br/> View project at: <a href='https://wandb.ai/ronelias-tel-aviv-university/TwoTowerModel_tuning' target=\"_blank\">https://wandb.ai/ronelias-tel-aviv-university/TwoTowerModel_tuning</a><br/>Synced 6 W&B file(s), 0 media file(s), 0 artifact file(s) and 0 other file(s)"
      ],
      "text/plain": [
       "<IPython.core.display.HTML object>"
      ]
     },
     "metadata": {},
     "output_type": "display_data"
    },
    {
     "data": {
      "text/html": [
       "Find logs at: <code>./wandb/run-20250308_161053-zue3398m/logs</code>"
      ],
      "text/plain": [
       "<IPython.core.display.HTML object>"
      ]
     },
     "metadata": {},
     "output_type": "display_data"
    },
    {
     "data": {
      "text/html": [
       "The new W&B backend becomes opt-out in version 0.18.0; try it out with `wandb.require(\"core\")`! See https://wandb.me/wandb-core for more information."
      ],
      "text/plain": [
       "<IPython.core.display.HTML object>"
      ]
     },
     "metadata": {},
     "output_type": "display_data"
    },
    {
     "name": "stderr",
     "output_type": "stream",
     "text": [
      "[I 2025-03-08 16:13:59,673] Trial 9 pruned. \n"
     ]
    },
    {
     "data": {
      "text/html": [
       "wandb version 0.19.8 is available!  To upgrade, please run:\n",
       " $ pip install wandb --upgrade"
      ],
      "text/plain": [
       "<IPython.core.display.HTML object>"
      ]
     },
     "metadata": {},
     "output_type": "display_data"
    },
    {
     "data": {
      "text/html": [
       "Tracking run with wandb version 0.17.2"
      ],
      "text/plain": [
       "<IPython.core.display.HTML object>"
      ]
     },
     "metadata": {},
     "output_type": "display_data"
    },
    {
     "data": {
      "text/html": [
       "Run data is saved locally in <code>/storage/yahlly/RecSys/code/wandb/run-20250308_161359-vkwft4ob</code>"
      ],
      "text/plain": [
       "<IPython.core.display.HTML object>"
      ]
     },
     "metadata": {},
     "output_type": "display_data"
    },
    {
     "data": {
      "text/html": [
       "Syncing run <strong><a href='https://wandb.ai/ronelias-tel-aviv-university/TwoTowerModel_tuning/runs/vkwft4ob' target=\"_blank\">serene-night-12</a></strong> to <a href='https://wandb.ai/ronelias-tel-aviv-university/TwoTowerModel_tuning' target=\"_blank\">Weights & Biases</a> (<a href='https://wandb.me/run' target=\"_blank\">docs</a>)<br/>"
      ],
      "text/plain": [
       "<IPython.core.display.HTML object>"
      ]
     },
     "metadata": {},
     "output_type": "display_data"
    },
    {
     "data": {
      "text/html": [
       " View project at <a href='https://wandb.ai/ronelias-tel-aviv-university/TwoTowerModel_tuning' target=\"_blank\">https://wandb.ai/ronelias-tel-aviv-university/TwoTowerModel_tuning</a>"
      ],
      "text/plain": [
       "<IPython.core.display.HTML object>"
      ]
     },
     "metadata": {},
     "output_type": "display_data"
    },
    {
     "data": {
      "text/html": [
       " View run at <a href='https://wandb.ai/ronelias-tel-aviv-university/TwoTowerModel_tuning/runs/vkwft4ob' target=\"_blank\">https://wandb.ai/ronelias-tel-aviv-university/TwoTowerModel_tuning/runs/vkwft4ob</a>"
      ],
      "text/plain": [
       "<IPython.core.display.HTML object>"
      ]
     },
     "metadata": {},
     "output_type": "display_data"
    },
    {
     "name": "stderr",
     "output_type": "stream",
     "text": [
      "Epoch 1/20: 100%|██████████| 15685/15685 [02:40<00:00, 97.91it/s]\n"
     ]
    },
    {
     "data": {
      "text/html": [
       "<style>\n",
       "    table.wandb td:nth-child(1) { padding: 0 10px; text-align: left ; width: auto;} td:nth-child(2) {text-align: left ; width: 100%}\n",
       "    .wandb-row { display: flex; flex-direction: row; flex-wrap: wrap; justify-content: flex-start; width: 100% }\n",
       "    .wandb-col { display: flex; flex-direction: column; flex-basis: 100%; flex: 1; padding: 10px; }\n",
       "    </style>\n",
       "<div class=\"wandb-row\"><div class=\"wandb-col\"><h3>Run history:</h3><br/><table class=\"wandb\"><tr><td>epoch</td><td>▁</td></tr><tr><td>train_loss</td><td>▁</td></tr><tr><td>val_accuracy</td><td>▁</td></tr><tr><td>val_loss</td><td>▁</td></tr></table><br/></div><div class=\"wandb-col\"><h3>Run summary:</h3><br/><table class=\"wandb\"><tr><td>epoch</td><td>1</td></tr><tr><td>train_loss</td><td>16.46894</td></tr><tr><td>val_accuracy</td><td>0.49769</td></tr><tr><td>val_loss</td><td>3596.8279</td></tr></table><br/></div></div>"
      ],
      "text/plain": [
       "<IPython.core.display.HTML object>"
      ]
     },
     "metadata": {},
     "output_type": "display_data"
    },
    {
     "data": {
      "text/html": [
       " View run <strong style=\"color:#cdcd00\">serene-night-12</strong> at: <a href='https://wandb.ai/ronelias-tel-aviv-university/TwoTowerModel_tuning/runs/vkwft4ob' target=\"_blank\">https://wandb.ai/ronelias-tel-aviv-university/TwoTowerModel_tuning/runs/vkwft4ob</a><br/> View project at: <a href='https://wandb.ai/ronelias-tel-aviv-university/TwoTowerModel_tuning' target=\"_blank\">https://wandb.ai/ronelias-tel-aviv-university/TwoTowerModel_tuning</a><br/>Synced 6 W&B file(s), 0 media file(s), 0 artifact file(s) and 0 other file(s)"
      ],
      "text/plain": [
       "<IPython.core.display.HTML object>"
      ]
     },
     "metadata": {},
     "output_type": "display_data"
    },
    {
     "data": {
      "text/html": [
       "Find logs at: <code>./wandb/run-20250308_161359-vkwft4ob/logs</code>"
      ],
      "text/plain": [
       "<IPython.core.display.HTML object>"
      ]
     },
     "metadata": {},
     "output_type": "display_data"
    },
    {
     "data": {
      "text/html": [
       "The new W&B backend becomes opt-out in version 0.18.0; try it out with `wandb.require(\"core\")`! See https://wandb.me/wandb-core for more information."
      ],
      "text/plain": [
       "<IPython.core.display.HTML object>"
      ]
     },
     "metadata": {},
     "output_type": "display_data"
    },
    {
     "name": "stderr",
     "output_type": "stream",
     "text": [
      "[I 2025-03-08 16:17:03,806] Trial 10 pruned. \n"
     ]
    },
    {
     "data": {
      "text/html": [
       "wandb version 0.19.8 is available!  To upgrade, please run:\n",
       " $ pip install wandb --upgrade"
      ],
      "text/plain": [
       "<IPython.core.display.HTML object>"
      ]
     },
     "metadata": {},
     "output_type": "display_data"
    },
    {
     "data": {
      "text/html": [
       "Tracking run with wandb version 0.17.2"
      ],
      "text/plain": [
       "<IPython.core.display.HTML object>"
      ]
     },
     "metadata": {},
     "output_type": "display_data"
    },
    {
     "data": {
      "text/html": [
       "Run data is saved locally in <code>/storage/yahlly/RecSys/code/wandb/run-20250308_161703-pfff6ks8</code>"
      ],
      "text/plain": [
       "<IPython.core.display.HTML object>"
      ]
     },
     "metadata": {},
     "output_type": "display_data"
    },
    {
     "data": {
      "text/html": [
       "Syncing run <strong><a href='https://wandb.ai/ronelias-tel-aviv-university/TwoTowerModel_tuning/runs/pfff6ks8' target=\"_blank\">spring-wind-13</a></strong> to <a href='https://wandb.ai/ronelias-tel-aviv-university/TwoTowerModel_tuning' target=\"_blank\">Weights & Biases</a> (<a href='https://wandb.me/run' target=\"_blank\">docs</a>)<br/>"
      ],
      "text/plain": [
       "<IPython.core.display.HTML object>"
      ]
     },
     "metadata": {},
     "output_type": "display_data"
    },
    {
     "data": {
      "text/html": [
       " View project at <a href='https://wandb.ai/ronelias-tel-aviv-university/TwoTowerModel_tuning' target=\"_blank\">https://wandb.ai/ronelias-tel-aviv-university/TwoTowerModel_tuning</a>"
      ],
      "text/plain": [
       "<IPython.core.display.HTML object>"
      ]
     },
     "metadata": {},
     "output_type": "display_data"
    },
    {
     "data": {
      "text/html": [
       " View run at <a href='https://wandb.ai/ronelias-tel-aviv-university/TwoTowerModel_tuning/runs/pfff6ks8' target=\"_blank\">https://wandb.ai/ronelias-tel-aviv-university/TwoTowerModel_tuning/runs/pfff6ks8</a>"
      ],
      "text/plain": [
       "<IPython.core.display.HTML object>"
      ]
     },
     "metadata": {},
     "output_type": "display_data"
    },
    {
     "name": "stderr",
     "output_type": "stream",
     "text": [
      "Epoch 1/20: 100%|██████████| 15685/15685 [02:43<00:00, 95.89it/s]\n",
      "Epoch 2/20: 100%|██████████| 15685/15685 [02:43<00:00, 95.94it/s]\n",
      "Epoch 3/20: 100%|██████████| 15685/15685 [02:43<00:00, 95.91it/s]\n",
      "Epoch 4/20: 100%|██████████| 15685/15685 [02:43<00:00, 95.90it/s]\n",
      "Epoch 5/20: 100%|██████████| 15685/15685 [02:43<00:00, 96.11it/s]\n",
      "Epoch 6/20: 100%|██████████| 15685/15685 [02:43<00:00, 95.81it/s]\n",
      "Epoch 7/20: 100%|██████████| 15685/15685 [02:43<00:00, 95.88it/s]\n",
      "Epoch 8/20: 100%|██████████| 15685/15685 [02:43<00:00, 95.95it/s]\n",
      "Epoch 9/20: 100%|██████████| 15685/15685 [02:43<00:00, 95.73it/s]\n",
      "Epoch 10/20: 100%|██████████| 15685/15685 [02:43<00:00, 95.84it/s]\n",
      "Epoch 11/20: 100%|██████████| 15685/15685 [02:43<00:00, 96.10it/s]\n",
      "Epoch 12/20: 100%|██████████| 15685/15685 [02:43<00:00, 95.88it/s]\n",
      "Epoch 13/20: 100%|██████████| 15685/15685 [02:43<00:00, 96.08it/s]\n",
      "Epoch 14/20: 100%|██████████| 15685/15685 [02:43<00:00, 95.99it/s]\n",
      "Epoch 15/20: 100%|██████████| 15685/15685 [02:43<00:00, 95.81it/s]\n",
      "Epoch 16/20: 100%|██████████| 15685/15685 [02:43<00:00, 95.76it/s]\n",
      "Epoch 17/20: 100%|██████████| 15685/15685 [02:43<00:00, 95.87it/s]\n",
      "Epoch 18/20: 100%|██████████| 15685/15685 [02:43<00:00, 96.07it/s]\n",
      "Epoch 19/20: 100%|██████████| 15685/15685 [02:43<00:00, 96.03it/s]\n",
      "Epoch 20/20: 100%|██████████| 15685/15685 [02:43<00:00, 96.04it/s]\n"
     ]
    },
    {
     "data": {
      "text/html": [
       "<style>\n",
       "    table.wandb td:nth-child(1) { padding: 0 10px; text-align: left ; width: auto;} td:nth-child(2) {text-align: left ; width: 100%}\n",
       "    .wandb-row { display: flex; flex-direction: row; flex-wrap: wrap; justify-content: flex-start; width: 100% }\n",
       "    .wandb-col { display: flex; flex-direction: column; flex-basis: 100%; flex: 1; padding: 10px; }\n",
       "    </style>\n",
       "<div class=\"wandb-row\"><div class=\"wandb-col\"><h3>Run history:</h3><br/><table class=\"wandb\"><tr><td>epoch</td><td>▁▁▂▂▂▃▃▄▄▄▅▅▅▆▆▇▇▇██</td></tr><tr><td>train_loss</td><td>▁█▇▁▅▁▆▄▁▃▁▆▄▁▂▁▁▂▁▁</td></tr><tr><td>val_accuracy</td><td>▆▇▇▆█▇▄▃▃▅▆▆▇▅▆▄▃▆▅▁</td></tr><tr><td>val_loss</td><td>▁▁▅▁█▁▁▁▁▁▁▁▁▁▁▁▁▁▁▁</td></tr></table><br/></div><div class=\"wandb-col\"><h3>Run summary:</h3><br/><table class=\"wandb\"><tr><td>epoch</td><td>20</td></tr><tr><td>train_loss</td><td>0.71543</td></tr><tr><td>val_accuracy</td><td>0.49663</td></tr><tr><td>val_loss</td><td>0.69315</td></tr></table><br/></div></div>"
      ],
      "text/plain": [
       "<IPython.core.display.HTML object>"
      ]
     },
     "metadata": {},
     "output_type": "display_data"
    },
    {
     "data": {
      "text/html": [
       " View run <strong style=\"color:#cdcd00\">spring-wind-13</strong> at: <a href='https://wandb.ai/ronelias-tel-aviv-university/TwoTowerModel_tuning/runs/pfff6ks8' target=\"_blank\">https://wandb.ai/ronelias-tel-aviv-university/TwoTowerModel_tuning/runs/pfff6ks8</a><br/> View project at: <a href='https://wandb.ai/ronelias-tel-aviv-university/TwoTowerModel_tuning' target=\"_blank\">https://wandb.ai/ronelias-tel-aviv-university/TwoTowerModel_tuning</a><br/>Synced 6 W&B file(s), 0 media file(s), 0 artifact file(s) and 0 other file(s)"
      ],
      "text/plain": [
       "<IPython.core.display.HTML object>"
      ]
     },
     "metadata": {},
     "output_type": "display_data"
    },
    {
     "data": {
      "text/html": [
       "Find logs at: <code>./wandb/run-20250308_161703-pfff6ks8/logs</code>"
      ],
      "text/plain": [
       "<IPython.core.display.HTML object>"
      ]
     },
     "metadata": {},
     "output_type": "display_data"
    },
    {
     "data": {
      "text/html": [
       "The new W&B backend becomes opt-out in version 0.18.0; try it out with `wandb.require(\"core\")`! See https://wandb.me/wandb-core for more information."
      ],
      "text/plain": [
       "<IPython.core.display.HTML object>"
      ]
     },
     "metadata": {},
     "output_type": "display_data"
    },
    {
     "name": "stderr",
     "output_type": "stream",
     "text": [
      "[I 2025-03-08 17:16:19,511] Trial 11 finished with value: 0.693147182436786 and parameters: {'lr': 0.004206566999393392, 'embedding_dim': 126, 'weight_decay': 0.0014362581122355914}. Best is trial 11 with value: 0.693147182436786.\n"
     ]
    },
    {
     "data": {
      "text/html": [
       "wandb version 0.19.8 is available!  To upgrade, please run:\n",
       " $ pip install wandb --upgrade"
      ],
      "text/plain": [
       "<IPython.core.display.HTML object>"
      ]
     },
     "metadata": {},
     "output_type": "display_data"
    },
    {
     "data": {
      "text/html": [
       "Tracking run with wandb version 0.17.2"
      ],
      "text/plain": [
       "<IPython.core.display.HTML object>"
      ]
     },
     "metadata": {},
     "output_type": "display_data"
    },
    {
     "data": {
      "text/html": [
       "Run data is saved locally in <code>/storage/yahlly/RecSys/code/wandb/run-20250308_171619-1al7n7i5</code>"
      ],
      "text/plain": [
       "<IPython.core.display.HTML object>"
      ]
     },
     "metadata": {},
     "output_type": "display_data"
    },
    {
     "data": {
      "text/html": [
       "Syncing run <strong><a href='https://wandb.ai/ronelias-tel-aviv-university/TwoTowerModel_tuning/runs/1al7n7i5' target=\"_blank\">noble-feather-14</a></strong> to <a href='https://wandb.ai/ronelias-tel-aviv-university/TwoTowerModel_tuning' target=\"_blank\">Weights & Biases</a> (<a href='https://wandb.me/run' target=\"_blank\">docs</a>)<br/>"
      ],
      "text/plain": [
       "<IPython.core.display.HTML object>"
      ]
     },
     "metadata": {},
     "output_type": "display_data"
    },
    {
     "data": {
      "text/html": [
       " View project at <a href='https://wandb.ai/ronelias-tel-aviv-university/TwoTowerModel_tuning' target=\"_blank\">https://wandb.ai/ronelias-tel-aviv-university/TwoTowerModel_tuning</a>"
      ],
      "text/plain": [
       "<IPython.core.display.HTML object>"
      ]
     },
     "metadata": {},
     "output_type": "display_data"
    },
    {
     "data": {
      "text/html": [
       " View run at <a href='https://wandb.ai/ronelias-tel-aviv-university/TwoTowerModel_tuning/runs/1al7n7i5' target=\"_blank\">https://wandb.ai/ronelias-tel-aviv-university/TwoTowerModel_tuning/runs/1al7n7i5</a>"
      ],
      "text/plain": [
       "<IPython.core.display.HTML object>"
      ]
     },
     "metadata": {},
     "output_type": "display_data"
    },
    {
     "name": "stderr",
     "output_type": "stream",
     "text": [
      "Epoch 1/20: 100%|██████████| 15685/15685 [02:43<00:00, 96.22it/s]\n",
      "Epoch 2/20: 100%|██████████| 15685/15685 [02:42<00:00, 96.24it/s]\n",
      "Epoch 3/20: 100%|██████████| 15685/15685 [02:42<00:00, 96.30it/s]\n",
      "Epoch 4/20: 100%|██████████| 15685/15685 [02:42<00:00, 96.31it/s]\n",
      "Epoch 5/20: 100%|██████████| 15685/15685 [02:42<00:00, 96.27it/s]\n",
      "Epoch 6/20: 100%|██████████| 15685/15685 [02:42<00:00, 96.24it/s]\n",
      "Epoch 7/20: 100%|██████████| 15685/15685 [02:42<00:00, 96.44it/s]\n",
      "Epoch 8/20: 100%|██████████| 15685/15685 [02:42<00:00, 96.31it/s]\n",
      "Epoch 9/20: 100%|██████████| 15685/15685 [02:42<00:00, 96.30it/s]\n",
      "Epoch 10/20: 100%|██████████| 15685/15685 [02:42<00:00, 96.39it/s]\n",
      "Epoch 11/20: 100%|██████████| 15685/15685 [02:42<00:00, 96.23it/s]\n",
      "Epoch 12/20: 100%|██████████| 15685/15685 [02:42<00:00, 96.35it/s]\n",
      "Epoch 13/20: 100%|██████████| 15685/15685 [02:42<00:00, 96.50it/s]\n",
      "Epoch 14/20: 100%|██████████| 15685/15685 [02:43<00:00, 96.18it/s]\n",
      "Epoch 15/20: 100%|██████████| 15685/15685 [02:42<00:00, 96.42it/s]\n",
      "Epoch 16/20: 100%|██████████| 15685/15685 [02:42<00:00, 96.29it/s]\n",
      "Epoch 17/20: 100%|██████████| 15685/15685 [02:42<00:00, 96.38it/s]\n",
      "Epoch 18/20: 100%|██████████| 15685/15685 [02:42<00:00, 96.42it/s]\n",
      "Epoch 19/20: 100%|██████████| 15685/15685 [02:42<00:00, 96.35it/s]\n",
      "Epoch 20/20: 100%|██████████| 15685/15685 [02:42<00:00, 96.28it/s]\n"
     ]
    },
    {
     "data": {
      "text/html": [
       "<style>\n",
       "    table.wandb td:nth-child(1) { padding: 0 10px; text-align: left ; width: auto;} td:nth-child(2) {text-align: left ; width: 100%}\n",
       "    .wandb-row { display: flex; flex-direction: row; flex-wrap: wrap; justify-content: flex-start; width: 100% }\n",
       "    .wandb-col { display: flex; flex-direction: column; flex-basis: 100%; flex: 1; padding: 10px; }\n",
       "    </style>\n",
       "<div class=\"wandb-row\"><div class=\"wandb-col\"><h3>Run history:</h3><br/><table class=\"wandb\"><tr><td>epoch</td><td>▁▁▂▂▂▃▃▄▄▄▅▅▅▆▆▇▇▇██</td></tr><tr><td>train_loss</td><td>▁▃▆▁▅▁▃▁▁▃█▁▃▁▆▁▃▁▃▁</td></tr><tr><td>val_accuracy</td><td>▅▁▄▅▇▁▇▇▂▃██▄▅█▄▆▁▄▅</td></tr><tr><td>val_loss</td><td>▁▁█▁▂▁▁▁▁▁█▁▁▁▁▁▁▁▁▁</td></tr></table><br/></div><div class=\"wandb-col\"><h3>Run summary:</h3><br/><table class=\"wandb\"><tr><td>epoch</td><td>20</td></tr><tr><td>train_loss</td><td>0.69315</td></tr><tr><td>val_accuracy</td><td>0.4996</td></tr><tr><td>val_loss</td><td>0.69315</td></tr></table><br/></div></div>"
      ],
      "text/plain": [
       "<IPython.core.display.HTML object>"
      ]
     },
     "metadata": {},
     "output_type": "display_data"
    },
    {
     "data": {
      "text/html": [
       " View run <strong style=\"color:#cdcd00\">noble-feather-14</strong> at: <a href='https://wandb.ai/ronelias-tel-aviv-university/TwoTowerModel_tuning/runs/1al7n7i5' target=\"_blank\">https://wandb.ai/ronelias-tel-aviv-university/TwoTowerModel_tuning/runs/1al7n7i5</a><br/> View project at: <a href='https://wandb.ai/ronelias-tel-aviv-university/TwoTowerModel_tuning' target=\"_blank\">https://wandb.ai/ronelias-tel-aviv-university/TwoTowerModel_tuning</a><br/>Synced 6 W&B file(s), 0 media file(s), 0 artifact file(s) and 0 other file(s)"
      ],
      "text/plain": [
       "<IPython.core.display.HTML object>"
      ]
     },
     "metadata": {},
     "output_type": "display_data"
    },
    {
     "data": {
      "text/html": [
       "Find logs at: <code>./wandb/run-20250308_171619-1al7n7i5/logs</code>"
      ],
      "text/plain": [
       "<IPython.core.display.HTML object>"
      ]
     },
     "metadata": {},
     "output_type": "display_data"
    },
    {
     "data": {
      "text/html": [
       "The new W&B backend becomes opt-out in version 0.18.0; try it out with `wandb.require(\"core\")`! See https://wandb.me/wandb-core for more information."
      ],
      "text/plain": [
       "<IPython.core.display.HTML object>"
      ]
     },
     "metadata": {},
     "output_type": "display_data"
    },
    {
     "name": "stderr",
     "output_type": "stream",
     "text": [
      "[I 2025-03-08 18:15:21,025] Trial 12 finished with value: 0.6931438477474342 and parameters: {'lr': 0.009254651603008139, 'embedding_dim': 103, 'weight_decay': 0.009452317834358981}. Best is trial 12 with value: 0.6931438477474342.\n"
     ]
    },
    {
     "data": {
      "text/html": [
       "wandb version 0.19.8 is available!  To upgrade, please run:\n",
       " $ pip install wandb --upgrade"
      ],
      "text/plain": [
       "<IPython.core.display.HTML object>"
      ]
     },
     "metadata": {},
     "output_type": "display_data"
    },
    {
     "data": {
      "text/html": [
       "Tracking run with wandb version 0.17.2"
      ],
      "text/plain": [
       "<IPython.core.display.HTML object>"
      ]
     },
     "metadata": {},
     "output_type": "display_data"
    },
    {
     "data": {
      "text/html": [
       "Run data is saved locally in <code>/storage/yahlly/RecSys/code/wandb/run-20250308_181521-gocs7658</code>"
      ],
      "text/plain": [
       "<IPython.core.display.HTML object>"
      ]
     },
     "metadata": {},
     "output_type": "display_data"
    },
    {
     "data": {
      "text/html": [
       "Syncing run <strong><a href='https://wandb.ai/ronelias-tel-aviv-university/TwoTowerModel_tuning/runs/gocs7658' target=\"_blank\">avid-cloud-15</a></strong> to <a href='https://wandb.ai/ronelias-tel-aviv-university/TwoTowerModel_tuning' target=\"_blank\">Weights & Biases</a> (<a href='https://wandb.me/run' target=\"_blank\">docs</a>)<br/>"
      ],
      "text/plain": [
       "<IPython.core.display.HTML object>"
      ]
     },
     "metadata": {},
     "output_type": "display_data"
    },
    {
     "data": {
      "text/html": [
       " View project at <a href='https://wandb.ai/ronelias-tel-aviv-university/TwoTowerModel_tuning' target=\"_blank\">https://wandb.ai/ronelias-tel-aviv-university/TwoTowerModel_tuning</a>"
      ],
      "text/plain": [
       "<IPython.core.display.HTML object>"
      ]
     },
     "metadata": {},
     "output_type": "display_data"
    },
    {
     "data": {
      "text/html": [
       " View run at <a href='https://wandb.ai/ronelias-tel-aviv-university/TwoTowerModel_tuning/runs/gocs7658' target=\"_blank\">https://wandb.ai/ronelias-tel-aviv-university/TwoTowerModel_tuning/runs/gocs7658</a>"
      ],
      "text/plain": [
       "<IPython.core.display.HTML object>"
      ]
     },
     "metadata": {},
     "output_type": "display_data"
    },
    {
     "name": "stderr",
     "output_type": "stream",
     "text": [
      "Epoch 1/20: 100%|██████████| 15685/15685 [02:43<00:00, 96.04it/s]\n",
      "Epoch 2/20: 100%|██████████| 15685/15685 [02:43<00:00, 96.13it/s]\n",
      "Epoch 3/20: 100%|██████████| 15685/15685 [02:43<00:00, 96.21it/s]\n",
      "Epoch 4/20: 100%|██████████| 15685/15685 [02:43<00:00, 96.07it/s]\n",
      "Epoch 5/20: 100%|██████████| 15685/15685 [02:43<00:00, 96.17it/s]\n",
      "Epoch 6/20: 100%|██████████| 15685/15685 [02:42<00:00, 96.28it/s]\n",
      "Epoch 7/20: 100%|██████████| 15685/15685 [02:42<00:00, 96.29it/s]\n",
      "Epoch 8/20: 100%|██████████| 15685/15685 [02:43<00:00, 96.11it/s]\n",
      "Epoch 9/20: 100%|██████████| 15685/15685 [02:43<00:00, 96.09it/s]\n",
      "Epoch 10/20: 100%|██████████| 15685/15685 [02:42<00:00, 96.25it/s]\n",
      "Epoch 11/20: 100%|██████████| 15685/15685 [02:42<00:00, 96.24it/s]\n",
      "Epoch 12/20: 100%|██████████| 15685/15685 [02:43<00:00, 96.10it/s]\n",
      "Epoch 13/20: 100%|██████████| 15685/15685 [02:42<00:00, 96.23it/s]\n",
      "Epoch 14/20: 100%|██████████| 15685/15685 [02:43<00:00, 96.22it/s]\n",
      "Epoch 15/20: 100%|██████████| 15685/15685 [02:42<00:00, 96.26it/s]\n",
      "Epoch 16/20: 100%|██████████| 15685/15685 [02:42<00:00, 96.47it/s]\n",
      "Epoch 17/20: 100%|██████████| 15685/15685 [02:43<00:00, 96.15it/s]\n",
      "Epoch 18/20: 100%|██████████| 15685/15685 [02:43<00:00, 96.14it/s]\n",
      "Epoch 19/20: 100%|██████████| 15685/15685 [02:42<00:00, 96.25it/s]\n",
      "Epoch 20/20: 100%|██████████| 15685/15685 [02:43<00:00, 96.08it/s]\n"
     ]
    },
    {
     "data": {
      "text/html": [
       "<style>\n",
       "    table.wandb td:nth-child(1) { padding: 0 10px; text-align: left ; width: auto;} td:nth-child(2) {text-align: left ; width: 100%}\n",
       "    .wandb-row { display: flex; flex-direction: row; flex-wrap: wrap; justify-content: flex-start; width: 100% }\n",
       "    .wandb-col { display: flex; flex-direction: column; flex-basis: 100%; flex: 1; padding: 10px; }\n",
       "    </style>\n",
       "<div class=\"wandb-row\"><div class=\"wandb-col\"><h3>Run history:</h3><br/><table class=\"wandb\"><tr><td>epoch</td><td>▁▁▂▂▂▃▃▄▄▄▅▅▅▆▆▇▇▇██</td></tr><tr><td>train_loss</td><td>▁█▃▂█▁▅▁▇▁▃▁▄▁▃▂▁▂▁▂</td></tr><tr><td>val_accuracy</td><td>▃▄▄█▇▆█▅▆▄█▁▆▆▆▃▆▆▄▅</td></tr><tr><td>val_loss</td><td>▁▁▁▁▁▁▇▁█▁▁▁▁▁▁▁▁▄▁▁</td></tr></table><br/></div><div class=\"wandb-col\"><h3>Run summary:</h3><br/><table class=\"wandb\"><tr><td>epoch</td><td>20</td></tr><tr><td>train_loss</td><td>1.80755</td></tr><tr><td>val_accuracy</td><td>0.49958</td></tr><tr><td>val_loss</td><td>0.69315</td></tr></table><br/></div></div>"
      ],
      "text/plain": [
       "<IPython.core.display.HTML object>"
      ]
     },
     "metadata": {},
     "output_type": "display_data"
    },
    {
     "data": {
      "text/html": [
       " View run <strong style=\"color:#cdcd00\">avid-cloud-15</strong> at: <a href='https://wandb.ai/ronelias-tel-aviv-university/TwoTowerModel_tuning/runs/gocs7658' target=\"_blank\">https://wandb.ai/ronelias-tel-aviv-university/TwoTowerModel_tuning/runs/gocs7658</a><br/> View project at: <a href='https://wandb.ai/ronelias-tel-aviv-university/TwoTowerModel_tuning' target=\"_blank\">https://wandb.ai/ronelias-tel-aviv-university/TwoTowerModel_tuning</a><br/>Synced 6 W&B file(s), 0 media file(s), 0 artifact file(s) and 0 other file(s)"
      ],
      "text/plain": [
       "<IPython.core.display.HTML object>"
      ]
     },
     "metadata": {},
     "output_type": "display_data"
    },
    {
     "data": {
      "text/html": [
       "Find logs at: <code>./wandb/run-20250308_181521-gocs7658/logs</code>"
      ],
      "text/plain": [
       "<IPython.core.display.HTML object>"
      ]
     },
     "metadata": {},
     "output_type": "display_data"
    },
    {
     "data": {
      "text/html": [
       "The new W&B backend becomes opt-out in version 0.18.0; try it out with `wandb.require(\"core\")`! See https://wandb.me/wandb-core for more information."
      ],
      "text/plain": [
       "<IPython.core.display.HTML object>"
      ]
     },
     "metadata": {},
     "output_type": "display_data"
    },
    {
     "name": "stderr",
     "output_type": "stream",
     "text": [
      "[I 2025-03-08 19:14:25,110] Trial 13 finished with value: 0.693147182436786 and parameters: {'lr': 0.007723878204139398, 'embedding_dim': 106, 'weight_decay': 0.006474778201148152}. Best is trial 12 with value: 0.6931438477474342.\n"
     ]
    },
    {
     "data": {
      "text/html": [
       "wandb version 0.19.8 is available!  To upgrade, please run:\n",
       " $ pip install wandb --upgrade"
      ],
      "text/plain": [
       "<IPython.core.display.HTML object>"
      ]
     },
     "metadata": {},
     "output_type": "display_data"
    },
    {
     "data": {
      "text/html": [
       "Tracking run with wandb version 0.17.2"
      ],
      "text/plain": [
       "<IPython.core.display.HTML object>"
      ]
     },
     "metadata": {},
     "output_type": "display_data"
    },
    {
     "data": {
      "text/html": [
       "Run data is saved locally in <code>/storage/yahlly/RecSys/code/wandb/run-20250308_191425-lgi81z7g</code>"
      ],
      "text/plain": [
       "<IPython.core.display.HTML object>"
      ]
     },
     "metadata": {},
     "output_type": "display_data"
    },
    {
     "data": {
      "text/html": [
       "Syncing run <strong><a href='https://wandb.ai/ronelias-tel-aviv-university/TwoTowerModel_tuning/runs/lgi81z7g' target=\"_blank\">fine-oath-16</a></strong> to <a href='https://wandb.ai/ronelias-tel-aviv-university/TwoTowerModel_tuning' target=\"_blank\">Weights & Biases</a> (<a href='https://wandb.me/run' target=\"_blank\">docs</a>)<br/>"
      ],
      "text/plain": [
       "<IPython.core.display.HTML object>"
      ]
     },
     "metadata": {},
     "output_type": "display_data"
    },
    {
     "data": {
      "text/html": [
       " View project at <a href='https://wandb.ai/ronelias-tel-aviv-university/TwoTowerModel_tuning' target=\"_blank\">https://wandb.ai/ronelias-tel-aviv-university/TwoTowerModel_tuning</a>"
      ],
      "text/plain": [
       "<IPython.core.display.HTML object>"
      ]
     },
     "metadata": {},
     "output_type": "display_data"
    },
    {
     "data": {
      "text/html": [
       " View run at <a href='https://wandb.ai/ronelias-tel-aviv-university/TwoTowerModel_tuning/runs/lgi81z7g' target=\"_blank\">https://wandb.ai/ronelias-tel-aviv-university/TwoTowerModel_tuning/runs/lgi81z7g</a>"
      ],
      "text/plain": [
       "<IPython.core.display.HTML object>"
      ]
     },
     "metadata": {},
     "output_type": "display_data"
    },
    {
     "name": "stderr",
     "output_type": "stream",
     "text": [
      "Epoch 1/20: 100%|██████████| 15685/15685 [02:43<00:00, 96.05it/s]\n"
     ]
    },
    {
     "data": {
      "text/html": [
       "<style>\n",
       "    table.wandb td:nth-child(1) { padding: 0 10px; text-align: left ; width: auto;} td:nth-child(2) {text-align: left ; width: 100%}\n",
       "    .wandb-row { display: flex; flex-direction: row; flex-wrap: wrap; justify-content: flex-start; width: 100% }\n",
       "    .wandb-col { display: flex; flex-direction: column; flex-basis: 100%; flex: 1; padding: 10px; }\n",
       "    </style>\n",
       "<div class=\"wandb-row\"><div class=\"wandb-col\"><h3>Run history:</h3><br/><table class=\"wandb\"><tr><td>epoch</td><td>▁</td></tr><tr><td>train_loss</td><td>▁</td></tr><tr><td>val_accuracy</td><td>▁</td></tr><tr><td>val_loss</td><td>▁</td></tr></table><br/></div><div class=\"wandb-col\"><h3>Run summary:</h3><br/><table class=\"wandb\"><tr><td>epoch</td><td>1</td></tr><tr><td>train_loss</td><td>0.45074</td></tr><tr><td>val_accuracy</td><td>0.50228</td></tr><tr><td>val_loss</td><td>1.07321</td></tr></table><br/></div></div>"
      ],
      "text/plain": [
       "<IPython.core.display.HTML object>"
      ]
     },
     "metadata": {},
     "output_type": "display_data"
    },
    {
     "data": {
      "text/html": [
       " View run <strong style=\"color:#cdcd00\">fine-oath-16</strong> at: <a href='https://wandb.ai/ronelias-tel-aviv-university/TwoTowerModel_tuning/runs/lgi81z7g' target=\"_blank\">https://wandb.ai/ronelias-tel-aviv-university/TwoTowerModel_tuning/runs/lgi81z7g</a><br/> View project at: <a href='https://wandb.ai/ronelias-tel-aviv-university/TwoTowerModel_tuning' target=\"_blank\">https://wandb.ai/ronelias-tel-aviv-university/TwoTowerModel_tuning</a><br/>Synced 6 W&B file(s), 0 media file(s), 0 artifact file(s) and 0 other file(s)"
      ],
      "text/plain": [
       "<IPython.core.display.HTML object>"
      ]
     },
     "metadata": {},
     "output_type": "display_data"
    },
    {
     "data": {
      "text/html": [
       "Find logs at: <code>./wandb/run-20250308_191425-lgi81z7g/logs</code>"
      ],
      "text/plain": [
       "<IPython.core.display.HTML object>"
      ]
     },
     "metadata": {},
     "output_type": "display_data"
    },
    {
     "data": {
      "text/html": [
       "The new W&B backend becomes opt-out in version 0.18.0; try it out with `wandb.require(\"core\")`! See https://wandb.me/wandb-core for more information."
      ],
      "text/plain": [
       "<IPython.core.display.HTML object>"
      ]
     },
     "metadata": {},
     "output_type": "display_data"
    },
    {
     "name": "stderr",
     "output_type": "stream",
     "text": [
      "[I 2025-03-08 19:17:33,322] Trial 14 pruned. \n"
     ]
    },
    {
     "data": {
      "text/html": [
       "wandb version 0.19.8 is available!  To upgrade, please run:\n",
       " $ pip install wandb --upgrade"
      ],
      "text/plain": [
       "<IPython.core.display.HTML object>"
      ]
     },
     "metadata": {},
     "output_type": "display_data"
    },
    {
     "data": {
      "text/html": [
       "Tracking run with wandb version 0.17.2"
      ],
      "text/plain": [
       "<IPython.core.display.HTML object>"
      ]
     },
     "metadata": {},
     "output_type": "display_data"
    },
    {
     "data": {
      "text/html": [
       "Run data is saved locally in <code>/storage/yahlly/RecSys/code/wandb/run-20250308_191733-qw857mi0</code>"
      ],
      "text/plain": [
       "<IPython.core.display.HTML object>"
      ]
     },
     "metadata": {},
     "output_type": "display_data"
    },
    {
     "data": {
      "text/html": [
       "Syncing run <strong><a href='https://wandb.ai/ronelias-tel-aviv-university/TwoTowerModel_tuning/runs/qw857mi0' target=\"_blank\">elated-breeze-17</a></strong> to <a href='https://wandb.ai/ronelias-tel-aviv-university/TwoTowerModel_tuning' target=\"_blank\">Weights & Biases</a> (<a href='https://wandb.me/run' target=\"_blank\">docs</a>)<br/>"
      ],
      "text/plain": [
       "<IPython.core.display.HTML object>"
      ]
     },
     "metadata": {},
     "output_type": "display_data"
    },
    {
     "data": {
      "text/html": [
       " View project at <a href='https://wandb.ai/ronelias-tel-aviv-university/TwoTowerModel_tuning' target=\"_blank\">https://wandb.ai/ronelias-tel-aviv-university/TwoTowerModel_tuning</a>"
      ],
      "text/plain": [
       "<IPython.core.display.HTML object>"
      ]
     },
     "metadata": {},
     "output_type": "display_data"
    },
    {
     "data": {
      "text/html": [
       " View run at <a href='https://wandb.ai/ronelias-tel-aviv-university/TwoTowerModel_tuning/runs/qw857mi0' target=\"_blank\">https://wandb.ai/ronelias-tel-aviv-university/TwoTowerModel_tuning/runs/qw857mi0</a>"
      ],
      "text/plain": [
       "<IPython.core.display.HTML object>"
      ]
     },
     "metadata": {},
     "output_type": "display_data"
    },
    {
     "name": "stderr",
     "output_type": "stream",
     "text": [
      "Epoch 1/20: 100%|██████████| 15685/15685 [02:43<00:00, 95.92it/s]\n",
      "Epoch 2/20: 100%|██████████| 15685/15685 [02:43<00:00, 96.05it/s]\n",
      "Epoch 3/20: 100%|██████████| 15685/15685 [02:43<00:00, 95.99it/s]\n",
      "Epoch 4/20: 100%|██████████| 15685/15685 [02:43<00:00, 95.79it/s]\n",
      "Epoch 5/20: 100%|██████████| 15685/15685 [02:43<00:00, 95.97it/s]\n",
      "Epoch 6/20: 100%|██████████| 15685/15685 [02:43<00:00, 96.01it/s]\n",
      "Epoch 7/20: 100%|██████████| 15685/15685 [02:43<00:00, 95.93it/s]\n",
      "Epoch 8/20: 100%|██████████| 15685/15685 [02:43<00:00, 96.01it/s]\n",
      "Epoch 9/20: 100%|██████████| 15685/15685 [02:43<00:00, 96.04it/s]\n",
      "Epoch 10/20: 100%|██████████| 15685/15685 [02:43<00:00, 95.99it/s]\n",
      "Epoch 11/20: 100%|██████████| 15685/15685 [02:43<00:00, 96.03it/s]\n",
      "Epoch 12/20: 100%|██████████| 15685/15685 [02:43<00:00, 96.01it/s]\n",
      "Epoch 13/20: 100%|██████████| 15685/15685 [02:43<00:00, 96.04it/s]\n",
      "Epoch 14/20: 100%|██████████| 15685/15685 [02:43<00:00, 95.98it/s]\n",
      "Epoch 15/20: 100%|██████████| 15685/15685 [02:43<00:00, 96.01it/s]\n",
      "Epoch 16/20: 100%|██████████| 15685/15685 [02:43<00:00, 95.99it/s]\n",
      "Epoch 17/20: 100%|██████████| 15685/15685 [02:43<00:00, 95.96it/s]\n",
      "Epoch 18/20: 100%|██████████| 15685/15685 [02:43<00:00, 95.98it/s]\n",
      "Epoch 19/20: 100%|██████████| 15685/15685 [02:43<00:00, 96.05it/s]\n",
      "Epoch 20/20: 100%|██████████| 15685/15685 [02:43<00:00, 95.88it/s]\n"
     ]
    },
    {
     "data": {
      "text/html": [
       "<style>\n",
       "    table.wandb td:nth-child(1) { padding: 0 10px; text-align: left ; width: auto;} td:nth-child(2) {text-align: left ; width: 100%}\n",
       "    .wandb-row { display: flex; flex-direction: row; flex-wrap: wrap; justify-content: flex-start; width: 100% }\n",
       "    .wandb-col { display: flex; flex-direction: column; flex-basis: 100%; flex: 1; padding: 10px; }\n",
       "    </style>\n",
       "<div class=\"wandb-row\"><div class=\"wandb-col\"><h3>Run history:</h3><br/><table class=\"wandb\"><tr><td>epoch</td><td>▁▁▂▂▂▃▃▄▄▄▅▅▅▆▆▇▇▇██</td></tr><tr><td>train_loss</td><td>█▁▁▁▁▁▁▁▁▁▁▁▁▁▁▁▁▁▁▁</td></tr><tr><td>val_accuracy</td><td>▄▄▄▆▄▅▅▁▃▂▃▄▅▆█▇▃▂█▄</td></tr><tr><td>val_loss</td><td>▁▁▁▁▁▁▁▁▁▁▁▁▁▁▁▁▁▁▁▁</td></tr></table><br/></div><div class=\"wandb-col\"><h3>Run summary:</h3><br/><table class=\"wandb\"><tr><td>epoch</td><td>20</td></tr><tr><td>train_loss</td><td>0.69315</td></tr><tr><td>val_accuracy</td><td>0.49945</td></tr><tr><td>val_loss</td><td>0.69315</td></tr></table><br/></div></div>"
      ],
      "text/plain": [
       "<IPython.core.display.HTML object>"
      ]
     },
     "metadata": {},
     "output_type": "display_data"
    },
    {
     "data": {
      "text/html": [
       " View run <strong style=\"color:#cdcd00\">elated-breeze-17</strong> at: <a href='https://wandb.ai/ronelias-tel-aviv-university/TwoTowerModel_tuning/runs/qw857mi0' target=\"_blank\">https://wandb.ai/ronelias-tel-aviv-university/TwoTowerModel_tuning/runs/qw857mi0</a><br/> View project at: <a href='https://wandb.ai/ronelias-tel-aviv-university/TwoTowerModel_tuning' target=\"_blank\">https://wandb.ai/ronelias-tel-aviv-university/TwoTowerModel_tuning</a><br/>Synced 6 W&B file(s), 0 media file(s), 0 artifact file(s) and 0 other file(s)"
      ],
      "text/plain": [
       "<IPython.core.display.HTML object>"
      ]
     },
     "metadata": {},
     "output_type": "display_data"
    },
    {
     "data": {
      "text/html": [
       "Find logs at: <code>./wandb/run-20250308_191733-qw857mi0/logs</code>"
      ],
      "text/plain": [
       "<IPython.core.display.HTML object>"
      ]
     },
     "metadata": {},
     "output_type": "display_data"
    },
    {
     "data": {
      "text/html": [
       "The new W&B backend becomes opt-out in version 0.18.0; try it out with `wandb.require(\"core\")`! See https://wandb.me/wandb-core for more information."
      ],
      "text/plain": [
       "<IPython.core.display.HTML object>"
      ]
     },
     "metadata": {},
     "output_type": "display_data"
    },
    {
     "name": "stderr",
     "output_type": "stream",
     "text": [
      "[I 2025-03-08 20:16:46,634] Trial 15 finished with value: 0.693147182436786 and parameters: {'lr': 0.003915597276712221, 'embedding_dim': 127, 'weight_decay': 0.008744723235489787}. Best is trial 12 with value: 0.6931438477474342.\n"
     ]
    },
    {
     "data": {
      "text/html": [
       "wandb version 0.19.8 is available!  To upgrade, please run:\n",
       " $ pip install wandb --upgrade"
      ],
      "text/plain": [
       "<IPython.core.display.HTML object>"
      ]
     },
     "metadata": {},
     "output_type": "display_data"
    },
    {
     "data": {
      "text/html": [
       "Tracking run with wandb version 0.17.2"
      ],
      "text/plain": [
       "<IPython.core.display.HTML object>"
      ]
     },
     "metadata": {},
     "output_type": "display_data"
    },
    {
     "data": {
      "text/html": [
       "Run data is saved locally in <code>/storage/yahlly/RecSys/code/wandb/run-20250308_201646-8x97zmhz</code>"
      ],
      "text/plain": [
       "<IPython.core.display.HTML object>"
      ]
     },
     "metadata": {},
     "output_type": "display_data"
    },
    {
     "data": {
      "text/html": [
       "Syncing run <strong><a href='https://wandb.ai/ronelias-tel-aviv-university/TwoTowerModel_tuning/runs/8x97zmhz' target=\"_blank\">silver-mountain-18</a></strong> to <a href='https://wandb.ai/ronelias-tel-aviv-university/TwoTowerModel_tuning' target=\"_blank\">Weights & Biases</a> (<a href='https://wandb.me/run' target=\"_blank\">docs</a>)<br/>"
      ],
      "text/plain": [
       "<IPython.core.display.HTML object>"
      ]
     },
     "metadata": {},
     "output_type": "display_data"
    },
    {
     "data": {
      "text/html": [
       " View project at <a href='https://wandb.ai/ronelias-tel-aviv-university/TwoTowerModel_tuning' target=\"_blank\">https://wandb.ai/ronelias-tel-aviv-university/TwoTowerModel_tuning</a>"
      ],
      "text/plain": [
       "<IPython.core.display.HTML object>"
      ]
     },
     "metadata": {},
     "output_type": "display_data"
    },
    {
     "data": {
      "text/html": [
       " View run at <a href='https://wandb.ai/ronelias-tel-aviv-university/TwoTowerModel_tuning/runs/8x97zmhz' target=\"_blank\">https://wandb.ai/ronelias-tel-aviv-university/TwoTowerModel_tuning/runs/8x97zmhz</a>"
      ],
      "text/plain": [
       "<IPython.core.display.HTML object>"
      ]
     },
     "metadata": {},
     "output_type": "display_data"
    },
    {
     "name": "stderr",
     "output_type": "stream",
     "text": [
      "Epoch 1/20: 100%|██████████| 15685/15685 [02:42<00:00, 96.57it/s]\n"
     ]
    },
    {
     "data": {
      "text/html": [
       "<style>\n",
       "    table.wandb td:nth-child(1) { padding: 0 10px; text-align: left ; width: auto;} td:nth-child(2) {text-align: left ; width: 100%}\n",
       "    .wandb-row { display: flex; flex-direction: row; flex-wrap: wrap; justify-content: flex-start; width: 100% }\n",
       "    .wandb-col { display: flex; flex-direction: column; flex-basis: 100%; flex: 1; padding: 10px; }\n",
       "    </style>\n",
       "<div class=\"wandb-row\"><div class=\"wandb-col\"><h3>Run history:</h3><br/><table class=\"wandb\"><tr><td>epoch</td><td>▁</td></tr><tr><td>train_loss</td><td>▁</td></tr><tr><td>val_accuracy</td><td>▁</td></tr><tr><td>val_loss</td><td>▁</td></tr></table><br/></div><div class=\"wandb-col\"><h3>Run summary:</h3><br/><table class=\"wandb\"><tr><td>epoch</td><td>1</td></tr><tr><td>train_loss</td><td>0.55972</td></tr><tr><td>val_accuracy</td><td>0.50187</td></tr><tr><td>val_loss</td><td>0.93831</td></tr></table><br/></div></div>"
      ],
      "text/plain": [
       "<IPython.core.display.HTML object>"
      ]
     },
     "metadata": {},
     "output_type": "display_data"
    },
    {
     "data": {
      "text/html": [
       " View run <strong style=\"color:#cdcd00\">silver-mountain-18</strong> at: <a href='https://wandb.ai/ronelias-tel-aviv-university/TwoTowerModel_tuning/runs/8x97zmhz' target=\"_blank\">https://wandb.ai/ronelias-tel-aviv-university/TwoTowerModel_tuning/runs/8x97zmhz</a><br/> View project at: <a href='https://wandb.ai/ronelias-tel-aviv-university/TwoTowerModel_tuning' target=\"_blank\">https://wandb.ai/ronelias-tel-aviv-university/TwoTowerModel_tuning</a><br/>Synced 6 W&B file(s), 0 media file(s), 0 artifact file(s) and 0 other file(s)"
      ],
      "text/plain": [
       "<IPython.core.display.HTML object>"
      ]
     },
     "metadata": {},
     "output_type": "display_data"
    },
    {
     "data": {
      "text/html": [
       "Find logs at: <code>./wandb/run-20250308_201646-8x97zmhz/logs</code>"
      ],
      "text/plain": [
       "<IPython.core.display.HTML object>"
      ]
     },
     "metadata": {},
     "output_type": "display_data"
    },
    {
     "data": {
      "text/html": [
       "The new W&B backend becomes opt-out in version 0.18.0; try it out with `wandb.require(\"core\")`! See https://wandb.me/wandb-core for more information."
      ],
      "text/plain": [
       "<IPython.core.display.HTML object>"
      ]
     },
     "metadata": {},
     "output_type": "display_data"
    },
    {
     "name": "stderr",
     "output_type": "stream",
     "text": [
      "[I 2025-03-08 20:19:52,832] Trial 16 pruned. \n"
     ]
    },
    {
     "data": {
      "text/html": [
       "wandb version 0.19.8 is available!  To upgrade, please run:\n",
       " $ pip install wandb --upgrade"
      ],
      "text/plain": [
       "<IPython.core.display.HTML object>"
      ]
     },
     "metadata": {},
     "output_type": "display_data"
    },
    {
     "data": {
      "text/html": [
       "Tracking run with wandb version 0.17.2"
      ],
      "text/plain": [
       "<IPython.core.display.HTML object>"
      ]
     },
     "metadata": {},
     "output_type": "display_data"
    },
    {
     "data": {
      "text/html": [
       "Run data is saved locally in <code>/storage/yahlly/RecSys/code/wandb/run-20250308_201952-ft58v99c</code>"
      ],
      "text/plain": [
       "<IPython.core.display.HTML object>"
      ]
     },
     "metadata": {},
     "output_type": "display_data"
    },
    {
     "data": {
      "text/html": [
       "Syncing run <strong><a href='https://wandb.ai/ronelias-tel-aviv-university/TwoTowerModel_tuning/runs/ft58v99c' target=\"_blank\">glad-leaf-19</a></strong> to <a href='https://wandb.ai/ronelias-tel-aviv-university/TwoTowerModel_tuning' target=\"_blank\">Weights & Biases</a> (<a href='https://wandb.me/run' target=\"_blank\">docs</a>)<br/>"
      ],
      "text/plain": [
       "<IPython.core.display.HTML object>"
      ]
     },
     "metadata": {},
     "output_type": "display_data"
    },
    {
     "data": {
      "text/html": [
       " View project at <a href='https://wandb.ai/ronelias-tel-aviv-university/TwoTowerModel_tuning' target=\"_blank\">https://wandb.ai/ronelias-tel-aviv-university/TwoTowerModel_tuning</a>"
      ],
      "text/plain": [
       "<IPython.core.display.HTML object>"
      ]
     },
     "metadata": {},
     "output_type": "display_data"
    },
    {
     "data": {
      "text/html": [
       " View run at <a href='https://wandb.ai/ronelias-tel-aviv-university/TwoTowerModel_tuning/runs/ft58v99c' target=\"_blank\">https://wandb.ai/ronelias-tel-aviv-university/TwoTowerModel_tuning/runs/ft58v99c</a>"
      ],
      "text/plain": [
       "<IPython.core.display.HTML object>"
      ]
     },
     "metadata": {},
     "output_type": "display_data"
    },
    {
     "name": "stderr",
     "output_type": "stream",
     "text": [
      "Epoch 1/20: 100%|██████████| 15685/15685 [02:43<00:00, 96.15it/s]\n"
     ]
    },
    {
     "data": {
      "text/html": [
       "<style>\n",
       "    table.wandb td:nth-child(1) { padding: 0 10px; text-align: left ; width: auto;} td:nth-child(2) {text-align: left ; width: 100%}\n",
       "    .wandb-row { display: flex; flex-direction: row; flex-wrap: wrap; justify-content: flex-start; width: 100% }\n",
       "    .wandb-col { display: flex; flex-direction: column; flex-basis: 100%; flex: 1; padding: 10px; }\n",
       "    </style>\n",
       "<div class=\"wandb-row\"><div class=\"wandb-col\"><h3>Run history:</h3><br/><table class=\"wandb\"><tr><td>epoch</td><td>▁</td></tr><tr><td>train_loss</td><td>▁</td></tr><tr><td>val_accuracy</td><td>▁</td></tr><tr><td>val_loss</td><td>▁</td></tr></table><br/></div><div class=\"wandb-col\"><h3>Run summary:</h3><br/><table class=\"wandb\"><tr><td>epoch</td><td>1</td></tr><tr><td>train_loss</td><td>0.29773</td></tr><tr><td>val_accuracy</td><td>0.50063</td></tr><tr><td>val_loss</td><td>1.46838</td></tr></table><br/></div></div>"
      ],
      "text/plain": [
       "<IPython.core.display.HTML object>"
      ]
     },
     "metadata": {},
     "output_type": "display_data"
    },
    {
     "data": {
      "text/html": [
       " View run <strong style=\"color:#cdcd00\">glad-leaf-19</strong> at: <a href='https://wandb.ai/ronelias-tel-aviv-university/TwoTowerModel_tuning/runs/ft58v99c' target=\"_blank\">https://wandb.ai/ronelias-tel-aviv-university/TwoTowerModel_tuning/runs/ft58v99c</a><br/> View project at: <a href='https://wandb.ai/ronelias-tel-aviv-university/TwoTowerModel_tuning' target=\"_blank\">https://wandb.ai/ronelias-tel-aviv-university/TwoTowerModel_tuning</a><br/>Synced 6 W&B file(s), 0 media file(s), 0 artifact file(s) and 0 other file(s)"
      ],
      "text/plain": [
       "<IPython.core.display.HTML object>"
      ]
     },
     "metadata": {},
     "output_type": "display_data"
    },
    {
     "data": {
      "text/html": [
       "Find logs at: <code>./wandb/run-20250308_201952-ft58v99c/logs</code>"
      ],
      "text/plain": [
       "<IPython.core.display.HTML object>"
      ]
     },
     "metadata": {},
     "output_type": "display_data"
    },
    {
     "data": {
      "text/html": [
       "The new W&B backend becomes opt-out in version 0.18.0; try it out with `wandb.require(\"core\")`! See https://wandb.me/wandb-core for more information."
      ],
      "text/plain": [
       "<IPython.core.display.HTML object>"
      ]
     },
     "metadata": {},
     "output_type": "display_data"
    },
    {
     "name": "stderr",
     "output_type": "stream",
     "text": [
      "[I 2025-03-08 20:23:01,328] Trial 17 pruned. \n"
     ]
    },
    {
     "data": {
      "text/html": [
       "wandb version 0.19.8 is available!  To upgrade, please run:\n",
       " $ pip install wandb --upgrade"
      ],
      "text/plain": [
       "<IPython.core.display.HTML object>"
      ]
     },
     "metadata": {},
     "output_type": "display_data"
    },
    {
     "data": {
      "text/html": [
       "Tracking run with wandb version 0.17.2"
      ],
      "text/plain": [
       "<IPython.core.display.HTML object>"
      ]
     },
     "metadata": {},
     "output_type": "display_data"
    },
    {
     "data": {
      "text/html": [
       "Run data is saved locally in <code>/storage/yahlly/RecSys/code/wandb/run-20250308_202301-z0f5z8l3</code>"
      ],
      "text/plain": [
       "<IPython.core.display.HTML object>"
      ]
     },
     "metadata": {},
     "output_type": "display_data"
    },
    {
     "data": {
      "text/html": [
       "Syncing run <strong><a href='https://wandb.ai/ronelias-tel-aviv-university/TwoTowerModel_tuning/runs/z0f5z8l3' target=\"_blank\">different-forest-20</a></strong> to <a href='https://wandb.ai/ronelias-tel-aviv-university/TwoTowerModel_tuning' target=\"_blank\">Weights & Biases</a> (<a href='https://wandb.me/run' target=\"_blank\">docs</a>)<br/>"
      ],
      "text/plain": [
       "<IPython.core.display.HTML object>"
      ]
     },
     "metadata": {},
     "output_type": "display_data"
    },
    {
     "data": {
      "text/html": [
       " View project at <a href='https://wandb.ai/ronelias-tel-aviv-university/TwoTowerModel_tuning' target=\"_blank\">https://wandb.ai/ronelias-tel-aviv-university/TwoTowerModel_tuning</a>"
      ],
      "text/plain": [
       "<IPython.core.display.HTML object>"
      ]
     },
     "metadata": {},
     "output_type": "display_data"
    },
    {
     "data": {
      "text/html": [
       " View run at <a href='https://wandb.ai/ronelias-tel-aviv-university/TwoTowerModel_tuning/runs/z0f5z8l3' target=\"_blank\">https://wandb.ai/ronelias-tel-aviv-university/TwoTowerModel_tuning/runs/z0f5z8l3</a>"
      ],
      "text/plain": [
       "<IPython.core.display.HTML object>"
      ]
     },
     "metadata": {},
     "output_type": "display_data"
    },
    {
     "name": "stderr",
     "output_type": "stream",
     "text": [
      "Epoch 1/20: 100%|██████████| 15685/15685 [02:43<00:00, 95.98it/s]\n",
      "Epoch 2/20: 100%|██████████| 15685/15685 [02:42<00:00, 96.25it/s]\n",
      "Epoch 3/20: 100%|██████████| 15685/15685 [02:43<00:00, 96.18it/s]\n",
      "Epoch 4/20: 100%|██████████| 15685/15685 [02:43<00:00, 96.19it/s]\n",
      "Epoch 5/20: 100%|██████████| 15685/15685 [02:42<00:00, 96.23it/s]\n",
      "Epoch 6/20: 100%|██████████| 15685/15685 [02:43<00:00, 96.15it/s]\n",
      "Epoch 7/20: 100%|██████████| 15685/15685 [02:43<00:00, 95.97it/s]\n",
      "Epoch 8/20: 100%|██████████| 15685/15685 [02:43<00:00, 96.22it/s]\n",
      "Epoch 9/20: 100%|██████████| 15685/15685 [02:43<00:00, 96.15it/s]\n",
      "Epoch 10/20: 100%|██████████| 15685/15685 [02:42<00:00, 96.25it/s]\n",
      "Epoch 11/20: 100%|██████████| 15685/15685 [02:43<00:00, 96.18it/s]\n",
      "Epoch 12/20: 100%|██████████| 15685/15685 [02:42<00:00, 96.27it/s]\n",
      "Epoch 13/20: 100%|██████████| 15685/15685 [02:42<00:00, 96.31it/s]\n",
      "Epoch 14/20: 100%|██████████| 15685/15685 [02:42<00:00, 96.24it/s]\n",
      "Epoch 15/20: 100%|██████████| 15685/15685 [02:43<00:00, 96.06it/s]\n",
      "Epoch 16/20: 100%|██████████| 15685/15685 [02:42<00:00, 96.43it/s]\n",
      "Epoch 17/20: 100%|██████████| 15685/15685 [02:42<00:00, 96.36it/s]\n",
      "Epoch 18/20: 100%|██████████| 15685/15685 [02:42<00:00, 96.26it/s]\n",
      "Epoch 19/20: 100%|██████████| 15685/15685 [02:42<00:00, 96.32it/s]\n",
      "Epoch 20/20: 100%|██████████| 15685/15685 [02:43<00:00, 96.19it/s]\n"
     ]
    },
    {
     "data": {
      "text/html": [
       "<style>\n",
       "    table.wandb td:nth-child(1) { padding: 0 10px; text-align: left ; width: auto;} td:nth-child(2) {text-align: left ; width: 100%}\n",
       "    .wandb-row { display: flex; flex-direction: row; flex-wrap: wrap; justify-content: flex-start; width: 100% }\n",
       "    .wandb-col { display: flex; flex-direction: column; flex-basis: 100%; flex: 1; padding: 10px; }\n",
       "    </style>\n",
       "<div class=\"wandb-row\"><div class=\"wandb-col\"><h3>Run history:</h3><br/><table class=\"wandb\"><tr><td>epoch</td><td>▁▁▂▂▂▃▃▄▄▄▅▅▅▆▆▇▇▇██</td></tr><tr><td>train_loss</td><td>▁▃▁█▂▄▁▆▁▁▂▁▃▂▁▂▁▂▂▁</td></tr><tr><td>val_accuracy</td><td>▄▇▂▅▆▆▃█▃▃▄▁▃▄▄▄▄▄▅▆</td></tr><tr><td>val_loss</td><td>▁▁▁▂▁▆▁█▁▁▁▁▁▃▁▁▁▁▃▁</td></tr></table><br/></div><div class=\"wandb-col\"><h3>Run summary:</h3><br/><table class=\"wandb\"><tr><td>epoch</td><td>20</td></tr><tr><td>train_loss</td><td>0.68817</td></tr><tr><td>val_accuracy</td><td>0.50099</td></tr><tr><td>val_loss</td><td>0.69315</td></tr></table><br/></div></div>"
      ],
      "text/plain": [
       "<IPython.core.display.HTML object>"
      ]
     },
     "metadata": {},
     "output_type": "display_data"
    },
    {
     "data": {
      "text/html": [
       " View run <strong style=\"color:#cdcd00\">different-forest-20</strong> at: <a href='https://wandb.ai/ronelias-tel-aviv-university/TwoTowerModel_tuning/runs/z0f5z8l3' target=\"_blank\">https://wandb.ai/ronelias-tel-aviv-university/TwoTowerModel_tuning/runs/z0f5z8l3</a><br/> View project at: <a href='https://wandb.ai/ronelias-tel-aviv-university/TwoTowerModel_tuning' target=\"_blank\">https://wandb.ai/ronelias-tel-aviv-university/TwoTowerModel_tuning</a><br/>Synced 6 W&B file(s), 0 media file(s), 0 artifact file(s) and 0 other file(s)"
      ],
      "text/plain": [
       "<IPython.core.display.HTML object>"
      ]
     },
     "metadata": {},
     "output_type": "display_data"
    },
    {
     "data": {
      "text/html": [
       "Find logs at: <code>./wandb/run-20250308_202301-z0f5z8l3/logs</code>"
      ],
      "text/plain": [
       "<IPython.core.display.HTML object>"
      ]
     },
     "metadata": {},
     "output_type": "display_data"
    },
    {
     "data": {
      "text/html": [
       "The new W&B backend becomes opt-out in version 0.18.0; try it out with `wandb.require(\"core\")`! See https://wandb.me/wandb-core for more information."
      ],
      "text/plain": [
       "<IPython.core.display.HTML object>"
      ]
     },
     "metadata": {},
     "output_type": "display_data"
    },
    {
     "name": "stderr",
     "output_type": "stream",
     "text": [
      "[I 2025-03-08 21:22:08,050] Trial 18 finished with value: 0.6931470849777681 and parameters: {'lr': 0.003997713255968757, 'embedding_dim': 115, 'weight_decay': 0.0019720856481734218}. Best is trial 12 with value: 0.6931438477474342.\n"
     ]
    },
    {
     "data": {
      "text/html": [
       "wandb version 0.19.8 is available!  To upgrade, please run:\n",
       " $ pip install wandb --upgrade"
      ],
      "text/plain": [
       "<IPython.core.display.HTML object>"
      ]
     },
     "metadata": {},
     "output_type": "display_data"
    },
    {
     "data": {
      "text/html": [
       "Tracking run with wandb version 0.17.2"
      ],
      "text/plain": [
       "<IPython.core.display.HTML object>"
      ]
     },
     "metadata": {},
     "output_type": "display_data"
    },
    {
     "data": {
      "text/html": [
       "Run data is saved locally in <code>/storage/yahlly/RecSys/code/wandb/run-20250308_212208-nkvldzsh</code>"
      ],
      "text/plain": [
       "<IPython.core.display.HTML object>"
      ]
     },
     "metadata": {},
     "output_type": "display_data"
    },
    {
     "data": {
      "text/html": [
       "Syncing run <strong><a href='https://wandb.ai/ronelias-tel-aviv-university/TwoTowerModel_tuning/runs/nkvldzsh' target=\"_blank\">charmed-energy-21</a></strong> to <a href='https://wandb.ai/ronelias-tel-aviv-university/TwoTowerModel_tuning' target=\"_blank\">Weights & Biases</a> (<a href='https://wandb.me/run' target=\"_blank\">docs</a>)<br/>"
      ],
      "text/plain": [
       "<IPython.core.display.HTML object>"
      ]
     },
     "metadata": {},
     "output_type": "display_data"
    },
    {
     "data": {
      "text/html": [
       " View project at <a href='https://wandb.ai/ronelias-tel-aviv-university/TwoTowerModel_tuning' target=\"_blank\">https://wandb.ai/ronelias-tel-aviv-university/TwoTowerModel_tuning</a>"
      ],
      "text/plain": [
       "<IPython.core.display.HTML object>"
      ]
     },
     "metadata": {},
     "output_type": "display_data"
    },
    {
     "data": {
      "text/html": [
       " View run at <a href='https://wandb.ai/ronelias-tel-aviv-university/TwoTowerModel_tuning/runs/nkvldzsh' target=\"_blank\">https://wandb.ai/ronelias-tel-aviv-university/TwoTowerModel_tuning/runs/nkvldzsh</a>"
      ],
      "text/plain": [
       "<IPython.core.display.HTML object>"
      ]
     },
     "metadata": {},
     "output_type": "display_data"
    },
    {
     "name": "stderr",
     "output_type": "stream",
     "text": [
      "Epoch 1/20: 100%|██████████| 15685/15685 [02:42<00:00, 96.79it/s]\n"
     ]
    },
    {
     "data": {
      "text/html": [
       "<style>\n",
       "    table.wandb td:nth-child(1) { padding: 0 10px; text-align: left ; width: auto;} td:nth-child(2) {text-align: left ; width: 100%}\n",
       "    .wandb-row { display: flex; flex-direction: row; flex-wrap: wrap; justify-content: flex-start; width: 100% }\n",
       "    .wandb-col { display: flex; flex-direction: column; flex-basis: 100%; flex: 1; padding: 10px; }\n",
       "    </style>\n",
       "<div class=\"wandb-row\"><div class=\"wandb-col\"><h3>Run history:</h3><br/><table class=\"wandb\"><tr><td>epoch</td><td>▁</td></tr><tr><td>train_loss</td><td>▁</td></tr><tr><td>val_accuracy</td><td>▁</td></tr><tr><td>val_loss</td><td>▁</td></tr></table><br/></div><div class=\"wandb-col\"><h3>Run summary:</h3><br/><table class=\"wandb\"><tr><td>epoch</td><td>1</td></tr><tr><td>train_loss</td><td>0.63389</td></tr><tr><td>val_accuracy</td><td>0.5012</td></tr><tr><td>val_loss</td><td>0.76087</td></tr></table><br/></div></div>"
      ],
      "text/plain": [
       "<IPython.core.display.HTML object>"
      ]
     },
     "metadata": {},
     "output_type": "display_data"
    },
    {
     "data": {
      "text/html": [
       " View run <strong style=\"color:#cdcd00\">charmed-energy-21</strong> at: <a href='https://wandb.ai/ronelias-tel-aviv-university/TwoTowerModel_tuning/runs/nkvldzsh' target=\"_blank\">https://wandb.ai/ronelias-tel-aviv-university/TwoTowerModel_tuning/runs/nkvldzsh</a><br/> View project at: <a href='https://wandb.ai/ronelias-tel-aviv-university/TwoTowerModel_tuning' target=\"_blank\">https://wandb.ai/ronelias-tel-aviv-university/TwoTowerModel_tuning</a><br/>Synced 6 W&B file(s), 0 media file(s), 0 artifact file(s) and 0 other file(s)"
      ],
      "text/plain": [
       "<IPython.core.display.HTML object>"
      ]
     },
     "metadata": {},
     "output_type": "display_data"
    },
    {
     "data": {
      "text/html": [
       "Find logs at: <code>./wandb/run-20250308_212208-nkvldzsh/logs</code>"
      ],
      "text/plain": [
       "<IPython.core.display.HTML object>"
      ]
     },
     "metadata": {},
     "output_type": "display_data"
    },
    {
     "data": {
      "text/html": [
       "The new W&B backend becomes opt-out in version 0.18.0; try it out with `wandb.require(\"core\")`! See https://wandb.me/wandb-core for more information."
      ],
      "text/plain": [
       "<IPython.core.display.HTML object>"
      ]
     },
     "metadata": {},
     "output_type": "display_data"
    },
    {
     "name": "stderr",
     "output_type": "stream",
     "text": [
      "[I 2025-03-08 21:25:14,212] Trial 19 pruned. \n"
     ]
    },
    {
     "name": "stdout",
     "output_type": "stream",
     "text": [
      "Best trial:\n",
      "{'lr': 0.009254651603008139, 'embedding_dim': 103, 'weight_decay': 0.009452317834358981}\n"
     ]
    }
   ],
   "source": [
    "import torch\n",
    "import torch.nn as nn\n",
    "import torch.optim as optim\n",
    "import torch.nn.functional as F\n",
    "from tqdm import tqdm\n",
    "import optuna\n",
    "import wandb\n",
    "\n",
    "# Assume these are defined elsewhere: TwoTowerModel, BPRLoss, train_loader, val_loader,\n",
    "# padded_user_interactions, user_interaction_mask, item_embeddings_tensor,\n",
    "# num_users, num_items, ITEM_FEATURE_DIM, and device\n",
    "\n",
    "# Define the objective function for Optuna\n",
    "def objective(trial):\n",
    "    # Sample hyperparameters\n",
    "    lr = trial.suggest_float(\"lr\", 1e-5, 1e-2, log=True)\n",
    "    embedding_dim = trial.suggest_int(\"embedding_dim\", 16, 128)\n",
    "    weight_decay = trial.suggest_float(\"weight_decay\", 1e-6, 1e-2, log=True)\n",
    "    epochs = 20  # fixed for now\n",
    "    \n",
    "    # Initialize Weights & Biases for monitoring\n",
    "    wandb.init(project=\"TwoTowerModel_tuning\", config={\n",
    "        \"lr\": lr,\n",
    "        \"embedding_dim\": embedding_dim,\n",
    "        \"weight_decay\": weight_decay,\n",
    "        \"epochs\": epochs,\n",
    "    }, reinit=True)\n",
    "    \n",
    "    # Initialize model, loss, optimizer with sampled hyperparameters\n",
    "    model = TwoTowerModel(num_users, num_items, embedding_dim, ITEM_FEATURE_DIM).to(device)\n",
    "    criterion = BPRLoss()\n",
    "    optimizer = optim.Adam(model.parameters(), lr=lr, weight_decay=weight_decay)\n",
    "    \n",
    "    best_val_loss = float(\"inf\")\n",
    "    \n",
    "    # Training & validation loop\n",
    "    for epoch in range(epochs):\n",
    "        model.train()\n",
    "        train_loss = 0\n",
    "        \n",
    "        for user_ids, item1_ids, item2_ids, labels in tqdm(train_loader, desc=f\"Epoch {epoch+1}/{epochs}\"):\n",
    "            user_ids = user_ids.to(device)\n",
    "            item1_ids = item1_ids.to(device)\n",
    "            item2_ids = item2_ids.to(device)\n",
    "            labels = labels.to(device)\n",
    "            \n",
    "            optimizer.zero_grad()\n",
    "            user_embed, item1_embed, item2_embed = model(user_ids, item1_ids, item2_ids)\n",
    "            loss = criterion(user_embed, item1_ids, item1_embed, item2_ids, item2_embed, labels)\n",
    "            train_loss += loss.item()\n",
    "            loss.backward()\n",
    "            optimizer.step()\n",
    "        train_loss /= len(train_loader)\n",
    "        \n",
    "        # Validation\n",
    "        model.eval()\n",
    "        val_loss = 0\n",
    "        correct = 0\n",
    "        total = 0\n",
    "        with torch.no_grad():\n",
    "            for user_ids, item1_ids, item2_ids, labels in val_loader:\n",
    "                user_ids = user_ids.to(device)\n",
    "                item1_ids = item1_ids.to(device)\n",
    "                item2_ids = item2_ids.to(device)\n",
    "                labels = labels.to(device)\n",
    "                \n",
    "                user_embed, item1_embed, item2_embed = model(user_ids, item1_ids, item2_ids)\n",
    "                loss = criterion(user_embed, item1_ids, item1_embed, item2_ids, item2_embed, labels)\n",
    "                val_loss += loss.item()\n",
    "                \n",
    "                # Calculate scores and accuracy\n",
    "                score1 = (user_embed * item1_embed).sum(dim=1)\n",
    "                score2 = (user_embed * item2_embed).sum(dim=1)\n",
    "                labels_binary = (labels == item1_ids).float()\n",
    "                pos_scores = torch.where(labels_binary == 1, score1, score2)\n",
    "                neg_scores = torch.where(labels_binary == 1, score2, score1)\n",
    "                predictions = pos_scores > neg_scores\n",
    "                correct += predictions.sum().item()\n",
    "                total += predictions.shape[0]\n",
    "        val_loss /= len(val_loader)\n",
    "        val_accuracy = correct / total\n",
    "        \n",
    "        # Log metrics to wandb\n",
    "        wandb.log({\n",
    "            \"epoch\": epoch+1,\n",
    "            \"train_loss\": train_loss,\n",
    "            \"val_loss\": val_loss,\n",
    "            \"val_accuracy\": val_accuracy,\n",
    "        })\n",
    "        \n",
    "        # Report intermediate objective value to Optuna\n",
    "        trial.report(val_loss, epoch)\n",
    "        if trial.should_prune():\n",
    "            wandb.finish()\n",
    "            raise optuna.exceptions.TrialPruned()\n",
    "        \n",
    "        if val_loss < best_val_loss:\n",
    "            best_val_loss = val_loss\n",
    "    \n",
    "    wandb.finish()\n",
    "    return best_val_loss\n",
    "\n",
    "# Create and run the Optuna study\n",
    "study = optuna.create_study(direction=\"minimize\")\n",
    "study.optimize(objective, n_trials=20)\n",
    "\n",
    "print(\"Best trial:\")\n",
    "trial = study.best_trial\n",
    "print(trial.params)\n"
   ]
  },
  {
   "cell_type": "markdown",
   "id": "eace4db1-603b-4ce7-a916-25009f6bc3d4",
   "metadata": {},
   "source": [
    "##### PREDICT ON COLD ITEMS"
   ]
  },
  {
   "cell_type": "code",
   "execution_count": null,
   "id": "9c269b76-b8e2-4796-826c-eb9941b72200",
   "metadata": {},
   "outputs": [],
   "source": []
  }
 ],
 "metadata": {
  "kernelspec": {
   "display_name": "Python 3 (ipykernel)",
   "language": "python",
   "name": "python3"
  },
  "language_info": {
   "codemirror_mode": {
    "name": "ipython",
    "version": 3
   },
   "file_extension": ".py",
   "mimetype": "text/x-python",
   "name": "python",
   "nbconvert_exporter": "python",
   "pygments_lexer": "ipython3",
   "version": "3.10.14"
  }
 },
 "nbformat": 4,
 "nbformat_minor": 5
}
